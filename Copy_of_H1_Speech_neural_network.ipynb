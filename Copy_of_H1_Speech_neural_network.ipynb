{
  "nbformat": 4,
  "nbformat_minor": 0,
  "metadata": {
    "colab": {
      "name": "Copy of H1 - Speech_neural network.ipynb",
      "provenance": [],
      "collapsed_sections": [],
      "include_colab_link": true
    },
    "kernelspec": {
      "display_name": "Python 3",
      "name": "python3"
    },
    "language_info": {
      "name": "python"
    },
    "accelerator": "GPU"
  },
  "cells": [
    {
      "cell_type": "markdown",
      "metadata": {
        "id": "view-in-github",
        "colab_type": "text"
      },
      "source": [
        "<a href=\"https://colab.research.google.com/github/tanuja200/PGCPtest/blob/main/Copy_of_H1_Speech_neural_network.ipynb\" target=\"_parent\"><img src=\"https://colab.research.google.com/assets/colab-badge.svg\" alt=\"Open In Colab\"/></a>"
      ]
    },
    {
      "cell_type": "code",
      "metadata": {
        "colab": {
          "base_uri": "https://localhost:8080/"
        },
        "id": "KXiQRc5QOpUJ",
        "outputId": "f979f168-499a-42e8-fd4a-e09287cc4f6c"
      },
      "source": [
        "!wget https://cdn.iiith.talentsprint.com/aiml/Hackathon_data/studio_rev_data_01.zip\n",
        "!unzip -qq studio_rev_data_01.zip "
      ],
      "execution_count": null,
      "outputs": [
        {
          "output_type": "stream",
          "text": [
            "--2021-07-30 05:47:04--  https://cdn.iiith.talentsprint.com/aiml/Hackathon_data/studio_rev_data_01.zip\n",
            "Resolving cdn.iiith.talentsprint.com (cdn.iiith.talentsprint.com)... 172.105.52.210\n",
            "Connecting to cdn.iiith.talentsprint.com (cdn.iiith.talentsprint.com)|172.105.52.210|:443... connected.\n",
            "HTTP request sent, awaiting response... 200 OK\n",
            "Length: 61767991 (59M) [application/zip]\n",
            "Saving to: ‘studio_rev_data_01.zip’\n",
            "\n",
            "studio_rev_data_01. 100%[===================>]  58.91M  7.65MB/s    in 9.8s    \n",
            "\n",
            "2021-07-30 05:47:15 (5.98 MB/s) - ‘studio_rev_data_01.zip’ saved [61767991/61767991]\n",
            "\n"
          ],
          "name": "stdout"
        }
      ]
    },
    {
      "cell_type": "code",
      "metadata": {
        "id": "qXacCUorPDYV"
      },
      "source": [
        "import scipy.io as sio\n",
        "import os\n",
        "# Importing torch packages\n",
        "import torch\n",
        "import torch.nn as nn      \n",
        "import torch.nn.functional as F\n",
        "import torch.optim as optim\n",
        "\n",
        "# Importing python packages\n",
        "import numpy as np\n",
        "\n",
        "# Import glob to perform pattern matching to find files\n",
        "import glob\n",
        "from torch.autograd import Variable\n",
        "\n",
        "import librosa"
      ],
      "execution_count": null,
      "outputs": []
    },
    {
      "cell_type": "markdown",
      "metadata": {
        "id": "oBB_kKkfqJJ8"
      },
      "source": [
        "Feature extraction method 3"
      ]
    },
    {
      "cell_type": "code",
      "metadata": {
        "id": "7KayINTImstO",
        "colab": {
          "base_uri": "https://localhost:8080/"
        },
        "outputId": "463e7132-7cf6-4e7f-a3ca-61d52f1b1aae"
      },
      "source": [
        "def extract_feature(file_name, mfcc, chroma, mel):\n",
        "    with soundfile.SoundFile(file_name) as sound_file:\n",
        "        X = sound_file.read(dtype=\"float32\")\n",
        "        sample_rate = sound_file.samplerate\n",
        "       \n",
        "        if chroma:\n",
        "            stft=np.abs(librosa.stft(X))\n",
        "        result=np.array([])\n",
        "        if mfcc:\n",
        "            mfccs=np.mean(librosa.feature.mfcc(y=X, sr=sample_rate, n_mfcc=40).T, axis=0)\n",
        "            result=np.hstack((result, mfccs))\n",
        "        if chroma:\n",
        "            chroma=np.mean(librosa.feature.chroma_stft(S=stft, sr=sample_rate).T,axis=0)\n",
        "            result=np.hstack((result, chroma))\n",
        "        if mel:\n",
        "            mel=np.mean(librosa.feature.melspectrogram(X, sr=sample_rate).T,axis=0)\n",
        "            result=np.hstack((result, mel))\n",
        "    return result\n",
        "\n",
        "audio_labels = [0, 1, 2, 3, 4, 5]\n",
        "\n",
        "def load_data_1():\n",
        "    \n",
        "    x,y, z=[],[], []\n",
        "  \n",
        "    for file in glob.glob(\"/content/studio_data/*.wav\", recursive=True):\n",
        "        \n",
        "      file_name=os.path.basename(file)\n",
        "      \n",
        "        #emotion = emotions[file_name.split(\"-\")[2]]\n",
        "      labels = (int((file_name.split(\"/\")[-1]).split(\"_\")[0]))\n",
        "      if labels in audio_labels:\n",
        "          feature=extract_feature(file, mfcc=True, chroma=True, mel=True)\n",
        "          x.append(feature)\n",
        "          y.append(labels)\n",
        "          z.append(file_name)\n",
        "    return x, y, z\n",
        "\n",
        "import soundfile\n",
        "x, y, z= load_data_1()"
      ],
      "execution_count": null,
      "outputs": [
        {
          "output_type": "stream",
          "text": [
            "/usr/local/lib/python3.7/dist-packages/librosa/core/pitch.py:153: UserWarning: Trying to estimate tuning from empty frequency set.\n",
            "  warnings.warn(\"Trying to estimate tuning from empty frequency set.\")\n"
          ],
          "name": "stderr"
        }
      ]
    },
    {
      "cell_type": "markdown",
      "metadata": {
        "id": "qa8xkPEfPX4a"
      },
      "source": [
        "SKLEARN Classifier\n"
      ]
    },
    {
      "cell_type": "code",
      "metadata": {
        "id": "yhvSnT-HFEuj"
      },
      "source": [
        "features = np.array(x)\n",
        "labels = np.array(y)"
      ],
      "execution_count": null,
      "outputs": []
    },
    {
      "cell_type": "code",
      "metadata": {
        "colab": {
          "base_uri": "https://localhost:8080/"
        },
        "id": "Iml-lSDmyfyP",
        "outputId": "65d116a7-1e8a-4b19-c83e-e575a70ee7f3"
      },
      "source": [
        "features.shape"
      ],
      "execution_count": null,
      "outputs": [
        {
          "output_type": "execute_result",
          "data": {
            "text/plain": [
              "(3979, 180)"
            ]
          },
          "metadata": {
            "tags": []
          },
          "execution_count": 21
        }
      ]
    },
    {
      "cell_type": "code",
      "metadata": {
        "colab": {
          "base_uri": "https://localhost:8080/"
        },
        "id": "JIxrNW0kOGnm",
        "outputId": "7c079ff0-45c8-425a-9a9a-8c560fe6d903"
      },
      "source": [
        "from sklearn.preprocessing import LabelEncoder\n",
        "lb = LabelEncoder()\n",
        "labels = lb.fit_transform(labels)\n",
        "lb.classes_\n"
      ],
      "execution_count": null,
      "outputs": [
        {
          "output_type": "execute_result",
          "data": {
            "text/plain": [
              "array([0, 1, 2, 3, 4, 5])"
            ]
          },
          "metadata": {
            "tags": []
          },
          "execution_count": 22
        }
      ]
    },
    {
      "cell_type": "code",
      "metadata": {
        "id": "yuwhlaMD-jh0"
      },
      "source": [
        "from sklearn.preprocessing import StandardScaler\n",
        "scaler = StandardScaler()\n",
        "features = scaler.fit_transform(features)"
      ],
      "execution_count": null,
      "outputs": []
    },
    {
      "cell_type": "code",
      "metadata": {
        "id": "bmZWid47pkPN"
      },
      "source": [
        "# NORMALIZE DATA\n",
        "#mean = np.mean(features, axis=0)\n",
        "#std = np.std(features, axis=0)\n",
        "#features = (features - mean)/std"
      ],
      "execution_count": null,
      "outputs": []
    },
    {
      "cell_type": "code",
      "metadata": {
        "id": "_FUreImQ_b-W"
      },
      "source": [
        "from sklearn.model_selection import train_test_split\n",
        "X_train, X_test, y_train, y_test = train_test_split(features, labels, test_size = 0.2, random_state=42, shuffle=False)"
      ],
      "execution_count": null,
      "outputs": []
    },
    {
      "cell_type": "code",
      "metadata": {
        "colab": {
          "base_uri": "https://localhost:8080/"
        },
        "id": "KycX6FWTaYjp",
        "outputId": "89779d94-6e8d-4ce3-c67e-3f9815d5e42c"
      },
      "source": [
        "x2={}\n",
        "for i in list(y_train):\n",
        "  x2[i] = list(y_train).count(i)\n",
        "\n",
        "x2"
      ],
      "execution_count": null,
      "outputs": [
        {
          "output_type": "execute_result",
          "data": {
            "text/plain": [
              "{0: 508, 1: 533, 2: 532, 3: 534, 4: 511, 5: 565}"
            ]
          },
          "metadata": {
            "tags": []
          },
          "execution_count": 26
        }
      ]
    },
    {
      "cell_type": "code",
      "metadata": {
        "id": "SetvDvM_ZjYO"
      },
      "source": [
        "y2={}\n",
        "for i in list(y_test):\n",
        "  y2[i] = list(y_test).count(i)\n",
        "\n",
        "y2"
      ],
      "execution_count": null,
      "outputs": []
    },
    {
      "cell_type": "code",
      "metadata": {
        "id": "oARmDrxoD06S"
      },
      "source": [
        "import numpy as np\n",
        "from sklearn.neural_network import MLPClassifier\n",
        "from sklearn.metrics import accuracy_score"
      ],
      "execution_count": null,
      "outputs": []
    },
    {
      "cell_type": "code",
      "metadata": {
        "id": "VdPIHTV0_b-j"
      },
      "source": [
        "# Create a object for MLPClassifier \n",
        "clf = MLPClassifier()\n",
        "\n",
        "# Fit the train fetaures and labels to the classifier object\n",
        "clf.fit(np.array(X_train), np.array(y_train))  \n",
        "\n",
        "# Predict the labels of the test features\n",
        "predicted_values = clf.predict(X_test) "
      ],
      "execution_count": null,
      "outputs": []
    },
    {
      "cell_type": "code",
      "metadata": {
        "id": "2pGxbZeN_b-5"
      },
      "source": [
        "# Get the accuracy score by comparing predicted labels and test labels\n",
        "from sklearn.metrics import accuracy_score\n",
        "accuracy_score(y_test,predicted_values)"
      ],
      "execution_count": null,
      "outputs": []
    },
    {
      "cell_type": "markdown",
      "metadata": {
        "id": "InixYMiVA_jl"
      },
      "source": [
        "# Pytorch Convolutional layers"
      ]
    },
    {
      "cell_type": "code",
      "metadata": {
        "id": "rSZtjvK0PB3e"
      },
      "source": [
        "import torch\n",
        "from torchvision import datasets, transforms, models\n",
        "from torch import nn\n",
        "import torch.nn.functional as F\n",
        "from torch import optim\n",
        "from torch.autograd import Variable"
      ],
      "execution_count": null,
      "outputs": []
    },
    {
      "cell_type": "code",
      "metadata": {
        "colab": {
          "base_uri": "https://localhost:8080/"
        },
        "id": "iy1ms3TgqOkT",
        "outputId": "58ad0371-8790-4054-e565-e41c8c01aafc"
      },
      "source": [
        "# RESHAPE DATA TO INCLUDE 3D TENSOR \n",
        "X_train_1 = X_train[:,:,np.newaxis]\n",
        "X_test_2 = X_test[:,:,np.newaxis]\n",
        "\n",
        "X_train.shape, X_test.shape, X_train_1.shape, X_test_2.shape"
      ],
      "execution_count": null,
      "outputs": [
        {
          "output_type": "execute_result",
          "data": {
            "text/plain": [
              "((3183, 180), (796, 180), (3183, 180, 1), (796, 180, 1))"
            ]
          },
          "metadata": {
            "tags": []
          },
          "execution_count": 117
        }
      ]
    },
    {
      "cell_type": "code",
      "metadata": {
        "id": "w6uCXm2BsBbe"
      },
      "source": [
        "batch_size = 200\n",
        "# The TensorDataset takes an arbitrary number of input tensors.\n",
        "train_dataset_1 = torch.utils.data.TensorDataset(torch.FloatTensor(X_train_1),torch.LongTensor(y_train))\n",
        "test_dataset_1 = torch.utils.data.TensorDataset(torch.FloatTensor(X_test_2),torch.LongTensor(y_test))\n",
        "\n",
        "# Loading the train dataset\n",
        "train_loader_1 = torch.utils.data.DataLoader(train_dataset_1, batch_size=batch_size, num_workers=2)\n",
        "test_loader_1 = torch.utils.data.DataLoader(test_dataset_1, batch_size=batch_size, num_workers=2) "
      ],
      "execution_count": null,
      "outputs": []
    },
    {
      "cell_type": "code",
      "metadata": {
        "colab": {
          "base_uri": "https://localhost:8080/"
        },
        "id": "FfcAmhwcy_IY",
        "outputId": "d5a3fa56-62ac-4044-aadb-8ab95d658985"
      },
      "source": [
        "for batch in iter(train_loader_1):\n",
        "  print(batch[0].size())"
      ],
      "execution_count": null,
      "outputs": [
        {
          "output_type": "stream",
          "text": [
            "torch.Size([200, 180, 1])\n",
            "torch.Size([200, 180, 1])\n",
            "torch.Size([200, 180, 1])\n",
            "torch.Size([200, 180, 1])\n",
            "torch.Size([200, 180, 1])\n",
            "torch.Size([200, 180, 1])\n",
            "torch.Size([200, 180, 1])\n",
            "torch.Size([200, 180, 1])\n",
            "torch.Size([200, 180, 1])\n",
            "torch.Size([200, 180, 1])\n",
            "torch.Size([200, 180, 1])\n",
            "torch.Size([200, 180, 1])\n",
            "torch.Size([200, 180, 1])\n",
            "torch.Size([200, 180, 1])\n",
            "torch.Size([200, 180, 1])\n",
            "torch.Size([183, 180, 1])\n"
          ],
          "name": "stdout"
        }
      ]
    },
    {
      "cell_type": "code",
      "metadata": {
        "id": "X6guAt0POoxr"
      },
      "source": [
        "class CNNModel(nn.Module):\n",
        "    def __init__(self):\n",
        "        super(CNNModel, self).__init__()\n",
        "        self.conv1 = nn.Conv1d(in_channels=180, out_channels=120, kernel_size=1 )\n",
        "        self.bn1 = nn.BatchNorm1d(120)\n",
        "        self.pool1 = nn.MaxPool1d(1)\n",
        "        self.conv2 = nn.Conv1d(120, 100, 1)\n",
        "        self.bn2 = nn.BatchNorm1d(100)\n",
        "        self.pool2 = nn.MaxPool1d(1)\n",
        "        self.conv3 = nn.Conv1d(100, 128, 1)\n",
        "        self.bn3 = nn.BatchNorm1d(128)\n",
        "        self.pool3 = nn.MaxPool1d(1)\n",
        "        #self.conv4 = nn.Conv1d(128, 128, 1)\n",
        "        #self.bn4 = nn.BatchNorm1d(128)\n",
        "        #self.pool4 = nn.MaxPool1d(1)\n",
        "        #self.conv5 = nn.Conv1d(256, 128, 1)\n",
        "        #self.bn5 = nn.BatchNorm1d(128)\n",
        "        #self.pool5 = nn.MaxPool1d(1)\n",
        "        self.fc1 = nn.Linear(128, 32)\n",
        "        #self.fc2 = nn.Linear(128, 64)\n",
        "        #self.fc3 = nn.Linear(64, 32)\n",
        "        self.fc4 = nn.Linear(32, 6)\n",
        "        self.dropout = nn.Dropout(p=0.20)\n",
        "\n",
        "    def forward(self, x):\n",
        "   \n",
        "        x = self.conv1(x)\n",
        "        x = self.bn1(x)\n",
        "        x = F.relu(x)\n",
        "        x = self.pool1(x)\n",
        "        \n",
        "        x = self.dropout(x)\n",
        "        x = self.conv2(x)\n",
        "        x = self.bn2(x)\n",
        "        x = F.relu(x)\n",
        "        x = self.pool2(x)\n",
        "       \n",
        "        x = self.conv3(x)\n",
        "        x = self.bn3(x)\n",
        "        x = F.relu(x)\n",
        "        x = self.pool3(x)\n",
        "        \n",
        "        #x = self.conv4(x)\n",
        "        #x = self.bn4(x)\n",
        "        #x = F.relu(x)\n",
        "        #x = self.pool4(x)\n",
        "        #x = self.dropout(x)\n",
        "\n",
        "        #x = self.conv5(x)\n",
        "        #x = self.bn5(x)\n",
        "        #x = self.pool5(x)\n",
        "        \n",
        "        #x = self.dropout(x)\n",
        "       \n",
        "        x = x.view(-1, 128)\n",
        "        x = self.fc1(x)\n",
        "        #x = self.fc2(x)\n",
        "        #x = self.fc3(x)\n",
        "        x = self.fc4(x)\n",
        "        #x = F.log_softmax(x, dim=1)\n",
        "        return x      \n",
        "      "
      ],
      "execution_count": null,
      "outputs": []
    },
    {
      "cell_type": "code",
      "metadata": {
        "colab": {
          "base_uri": "https://localhost:8080/"
        },
        "id": "Uu6YJTrbPJR3",
        "outputId": "1e8af754-cafb-47d9-8b65-55562d03255d"
      },
      "source": [
        "print(torch.cuda.is_available())\n",
        "\n",
        "device  =  torch.device(\"cuda\" if torch.cuda.is_available() else \"cpu\")"
      ],
      "execution_count": null,
      "outputs": [
        {
          "output_type": "stream",
          "text": [
            "False\n"
          ],
          "name": "stdout"
        }
      ]
    },
    {
      "cell_type": "code",
      "metadata": {
        "colab": {
          "base_uri": "https://localhost:8080/"
        },
        "id": "3RjyxkrmPe3L",
        "outputId": "9f080a30-b596-493e-dab1-728318c2f969"
      },
      "source": [
        "cnn_model = CNNModel()\n",
        "#model = M5()\n",
        "print(cnn_model)\n",
        "cnn_model= cnn_model.to(device)\n",
        "# YOUR CODE HERE to convert your model to runtime cuda\n",
        "\n",
        "criterion = nn.CrossEntropyLoss()# YOUR CODE HERE : Explore and declare loss function\n",
        "\n",
        "optimizer = torch.optim.Adam(cnn_model.parameters(), lr=0.001)"
      ],
      "execution_count": null,
      "outputs": [
        {
          "output_type": "stream",
          "text": [
            "CNNModel(\n",
            "  (conv1): Conv1d(180, 120, kernel_size=(1,), stride=(1,))\n",
            "  (bn1): BatchNorm1d(120, eps=1e-05, momentum=0.1, affine=True, track_running_stats=True)\n",
            "  (pool1): MaxPool1d(kernel_size=1, stride=1, padding=0, dilation=1, ceil_mode=False)\n",
            "  (conv2): Conv1d(120, 100, kernel_size=(1,), stride=(1,))\n",
            "  (bn2): BatchNorm1d(100, eps=1e-05, momentum=0.1, affine=True, track_running_stats=True)\n",
            "  (pool2): MaxPool1d(kernel_size=1, stride=1, padding=0, dilation=1, ceil_mode=False)\n",
            "  (conv3): Conv1d(100, 128, kernel_size=(1,), stride=(1,))\n",
            "  (bn3): BatchNorm1d(128, eps=1e-05, momentum=0.1, affine=True, track_running_stats=True)\n",
            "  (pool3): MaxPool1d(kernel_size=1, stride=1, padding=0, dilation=1, ceil_mode=False)\n",
            "  (fc1): Linear(in_features=128, out_features=32, bias=True)\n",
            "  (fc4): Linear(in_features=32, out_features=6, bias=True)\n",
            "  (dropout): Dropout(p=0.2, inplace=False)\n",
            ")\n"
          ],
          "name": "stdout"
        }
      ]
    },
    {
      "cell_type": "code",
      "metadata": {
        "colab": {
          "base_uri": "https://localhost:8080/"
        },
        "id": "HUwlISf4PnNa",
        "outputId": "290a48ca-a78c-4932-b375-d87ab7bc46b9"
      },
      "source": [
        "num_epochs = 20\n",
        "cnn_model.train()\n",
        "\n",
        "#Define the lists to store the results of loss and accuracy\n",
        "train_loss = []\n",
        "train_accuracy, test_accuracy = [], []\n",
        "\n",
        "for epoch in range(num_epochs): \n",
        "    correct = 0\n",
        "    iter_loss = 0.0\n",
        "    \n",
        "    for (inputs, labels) in train_loader_1:\n",
        "\n",
        "        inputs = inputs.to(device)\n",
        "        train_labels = labels.to(device)\n",
        "        \n",
        "        optimizer.zero_grad() \n",
        "        outputs = cnn_model(inputs)       \n",
        "        loss = criterion(outputs, train_labels)  \n",
        "        iter_loss += loss.item()     \n",
        "        loss.backward()                \n",
        "        optimizer.step()       \n",
        "        _, train_predicted = torch.max(outputs, 1)\n",
        "        correct += (train_predicted == train_labels).sum()\n",
        "        #print(t_predicted, t_labels)\n",
        "    train_loss.append(iter_loss/len(train_dataset_1))\n",
        "    train_accuracy.append((100 * correct / len(train_dataset_1)))\n",
        "    print ('Epoch {}/{}, Training Loss: {:.3f}, Training Accuracy: {:.3f}'.format(epoch+1, num_epochs, train_loss[-1], train_accuracy[-1]))\n",
        "    "
      ],
      "execution_count": null,
      "outputs": [
        {
          "output_type": "stream",
          "text": [
            "Epoch 1/20, Training Loss: 0.009, Training Accuracy: 29.281\n",
            "Epoch 2/20, Training Loss: 0.007, Training Accuracy: 49.513\n",
            "Epoch 3/20, Training Loss: 0.006, Training Accuracy: 59.221\n",
            "Epoch 4/20, Training Loss: 0.005, Training Accuracy: 65.284\n",
            "Epoch 5/20, Training Loss: 0.004, Training Accuracy: 69.400\n",
            "Epoch 6/20, Training Loss: 0.004, Training Accuracy: 72.290\n",
            "Epoch 7/20, Training Loss: 0.003, Training Accuracy: 74.929\n",
            "Epoch 8/20, Training Loss: 0.003, Training Accuracy: 76.500\n",
            "Epoch 9/20, Training Loss: 0.003, Training Accuracy: 78.794\n",
            "Epoch 10/20, Training Loss: 0.003, Training Accuracy: 80.647\n",
            "Epoch 11/20, Training Loss: 0.003, Training Accuracy: 80.993\n",
            "Epoch 12/20, Training Loss: 0.002, Training Accuracy: 82.878\n",
            "Epoch 13/20, Training Loss: 0.002, Training Accuracy: 84.166\n",
            "Epoch 14/20, Training Loss: 0.002, Training Accuracy: 83.915\n",
            "Epoch 15/20, Training Loss: 0.002, Training Accuracy: 84.606\n",
            "Epoch 16/20, Training Loss: 0.002, Training Accuracy: 86.491\n",
            "Epoch 17/20, Training Loss: 0.002, Training Accuracy: 87.465\n",
            "Epoch 18/20, Training Loss: 0.002, Training Accuracy: 88.281\n",
            "Epoch 19/20, Training Loss: 0.002, Training Accuracy: 88.281\n",
            "Epoch 20/20, Training Loss: 0.002, Training Accuracy: 88.344\n"
          ],
          "name": "stdout"
        }
      ]
    },
    {
      "cell_type": "code",
      "metadata": {
        "colab": {
          "base_uri": "https://localhost:8080/"
        },
        "id": "Rc43vzbvx2I7",
        "outputId": "a108bd8e-840f-4720-db40-8980c753576d"
      },
      "source": [
        "from sklearn.metrics import classification_report\n",
        "print(classification_report(train_labels.cpu(), train_predicted.cpu()))"
      ],
      "execution_count": null,
      "outputs": [
        {
          "output_type": "stream",
          "text": [
            "              precision    recall  f1-score   support\n",
            "\n",
            "           0       0.80      0.92      0.86        26\n",
            "           1       0.94      0.91      0.93        34\n",
            "           2       0.89      0.83      0.86        30\n",
            "           3       0.94      0.94      0.94        31\n",
            "           4       0.93      0.85      0.89        33\n",
            "           5       0.90      0.97      0.93        29\n",
            "\n",
            "    accuracy                           0.90       183\n",
            "   macro avg       0.90      0.90      0.90       183\n",
            "weighted avg       0.90      0.90      0.90       183\n",
            "\n"
          ],
          "name": "stdout"
        }
      ]
    },
    {
      "cell_type": "code",
      "metadata": {
        "colab": {
          "base_uri": "https://localhost:8080/"
        },
        "id": "Nltm6rurEXYZ",
        "outputId": "a1b23bfe-b3be-437c-e202-9dfb0b067054"
      },
      "source": [
        "cnn_model.eval()\n",
        "\n",
        "Test_accuracy=0\n",
        "for images, labels in test_loader_1:\n",
        "    \n",
        "      # Convert the images and labels to Pytorch tensor \n",
        "      test_images = images.to(device)\n",
        "      test_labels = labels.to(device)\n",
        "\n",
        "      # Passing images to the model, which return the probabilites as outputs\n",
        "      test_output = cnn_model(test_images) \n",
        "\n",
        "      # Picking the class/label with maximum probability                                                                 \n",
        "      _, test_predicted = torch.max(test_output, 1)\n",
        "      Test_accuracy += (test_predicted == test_labels).sum().item()\n",
        "      #print(predicted, labels)\n",
        "      #print(Test_accuracy)\n",
        "#print(classification_report(labels, predicted))\n",
        "# Calculating the accuracy\n",
        "Accuracy = 100 * (Test_accuracy/ (len(test_dataset_1)))\n",
        "print(\"Accuracy of Test Data is\", Accuracy) \n"
      ],
      "execution_count": null,
      "outputs": [
        {
          "output_type": "stream",
          "text": [
            "Accuracy of Test Data is 72.11055276381909\n"
          ],
          "name": "stdout"
        }
      ]
    },
    {
      "cell_type": "code",
      "metadata": {
        "colab": {
          "base_uri": "https://localhost:8080/"
        },
        "id": "Crw0XnB8VtYI",
        "outputId": "4b01798a-354f-4622-8659-4bebbc50d37b"
      },
      "source": [
        "from sklearn.metrics import classification_report\n",
        "print(classification_report(test_labels.cpu(), test_predicted.cpu()))"
      ],
      "execution_count": null,
      "outputs": [
        {
          "output_type": "stream",
          "text": [
            "              precision    recall  f1-score   support\n",
            "\n",
            "           0       0.82      0.66      0.73        41\n",
            "           1       0.82      0.68      0.74        34\n",
            "           2       0.62      0.74      0.68        31\n",
            "           3       0.68      0.68      0.68        31\n",
            "           4       0.77      0.77      0.77        30\n",
            "           5       0.57      0.72      0.64        29\n",
            "\n",
            "    accuracy                           0.70       196\n",
            "   macro avg       0.71      0.71      0.70       196\n",
            "weighted avg       0.72      0.70      0.71       196\n",
            "\n"
          ],
          "name": "stdout"
        }
      ]
    },
    {
      "cell_type": "code",
      "metadata": {
        "colab": {
          "base_uri": "https://localhost:8080/"
        },
        "id": "Pi3ISE27RFrj",
        "outputId": "4195192b-b887-4455-8462-ee4a792012ba"
      },
      "source": [
        "#!unzip '/content/team_data_0.zip'"
      ],
      "execution_count": null,
      "outputs": [
        {
          "output_type": "stream",
          "text": [
            "Archive:  /content/team_data_0.zip\n",
            "  inflating: team_data/0_b16h1g18_1627628229.wav  \n",
            "  inflating: team_data/0_b16h1g18_1627629172.wav  \n",
            "  inflating: team_data/1_b16h1g18_1627628237.wav  \n",
            "  inflating: team_data/1_b16h1g18_1627629179.wav  \n",
            "replace team_data/2_b16h1g18_1627628245.wav? [y]es, [n]o, [A]ll, [N]one, [r]ename: y\n",
            "  inflating: team_data/2_b16h1g18_1627628245.wav  \n",
            "  inflating: team_data/2_b16h1g18_1627629188.wav  \n",
            "  inflating: team_data/3_b16h1g18_1627628252.wav  \n",
            "  inflating: team_data/3_b16h1g18_1627629195.wav  \n",
            "  inflating: team_data/4_b16h1g18_1627628260.wav  \n",
            "  inflating: team_data/4_b16h1g18_1627629204.wav  \n",
            "  inflating: team_data/5_b16h1g18_1627628267.wav  \n",
            "replace team_data/5_b16h1g18_1627629210.wav? [y]es, [n]o, [A]ll, [N]one, [r]ename: y\n",
            "  inflating: team_data/5_b16h1g18_1627629210.wav  \n"
          ],
          "name": "stdout"
        }
      ]
    },
    {
      "cell_type": "code",
      "metadata": {
        "colab": {
          "base_uri": "https://localhost:8080/"
        },
        "id": "KbtL3xe1Xn8T",
        "outputId": "cf479eac-64d3-427c-b92a-1f2409e757d9"
      },
      "source": [
        "for file in glob.glob(\"/content/team_data/*.wav\", recursive=True):\n",
        "        \n",
        "    file_name=os.path.basename(file)\n",
        "    team_labels = (int((file_name.split(\"/\")[-1]).split(\"_\")[0]))\n",
        "    input_audio_path = '/content/team_data/'+file_name\n",
        "    f1 = extract_feature(input_audio_path, mfcc=True, chroma=True, mel=True)\n",
        "\n",
        "    f1 = f1.flatten()[:, np.newaxis]\n",
        "    f1 = scaler.fit_transform(f1)\n",
        "    print(f1.shape)\n",
        "    f1 = Variable(torch.from_numpy(f1)).float()\n",
        "    image_tensor = f1.unsqueeze(0)\n",
        "    print(image_tensor.shape)\n",
        "    m1 = cnn_model.cpu()\n",
        "    m1.eval()\n",
        "    output1 = m1(image_tensor)\n",
        "    print(output1)\n",
        "    #Uncomment the below lines\n",
        "    predicted_label = torch.max(output1,1)\n",
        "    print(\"PREDICTION\",team_labels, predicted_label.indices)\n",
        "    print('/n')"
      ],
      "execution_count": null,
      "outputs": [
        {
          "output_type": "stream",
          "text": [
            "(180, 1)\n",
            "torch.Size([1, 180, 1])\n",
            "tensor([[-2.8790,  2.9924,  1.4342, -3.5858,  0.9565, -1.2948]],\n",
            "       grad_fn=<AddmmBackward>)\n",
            "PREDICTION 5 tensor([1])\n",
            "/n\n",
            "(180, 1)\n",
            "torch.Size([1, 180, 1])\n",
            "tensor([[-2.2339,  1.7659,  1.8079, -2.2965,  0.1804, -1.1701]],\n",
            "       grad_fn=<AddmmBackward>)\n",
            "PREDICTION 4 tensor([2])\n",
            "/n\n",
            "(180, 1)\n",
            "torch.Size([1, 180, 1])\n",
            "tensor([[-2.5501,  2.3199,  1.6991, -2.8624,  0.4215, -1.2640]],\n",
            "       grad_fn=<AddmmBackward>)\n",
            "PREDICTION 0 tensor([1])\n",
            "/n\n",
            "(180, 1)\n",
            "torch.Size([1, 180, 1])\n",
            "tensor([[-2.2669,  1.3992,  2.0741, -1.8879,  0.3798, -1.2981]],\n",
            "       grad_fn=<AddmmBackward>)\n",
            "PREDICTION 4 tensor([2])\n",
            "/n\n",
            "(180, 1)\n",
            "torch.Size([1, 180, 1])\n",
            "tensor([[-2.7500,  2.2527,  1.5466, -2.8903,  0.9464, -0.9490]],\n",
            "       grad_fn=<AddmmBackward>)\n",
            "PREDICTION 1 tensor([1])\n",
            "/n\n",
            "(180, 1)\n",
            "torch.Size([1, 180, 1])\n",
            "tensor([[-2.6881,  2.4507,  1.3006, -3.1409,  0.9223, -0.8665]],\n",
            "       grad_fn=<AddmmBackward>)\n",
            "PREDICTION 1 tensor([1])\n",
            "/n\n",
            "(180, 1)\n",
            "torch.Size([1, 180, 1])\n",
            "tensor([[-2.8514,  2.2490,  1.7062, -2.6650,  0.8076, -1.1366]],\n",
            "       grad_fn=<AddmmBackward>)\n",
            "PREDICTION 2 tensor([1])\n",
            "/n\n",
            "(180, 1)\n",
            "torch.Size([1, 180, 1])\n",
            "tensor([[-2.8349,  2.5979,  1.6232, -3.2002,  0.9959, -1.2803]],\n",
            "       grad_fn=<AddmmBackward>)\n",
            "PREDICTION 3 tensor([1])\n",
            "/n\n",
            "(180, 1)\n",
            "torch.Size([1, 180, 1])\n",
            "tensor([[-2.1898,  1.4032,  2.1107, -1.8822,  0.2365, -1.3653]],\n",
            "       grad_fn=<AddmmBackward>)\n",
            "PREDICTION 2 tensor([2])\n",
            "/n\n",
            "(180, 1)\n",
            "torch.Size([1, 180, 1])\n",
            "tensor([[-2.5198,  2.4747,  1.6198, -2.8415,  0.1284, -1.2348]],\n",
            "       grad_fn=<AddmmBackward>)\n",
            "PREDICTION 0 tensor([1])\n",
            "/n\n",
            "(180, 1)\n",
            "torch.Size([1, 180, 1])\n",
            "tensor([[-2.8016,  2.7255,  1.4917, -3.3376,  0.9094, -1.1663]],\n",
            "       grad_fn=<AddmmBackward>)\n",
            "PREDICTION 5 tensor([1])\n",
            "/n\n",
            "(180, 1)\n",
            "torch.Size([1, 180, 1])\n",
            "tensor([[-2.6826,  2.9658,  1.4422, -3.4761,  0.5427, -1.3452]],\n",
            "       grad_fn=<AddmmBackward>)\n",
            "PREDICTION 3 tensor([1])\n",
            "/n\n"
          ],
          "name": "stdout"
        }
      ]
    },
    {
      "cell_type": "code",
      "metadata": {
        "id": "H1CIEhb0ObMd"
      },
      "source": [
        "#state = {'net_dict': cnn_model.state_dict()}\n",
        "#torch.save(state, 'cnn_model_01.t7')"
      ],
      "execution_count": null,
      "outputs": []
    },
    {
      "cell_type": "code",
      "metadata": {
        "colab": {
          "base_uri": "https://localhost:8080/",
          "height": 36
        },
        "id": "6uZxBpfr9z3A",
        "outputId": "ac907907-922c-4969-bec9-742dfcc371c8"
      },
      "source": [
        "#c = z[3500]\n",
        "#c"
      ],
      "execution_count": null,
      "outputs": [
        {
          "output_type": "execute_result",
          "data": {
            "application/vnd.google.colaboratory.intrinsic+json": {
              "type": "string"
            },
            "text/plain": [
              "'1_G4_96.wav'"
            ]
          },
          "metadata": {
            "tags": []
          },
          "execution_count": 82
        }
      ]
    },
    {
      "cell_type": "code",
      "metadata": {
        "colab": {
          "base_uri": "https://localhost:8080/",
          "height": 61
        },
        "id": "iPkyXtkqaWCA",
        "outputId": "02852068-ed1c-46c7-a990-da7f7b69fc86"
      },
      "source": [
        "import IPython.display as ipd\n",
        "ipd.Audio('/content/1_userinput_1.wav') "
      ],
      "execution_count": null,
      "outputs": [
        {
          "output_type": "execute_result",
          "data": {
            "text/html": [
              "\n",
              "                <audio controls=\"controls\" >\n",
              "                    <source src=\"data:audio/x-wav;base64,UklGRlBgAQBXQVZFZm10IBAAAAABAAEARKwAAIhYAQACABAAZGF0YSxgAQBSSUZGJGABAFdBVkVmbXQgEAAAAAEAAQCAuwAAAO4CAAIAEABkYXRhAGABAAAAAAAAAAAAAAAAAAAAAAAAAAAAAAAAAAAAAAAAAAAAAAAAAAAAAAAAAAAAAAAAAAAAAAAAAAAAAAAAAAAAAAAAAAAAAAAAAAAAAAAAAAAAAAAAAAAAAAAAAAAAAAAAAAAAAAAAAAAAAAAAAAAAAAAAAAAAAAAAAAAAAAAAAAAAAAAAAAAAAAAAAAAAAAAAAAAAAAAAAAAAAAAAAAAAAAAAAAAAAAAAAAAAAAAAAAAAAAAAAAAAAAAAAAAAAAAAAAAAAAAAAAAAAAAAAAAAAAAAAAAAAAAAAAAAAAAAAAAAAAAAAAAAAAAAAAAAAAAAAAAAAAAAAAAAAAAAAAAAAAAAAAAAAAAAAAAAAAAAAAAAAAAAAAAAAAAAAAAAAAAAAAAAAAAAAAAAAAAAAAAAAAAAAAAAAAAAAAAAAAAAAAAAAAAAAAAAAAAAAAAAAAAAAAAAAAAAAAAAAAAAAAAAAAAAAAAAAAAAAAAAAAAAAAAAAAAAAAAAAAAAAAAAAAAAAAAAAAAAAAAAAAAAAAAAAAAAAAAAAAAAAAAAAAAAAAAAAAAAAAAAAAAAAAAAAAAAAAAAAAAAAAAAAAAAAAAAAAAAAAAAAAAAAAAAAAAAAAAAAAAAAAAAAAAAAAAAAAAAAAAAAAAAAAAAAAAAAAAAAAAAAAAAAAAAAAAAAAAAAAAAAAAAAAAAAAAAAAAAAAAAAAAAAAAAAAAAAAAAAAAAAAAAAAAAAAAAAAAAAAAAAAAAAAAAAAAAAAAAAAAAAAAAAAAAAAAAAAAAAAAAAAAAAAAAAAAAAAAAAAAAAAAAAAAAAAAAAAAAAAAAAAAAAAAAAAAAAAAAAAAAAAAAAAAAAAAAAAAAAAAAAAAAAAAAAAAAAAAAAAAAAAAAAAAAAAAAAAAAAAAAAAAAAAAAAAAAAAAAAAAAAAAAAAAAAAAAAAAAAAAAAAAAAAAAAAAAAAAAAAAAAAAAAAAAAAAAAAAAAAAAAAAAAAAAAAAAAAAAAAAAAAAAAAAAAAAAAAAAAAAAAAAAAAAAAAAAAAAAAAAAAAAAAAAAAAAAAAAAAAAAAAAAAAAAAAAAAAAAAAAAAAAAAAAAAAAAAAAAAAAAAAAAAAAAAAAAAAAAAAAAAAAAAAAAAAAAAAAAAAAAAAAAAAAAAAAAAAAAAAAAAAAAAAAAAAAAAAAAAAAAAAAAAAAAAAAAAAAAAAAAAAAAAAAAAAAAAAAAAAAAAAAAAAAAAAAAAAAAAAAAAAAAAAAAAAAAAAAAAAAAAAAAAAAAAAAAAAAAAAAAAAAAAAAAAAAAAAAAAAAAAAAAAAAAAAAAAAAAAAAAAAAAAAAAAAAAAAAAAAAAAAAAAAAAAAAAAAAAAAAAAAAAAAAAAAAAAAAAAAAAAAAAAAAAAAAAAAAAAAAAAAAAAAAAAAAAAAAAAAAAAAAAAAAAAAAAAAAAAAAAAAAAAAAAAAAAAAAAAAAAAAAAAAAAAAAAAAAAAAAAAAAAAAAAAAAAAAAAAAAAAAAAAAAAAAAAAAAAAAAAAAAAAAAAAAAAAAAAAAAAAAAAAAAAAAAAAAAAAAAAAAAAAAAAAAAAAAAAAAAAAAAAAAAAAAAAAAAAAAAAAAAAAAAAAAAAAAAAAAAAAAAAAAAAAAAAAAAAAAAAAAAAAAAAAAAAAAAAAAAAAAAAAAAAAAAAAAAAAAAAAAAAAAAAAAAAAAAAAAAAAAAAAAAAAAAAAAAAAAAAAAAAAAAAAAAAAAAAAAAAAAAAAAAAAAAAAAAAAAAAAAAAAAAAAAAAAAAAAAAAAAAAAAAAAAAAAAAAAAAAAAAAAAAAAAAAAAAAAAAAAAAAAAAAAAAAAAAAAAAAAAAAAAAAAAAAAAAAAAAAAAAAAAAAAAAAAAAAAAAAAAAAAAAAAAAAAAAAAAAAAAAAAAAAAAAAAAAAAAAAAAAAAAAAAAAAAAAAAAAAAAAAAAAAAAAAAAAAAAAAAAAAAAAAAAAAAAAAAAAAAAAAAAAAAAAAAAAAAAAAAAAAAAAAAAAAAAAAAAAAAAAAAAAAAAAAAAAAAAAAAAAAAAAAAAAAAAAAAAAAAAAAAAAAAAAAAAAAAAAAAAAAAAAAAAAAAAAAAAAAAAAAAAAAAAAAAAAAAAAAAAAAAAAAAAAAAAAAAAAAAAAAAAAAAAAAAAAAAAAAAAAAAAAAAAAAAAAAAAAAAAAAAAAAAAAAAAAAAAAAAAAAAAAAAAAAAAAAAAAAAAAAAAAAAAAAAAAAAAAAAAAAAAAAAAAAAAAAAAAAAAAAAAAAAAAAAAAAAAAAAAAAAAAAAAAAAAAAAAAAAAAAAAAAAAAAAAAAAAAAAAAAAAAAAAAAAAAAAAAAAAAAAAAAAAAAAAAAAAAAAAAAAAAAAAAAAAAAAAAAAAAAAAAAAAAAAAAAAAAAAAAAAAAAAAAAAAAAAAAAAAAAAAAAAAAAAAAAAAAAAAAAAAAAAAAAAAAAAAAAAAAAAAAAAAAAAAAAAAAAAAAAAAAAAAAAAAAAAAAAAAAAAAAAAAAAAAAAAAAAAAAAAAAAAAAAAAAAAAAAAAAAAAAAAAAAAAAAAPr//P/3//7/+//0//L/3v/t//3/6v/6/wMAEgANACQAMAA8ADoARABVAEwASABSAEAANAA3AB8AKAAAAP3/7v/j/+L/2v/N/9P/2f/K/+T/7v////7/CQAWABQALgA5ADUASABGAFAAUgBNAD8AWgA6AE4ANwA3ACoALwAVABQAEAAPAAEACgAAAAUA/P8GAAYAGAAEABMAJAAYABcALwAvACMAJgAhACEAKgAsADgANQA4ACcAOgAxAB8AMQAqACgALAAdAC8AIwA7ADMAOAA7AEQAVQBUAF8AUwBKAEQATwA1AC8ANgAoADcAHAARAB0AAQATAB8AFQAYAA8AEAALAA4AGAAhACYAIgA/ACsAOgBAAEUARgAwADQAHQAlABQAJQAVAA0ADwAYAB8AIgAlACUAKAAhABgAJAAiABsAIwARAB8AEwAHACQA/P8OAAwADwAPAAwACwD2//z/3//0/87/vP/T/7L/xP+o/7v/uf/M/8v/yP/u/9r/BgD//y4ADwA9ADEAQgA8AFQAUwBFADYAJQAhABAAAgDw/+H/u/+o/6z/ov+U/5b/mv+m/6z/r//Q/93/3v8DAAgADQARACMAIAAYAA0AEgAIAA0ADAATAAgABAAAAB4ABgAbAAkABAAdAP7/+f/9//P/5//e/9D/y/+t/73/sf+8/6D/u/+c/73/kv+i/5f/vv+m/8j/3f/q/+f/AgAAAPb/AAD9//7/9P/2//j/8v/r/9b/8f/m/wIADgD9/yIAAwAGAAUADgAAAAQA/v8BAOL/2v/a/8L/y//G/7r/1f/X/+X/6//r/+P/6P/q//X/9v/+//n/DAD2/w8ACwAOABIAJAAPACYAHAAWABAADQD+//j/+f8AAAMADAAPAP7/CQATABQAKwAfACgAFgAYABcACAAeAAwAFwACAAoAGwAVABcAEQAcABYADwABAAAAAAD9//T/4v/G/+r/3v/p//H/AQASACEALwA6ACIAKwA9AC8ALgA3ADIAFAA1ACYAMQApADgAOgAyAE8AKQBFADQAMwA1ABYAFgAOAB0A//8OAPz/8P/t/+z/7P/t//f/9f/y/+T/8P/i//r/5v8jACIAPgAgAFIAKwBNAE0ARwBjAFIATQBKAEEALQAlABAAIwDr/woA4/8ZAAsAKQAHABQA7v8SAAgA8f8RAO3/8f/e/+L//v/v/wgAAwAIABEAAQAKABYAAgAKAAUAFgAKAAcAGQAaAAQAGAAWABYAGAAXAAsACAD1/+r/3f/W/9j/xf/b/+f/7f/x/wYABAAPABkAGAAbABIADQD6/+X/5//R/6//v/+o/7f/rP+3/7v/0v/c/+f/9/8SAAUADgD//wcACgAIAAYAAwAQABIABgAJAB0ADgAMACUAFAAEAAMA7v8PAPb////z//3/+f/q////8/8AAOf/3P/f/9X/u//b/8X/xf/Q/87/4P/W//b/7/8AAAsAHAAlACMALQA0ADMAJAAaAAcAGAAHAAgAGwATACwAKAAoACkAMwA/ADgAOQAnAC8A/f8SAOn//f/v/+D/4P/q/+b/7v/c//T//f/u//j/AAD3/xsACwAQAP//JwAgAC8AUgA+AEwATgAyADkAJQArACYAFQAbABwAIwANAB0ALAAZACsAEwBFAAgAKgAXAAcAFgAPAAAADAAFAPn/+P8AAA8ACQAJABkAHQAaACAAIQA5ACAAJQAWAB4AEQATAA0AGAAPAAoACgAUAPT/8f/4/wsA6v/0/wAAAgDw/wIABgD7/yEAGQAhABsAHQAwABcAMAAcABUACwAgABoADgAYAAsAFAATABcAKgATABMAMwD1/xMAAgAMAAoAEQAPAP7/KQANABoAIAArACMATwA5AFAATABTAEMARQBGAEAALgAbAC8AGgATAAMACwADAPf/8f8AAO//DwD7/wsA+v8BAP7/BQAcAB0AKQAvADwAJgApACgANQARACEAEQALABgAHAAZAA8AGAAcACIAEAAhABIADwALAAYA8v/y/wUA8v8DAPr/+v8EAPD/FQD+/xgAHAAfACkAJwAuABsANQAvADIADwAxAA4ALQAHAPr/EgDx//f/AADw//b/6//0//7/6f/y/wIA6P8JAOr//P/w//n/+P/0/+v/z//q/9j/8f/U//P/1f/e/+H/9v/o/9r/4f/6//H//v/c/wAA8P8FAPz/AgANAAIAFQDz////7P/2/9b/5f/Q/9T/xv/a/87/2f+8/97/7P/r/+P/3//v//b/4v/v/+n/4P/v/+7/4P/x//T//v8DAPP/+P8BAPr/AwDx/wcA+v/6//D/8P/s/+v/5//5/+f/AADs/+3/5P/o/+L/8P/b//3/5v/L/+P/2//W/9L/6f/n/9P/4v/k/97/3//a/9L/4P/S/+v/1//x/97/6v/w//b/9f/0/wcA9v/5/wEA5f8JANr/8v/m/+P/3//0/+L/5f/i/9X/3v/n/9T/4v/Q/8X/0v+7/+f/1f/Y/+D/1f/X/+//6v/i/wIA5f/m/9//3v/Y/9L/1P+9/8P/u//O/7X/2//S/9r/3P/j/+3/4f////L/9v8CAPf/7//m//P/7v/8//X/2v/o/+n/2v/Y/9f/0f/b/9P/2P/Z/8r/4//u//z/EAADACAAJgAfACwAMwAnAEMANQA3AD0AIgBEACIAPQA4ACoAKAApABMAEgAMAPD/9//3//L/5v/e//H/9P/a/wUA+P8LABYAIwAbACMAHwAZAC4AIwA1ABMAKQAdABYAGQAaAAsAIgAdABIAIgAbABwAAgAeAB4AJAAdACMAOwAiACsAMwA8ADEANgA2ACYAHgAJAAcAEADt/woAAQDu/xkACQAkAAUAKgA3ADUAMwAxADYANwArAB4ALAAVABQAKwAfAC4AEwAwAC8AGgAhABcAIgAXABcACQD///z/+f/y/wQA6f8BAOL/DADo/wIAFwACAA4AAAAWAPv/+/8cAAkALgAiADgALQAxAD4APwBDADsALwA0AEEALQAcABAAKAABAA4ACwAaABsADgAwACQANgA8AEMAQABGAEAAQgAxACMAPAAaADYAIQAfAAUAKQD//w8A9P8XABEAAQARAAsAGwABABgAJAATACkALwA1ACgAMABAADAAOQAqAB4AMQAbADUAIABDADoAJAA+ACIAIwAwACYAJwAhABoAEwAPAAEA/v8LABEACwANAB0ADwAMAAcAEwALABgAEQAMABEABwAaABUAFwAPABEAIwASAB8ACwASACUADgATAB8ACgAvABYAGQAiABUAIwAtAC8AHAAQAAQA///+//b/7v8CAPX//f/d/wQA8/8HAOv/9P/1/wYA4/8CANf/HgD4/xUA//8YAB4AIgAdAC4AIQAuADAAJAANAB4AHQAQAAAAEADs//f/5P/y/9b/0//i/93/8v/j/+v/8f/7/wUADQASACQAIwAxABcAKAAbADYAJgAsABwAGQAeAAYA/P8CABcA/v/3//T/+//2/+X/9/8FAAcA+P8JAA4AEgAEAAwACwAaACEAEwAaAAQAGQDs/////f/5/wAA3/8AAPz/8f/t/wIA8//4//v/yv/y/9f/2P/m/9P/8P/r/wEA6f8IAAgA/P8VAAAACgARAAoAEAAAAAUAEwD7//v/5v/x/9v/v//C/8v/s//J/8j/1f/O//T/AAACAAUADwD8/wwA/f/x/9L/5v/D/8T/zv/S/9r/0f/x/9j/8P/m/+j/7P/p//n/6f/8/+j/AADx/+X/BADy////8P/2//L/3v/i/+3/2//g/9H/y//P/8L/uP/A/9z/wf/W/83/3//r/wAA2v/w/wAAGgAFAAgAEgAbABUABAAZABAACwAZAAkA8P/r/+b/2//T/8P/wv+5/8L/t/+//7v/0f/G/8n/0//I/9f/wv/L/9D/1//a/+7/1//w//L/8P/4/+f/6P/u//L/1//i/+v/5f/5/9b/9//e/wEA1f/3/9X/3P/f/93/5f/r//L/8P/6/wYADQD//wEA/P/m/+n/8//r//b/0v/h/9z/+//n/+X/EQD2/xUAAAAVABQACQA0ACoAKgAjAA4ACgD+/wwA+v8QAPf/DQDs//L/8f/w//r/9/8JAAAADgD+/wMAFwAOACIADAAfAAwAEQAHAPf/+v/m//v/+v/v/wMA9////+z//f8FAAEAFgAEAAQA+f/0/+3/CAAiAAUAGQAoAB0AHQAsADwALwA6AEAAOgApADMAPwAVADAAFQAaAAoAAgD5/+//AgDe//D/CADz//z/9/8HAP7/CAABABAAFQARAAQACAD///v/BgAAAP3/BAAAAA4ABgAaAAUAFAAVAA0A9v/6//n/AwDt//H/7P/b/9n/7//X//H/0P/4/9n/5P/h//X/0v8EAPH/8v/w//z/7v/k//b/6f/w/+b/4f///+f//v8CAAcAIgAzADYAKwA2ABIAFwAAAAEA9P/z//X/4P/j/83/9P/j/wgABgAEABgAHgAYACYAFgBJADEARAAuAE0ALwA2AD4ANAA5ADIAJwAXABMAEgADAAUAFAAcAAsABgATAAAAGgAPABUAJAAkADMAJgAtACwANAAwADwALABGAEYASgA3AFYARwBPAEwAQwBIACsAKgAvABQAFgAXAAMAFwAPABwACAAhACgAMAAoADwAPABPAEkAQwBFAFMAQQA1AFgALQBFACMAPAAgACAAGgAbAAwAEQAbAAsAMwARABYAGQAGABQA/v8EAOn/5f/r/+n//f/n//f/AwD6//X/AAD//wQACgAGAAUACwALAAMAEQDw//3/3P/4/wAA/f/2/wYADQAMAAYAFAAYABMAEwAFAPv/8//r/+X/2//k/8j/2P/e/9z/3v/4/+L/4v8AAAcACwAJACgAFwAVACkAJgApACcAIgASABgAHAAIAPH/AgD///T/6v/i/9H/1f/F/9X/3f/K//D/5v/1/+r/EADr/wwA9f8AAOn/+P8GAOr/7v/2//z/5//+/+3/CgDt/+//5//d/+H/xv/b/83/1v/E/9X/xf/V/+H/wP/x/+f/0v/c//f/9v/7/+f/AQDt/+f/8//r/+P/AADl//f/8P/s//7/CAD6////4//7/+X/5//o/93/7P/b/+P/7f/w//v/+/8LAPP/AgDm//D/6P/Q//L/zf/c/9P/3P/w/+T/9f/5/+3/4//v/+v/AwDk//X/BQDy////EgAFAB8AAQAQAAgA9//t//v/+f/1/+T/2P/h/8L/1//F/87/xf/L/9n/4//X/wAA8/8KAOj/AQACAOb/CQAQAPv//f/+//D/DAD6/w8A9P/+/93/5P/g/9//3//f/+b/2//k/+T/7f/p/wgACgDx//b/9P/s/wYA9f/1//X/7P/7/+b/+f/p//X/6f/P/8z/tf+9/5//w//D/6r/0/+w/+P/0//4//D/IQASACYAIQAXADEAEQAZAAkAAwD+//f/9//3/+3/+P8CAO//CgACAAcAAgACAPz//P/l/xAA9v8KAPD/CQD4/xUAIgAbAAQADQD9//j/7/8AAAEA9f/8/wcABgABAPj/9f8KAAoAFwARABYAEwAaAA8AHAAYACMALwAkADUAMwAmAEsAPgA5AC0ANAAsABcAJAAFAPz/8f/u/9n/4f/g/+T/7v/1/w0ACgAyAC8AOgBHAC8AQQAvAEUAMwBNADkATgA/AE4APQA0ADsAMgA2ACgALwAnACQAEQALAAwA/v8KAPr/5////wsA7f/f/wcAMgASAPv/IABMABYAFAAbADgADwARAAsAFwAKAAsAFgAOAAoAEgAnAA4A1P/1/xEAFQDd/wUAGgAfACgANgAqABwAJAALABUAEwD8/+3/DgDb/9X/5P8AAOT/EAAHAAIACAAdABUAKwALACkALwAkACIAJgA8AD0AJgAgACoAMQAXABkACQAIAO7/AQDN/+z/6f/r/8L/4//Z/93/5//n/wUABwAGAAQAGAAJABIADwAVABAAIQATAA8AGQAhABQAHAALABYAAgD5//L/CAD2//H/9v/+/wAAHQAFABwAGQAXACQAGwAfADYAHQApACYALAAyACYAQwBBACYAQgAzACMALAAoAC4AFgAqAAkALgAOAB8ABgAOAAQAEQD0/xUAGAAbAB4AIQAjACwAKwAtACUAHQANAC4AAwAQAPz/8f/x/+T/3v/7/8r/6//5/9b/7v/p/wcA7/8IAP/////+/wcABAD9/xAAAAAIAOH/BgDZ//L/2P/p/9H/xf/K/8P/wf/C/9X/5v/b/+r//P/8/wMA9v8AAAoA4//s/+j/7//g/+D/1P/S/9P/zf/R/7v/3P++/8r/u//F/8T/zP+3/8b/1//V/9f/3v8CAPr/AAD//wYAAAD9/xAA9//x/+z/6//g/+D/7f/R/97/+P/q/+r/AQD1/w8A4/8NAO7/AAAAAP7/BQAFAPn/KgAjACQA+/8gAAsAFgDw/+n/4f/N/9j/3//a/+j/4//6//D/CADy/wMABQDy/xQA/P8OAPb/DAAPAAUAAwASAPX//f/m//H/4v/m/9j/2//I/+T/z//1/+P/4f/1/wEABwADAPv//v8JAAgA/P/s//n/4P/x/+//0//r/+f/5//u/+T/6f/x//D/5//j/9v//P/i/+v/2P/y//r/BwAMABUAKQAZAB8AHgAhACwANAApAC4AFwAaABoAEAASAB0ACQAIAOn/7P/b/+r/xP/k/9n/1f/n/9n/8f/l/wAA8f8DAPf/DwAHABoADAAaAAoABgAGAOb/+P/c/+D/3f/J/8n/y//H/8f/x//H/9T/1P/Z/97/8v/+//v/DAAPAAoADQALAP3/BgD8/xIA/f8IAA4A/f8PAAUACQAIAA4AAAAPAPn/DwDw/wAA8//b//n//f/4/wAACwAPAA4ACwAKAPb/AwD0/wUABAAAAAYAEgAOAAYAEQAUAPr/CAD7/+7/8P/i/+z/5f/t/+H/9//l/wIA7v8JAPn/CAD4/wcA8P/q/+T/3P/d/9L/1f/g/9n/6f/o/+T/AwDz//n/9f/7/wMA+v/z//r/2f///+P//f/z/woA//8PABcAFAD7/wYABQD9//b/6/8IAPj/AAD8//3/4//w/9j/1//M/77/z/++/8T/1v/f//r/+f8RAAsAIgAOADQAIQAuABwAJgATABIADwAAAAEA/v/2//P/+P8DAPb/8v/t/woA6P/v/9D/7//z/9//9P/5//n/9P/1//D/FAAJABgACQAXABIAHgATABYAFAAHAB0AFAAYABsA+f8YAAAA+//z/+//zP/i/9T/0P/P/9z/8//y/xUAFgAoACgARwA2AEwANQA8ACQAIAAQAA8ACQAHAAUAAwD///f/CgD6//b//v/4/+v/4f/e/+b/3f/8/93/CAD6/x4AIAApADAAKwAnADIALQAVACwAJAAsABoADAATAAoAGAAHAP3/8//9/+f/8v/l/9f/3//X/9j/8f/f/+//AADz//7/BAD4/wkAGQAPAAMA+v8JAPT//f8EAPv/8v8AAOj/7v/f/wgA6v/5/wAA8//p/+v/8f/V/+j/5f/a/9r/5f/5/+n/9//w/+v/+P/c/+n/6v/t/+r/5//l/+j/6P/+/+7/EAAAAPn/BgD3/wAAAAADAAUACQAOAAAAAQAFAAIA+P/7//3/7//+//j/+f/1//L/9P/s//r/BgD3//n/7v8HAPP/BQAHABIAGQASACgALwAtADYAPQA8ADYALgA3ACwAFAAYABIA+v8AAO//+f/o//j/3v/g/+r/+//o//X/BAAcAAQAGgAXACwAJgAvACwANgA2AD0APQA0ADgANAAoACAAJgAUAAoADwAGANz/4f/U/9z/4P/P/9j/vP/e/8n/3v/c/+v/BQDw/wIACwAFACQADwAhAB8AJQAZAA4AEwARAAoAAAAEAPT/AQD///P//f/n//P/6//l/+7/5v/x/+n/+P/v/+T/9//1//z/EwAKAAwAFgASAAgAAQDy//3/2f/i/9n/7//C/+j/0v/q/+X/5v///wUA/f8EAPf/AgDx////5P/t/+f/3P/q/9L/7//n//n/5//l//n/9v8IAOL/CgD4/wAACwACAA0AEgAYABUAJgAWADEAGwAtAB8ALgAnABsAHgAhACQAGwAUACAAFwAOAA8ADQACAPr/+P/w/+//6f/5/+D/AAD4/x4AFgA7AFQANQBSAE8AQQBBADkARwAzACAAFAAdAAwACgD6/xgAFwD5/wwABgAYAPz//v8IAPD/7P/p//r/8P/9/+P/6f/n//v/5P/8//f/AQABAAoAFAAPABsAIQAdACUAFgAaABgAHwAPAPj/CgDu/9n/7f/j/+7/2P/8//D/8//s//H/3P/j/9r/y//P/67/w/+s/9H/qf/I/7r/1v/d/+X/8v/5/xoA//8YACMAIAAkACcAHQAeABcAEwANAAwADQDv/+7/3//x/9z/5P/z/+j/4v/q/9//4//Z/+3/3P/g/9//1//3/+j/3P/X/wQA6v/u//P/DwALABkAAQAUAO//CwDa//n/+//x/+b/z//p/9b/8P/Y/+X/4f/2/9b/9//k//n/1/8CAO3/AgD1/wIA/P/0//T/7f/u/+//3v/i/9r/8//O/9//4//3/wIA/P8lABQABQAQABAAHwDz//z/AADq//r/4P/p/9r/6v/j/8z/6v/q/+P/AgAGAOn//P8DACYAEQAIAAYAAgD1/wMA9P/5/wkACQDZ/+H/7v/j/+r/zv/m/+X/6f/3//3/DwANAAsAEAAWAAsAFgAeACIADQAJAPX/8/8DAP////8DAPz/+//r//v/6f/y/+n/7f/w//D/4P/8/+//AAD3//L/4//z//T/6f/i/+v/4f/k/93/6v/X/+//8v/+//X/EQAGABIAIgAOAAkA+f8LAPv/9P/x/wUADQDp/wYA9f/+//z/BgATAPn/KQAAABsAAwADAAUA//8JAPD/BgADAPL/+//y//n/4v8EAPT/9P/6/w4AAAAdACEAKwAhAC8AKAArABoAOgAbACcAGAAaAA4AKQAIAAoA8f8EAAkA+f8NABIABQAGAAIA8v8DAOr/+f/4/+z/+f/h//v/+//0/+j/BQDa//H/7v/x//H/AwAEAPf/AADu//3/7P8BAAAACQD+//v/8P/t//r/9v/7/+P/CgD2/xAAEAD7/xEACQAGAAUABQAoABEAKAAhAA8AIwAkACQADgAqADAALAAsADQALQAVABMADAAEAPn/BwD9/wAADwD+/wYA/f8EAPf/9v8BAOD/8f/x//v/9f/t//P/DgACAPP/DAD0/xoA+f/+/+n/6f/4/+r/AgDw/wEABgD1////EAANAAcACwD7/wkABgAAABIAAAD9/woA9v8MAAAAEgAgABwAAAAAABAAEQAVABMAFQALACcAAQAFAAAACAAAAPL//v8DAOj/AgD+/+X/7v/z//T/5P/4//j/6v/v//L/6//9//z/CQDi/wQA6f/t/+3/AwACAAcA+f/w/wcA4//4/+D/2v/n/8X/y//n/8v/1f/T/+3/2v/f//j/+//6/+z/7f/o/+X/2f/k//P/9P/1/+3/9P/z//v///8JAA0A+P8DAAAA+f/u//P/9P/w/+b/8f/w/97/4P/m//z/1v/m/+j/+f/p/9z//P/k//b/9P8CAP3/GAAOAAUABQALAAoAIgAEABoACgAAAAkA+v8MAN//6//v/9r/4//d/+X/2f/m/+H/3v/b/wAA+v/f//X/+/8FAOn/CQAHAAoA/f8AABAA9/8XAAUAEQD7/wAA6v8NAOX/+f/2/wMAGwDv//3/9/8BAO7/9f/P//z/x//g/9v/1P/S/wQA0v8MAO7/AwAGAP//AADs/+n/5//s/+P/3f/r/9f/6v/l/9r/6P/e/+7/z//t/9X/9P/Q/+v/5f/o/93/7P/l//X/4P/c/9X/w//e/8r/2//S/9//2v/Q//X/6f8CAPP//v/8//j/9f/8/////f/7//H////u/+n/7v/7/+j/+f/v/wMA6//p/wkA7v/r/9//9f/a//T/8v/x/+L/6v/s//T/DwAPABQAHQAiACQAHQAfADcAOAAvABYAGgAmAAoA9f8DAOz/+//U/+D/3P/m/+P/2P/u/+3/5P/v/wMAGwANAA8AGAAPABgAGAAPAPX/BgDs/+r/7//n//L/EwAHAAoACwAYABMAEAAJAA4ABQD8/wcAAADu//b/2f/0/9T/8v/3/wkABgAaAP7/IAALABkAFwAYABsA+/8CAAMA+P/0/+f/FADo//v/9//5/xAACgAMAP//GAANABAAFgD4////BgD+/+n/5//u/9r/6f/I/9r/5//f/+f/8f/u/+v/BwD//wcAFQAZABYADQAnAAEAEgACABIACAD5/w8A+P///wEAAwD+/wkAAAASAAcAEwAFACMA/f8jAPH/GAAKAAsADgAEAAYA9f8FAP3/EgD9/wwA/v/t/wQA6v8KAOf/6f/t/+b/5//k/+n/8P/z//P/+P8CABwAGgApADkARAAoACwALAAgACMAFgAVAAgA+P/+//b/AQDp/+r/5P/o//H/+v/1//7/+v8OAA8ADwAeAAUABQD4//r/6P/1/93/1P/m/9j/3//c/+P//P/j//D/8v/v//v/8//3/w4AAAASAPr/BgD//wwA+/8WAAAA/P8IAAkAAAADAAAAAgD5//P/8//X/+j/3f/V/8//xf/x/9f/6f/q//n/7f/r/wIA7P8RAPf/BgAAAAEA+f/p/woA7v8IAPb/9f/3/+r/6v/c/+7/0P/l/9n/2//g/+D//f/u//f/+/8AABUAFgAZAAkACwATAP//FAADAAYAAADl/+7/7//5//T/8v////f/9f/l//r/9P/6/wMAAAACAAYAIwAbACcAOQA5ADMAMAAqACIAGgAPAAMA/f/n/9n//P/S/9z/2P/d/+D/1f/t/+b/6f/u/+3/6f/i/wAA6f8OAPn/AwALAPv/EAAQAAgAFAD8/xIADQD5/wAA8v/5//v/7//8/+v/6v/r/+X/2v/a/9n/0f/V/9//6//u/+3/BgD6/xYABgAMAAAAEQACAAEACQDw/+r/6v/X/9v/2v/1//3/9P8BAAEABAAFAAoAEgAJAAoACwAJAA4AAQAUAAoA//8GAPj/4P8AAPT/5v/e/+//3f/y/+L/2P/h/+n/5//v/+z/9v8AAA8A/f8NAP//CAANABEADwALABUADQAUAAYAFAD0/wUA6P/t/9j/yv/Y/+H/4//j/+H/8/////z/+/8AABAAAAACAAEA+v8AAAQA9f8GAPL/EgABABEA+/8HAAIA+P/1//3/6/8CAOT/9P/q/97/7v/o/w8ABwAOAAAAGAADAA4ABQALAAAA+f/q/wAADgAFAPf/7v/7//f/7v/d//P/0f/w/9r/7//r/+n/8/8UAO3/CwD1/wgACAD5/wMA8P8BAPX/+f/i//D/8P/z//r/+P8CAAUA8v8JAPz/5f/w/9T/2//U/9r/1v/Z/9j/4v/N//n/6f/2/wkA9v8CAOn/EQAFABsABAAbADEABgAmAAsAGwAKAAAA+P8AAPj//v/4//v/6//p//X/6v/4//X/7P/3/+r/9P/o//X/AAD7//H/7P////7/CgAWAA8ALwAWACkAKQAUACAAHgAdAAYAFgAQABUABQAJAPn/9P/s/+//5//e/+z/8P/q/+r/3f/+/+n/+//i/wcA+v/v/wAA9P/t/97/6v/0/+H/7P/1/+3//f/w//3/+P8NAAgACgABAPf/CAAAAAEADAABAAAA9f/x/+n/9//s/+v////s/+n/9f/y//H/9v8AAPj/7v/t/w0A/P8FABQABQAWAA0AIAAfABsADAAfAAkACAD2////+//t/+P/3v/b/9X/6f/f//v/4v8IAOf//P/0/w4ADQAVABQAIQAIABgACAAGAP//FAAXAAIAEgAVAB8A//8bAAcAFgD6/yUACAAKAA0AEQAEAAYA7/8eAO7/9v////3/CwAIADYAEwAuADYAHgAnAC0AKwAhABwAEAD8/wAA+P/7/97/8f/g/9//7P/5//L/BQADABcAAAAKAAQA6f/+/+7/2f/X/+P/4//l/8//7f/c/9b/3//b/+T/7f/u/+X/6f/s//H/6v/u//7/8P/4/////v8PAAoAFgD//wkAFwD8/wQA+P/+/wYA7//4/9b/2f/V/9b/4//J/83/2v/Z/+H/6f/t//P/BAAGABkAEQAoABkAJQANABsACgArAA4AAgAVABAAIAAaACAAKwAzACQAOgAoADUAJAAeACoAEAAIABMA+v///+T/AgDq/+r/9//2/wIAAwAIAB4A+P8JAPv/IADr//L/9P/+/+T/7f/k/+H/7v/q/+z/9v8GABwAGAAeABsAGgAMACoAEQAGAP7/7v/n/8f/v//A/8z/sv++/6v/4v/d/+v/9v/6/wQABwAUAAMACQAbABYACAAAAP7/BAD2/wMA+P8BAPH/AgD3/wcABQD+//X/+f/1/+j/+f/t//n/3//p/9X/4//V/+L/5P/p//H/7P/2//7/DgATABUACAAUAB0ADgD6//T/6//o/9H/8P/J//j/8P/2//L//f8NAAIAGwAmAA4AFgAAABUA6v8HAOX/+//z/+3/7f/k//P/8f/1//D/AADl//7/5//v/+L/4f/d/+P/4v/8/+3/CgAAAPT/CQD3//b/+v/8//r/6v/y/+T/CQDx//7/7//+//f/AADn////9P/6//P//v/i/xIABwAMAP//FwAKAAgAGwAVAA0ADAARAPb/AAD0//v/+v8AAA0AEAAZABoAFAASACQAFgAaAAAAAwD6//3/8v/d/+f/+//r//n//v/7/wcACQALAAAADwATAPz/CQD6//T/9f8CAPH/6//5//D//v/y/+//7f/2//X/+v/r/wAA8f/2/wEA5v/x//D/6f/Z/8z/wv/K/7//yP+w/9j/v//Z/8P/5P/Z//f///8AAO//+v/w/+r/8v/m//3/4f8BAPX/8//n//3/5f8FAP//BwAJAP7//f/8//7//P/2//D/6P/l/9//7P8BAPP//f/1//r/9P/7//z/CAAFAA0AFQAbAA4AJQAKABIAJgD8/wMAGQAQAAAABwDv//j/6P/p/+v/9f/0//v//v/0//7/AwAMAP7/AwAGABMADwAPABAADQAQAPz/BwABAAwA+v8BAPn////y/+//7P/4/wIA4v/2/+z/9f/v//D/7P/2//T/8f/+////+P8NAAcACAD+/wcAGAANABUA9/8UAAYACwD0//v/+P8AAPD/9P/c/+D/2P/U/8//3//Z/93/9v/T/+X/9v/5/wIAHwAYADgAFQBDAC0ARgA2ADUAJQAhABgA/f8OAPr/AAASAAEA/f/7////BgDv/wYA+/8FAPf/BADq//f//v/k//3/9v/0//f/8f/2/+v/8//m/+H/+P/3/97/7v/9/wIA//8PABMADwAiAB0AJwAhACcAJAAhAAwAEwAHAAAABADm/wsA6//5//j/+v/1/+3/9//3/+3/8f/o//r/6P/2/+D/CwABAAIA+f8KABgA/v8NAAkADgAXABEAAgATABMAAQAFABUAAgABAAEA7P/y/8v/2f/N/8r/y/++/7//w//S/8//7P/h/+n/AwDV//T/4f/w/+//2//b/8v/2f/U/+n/4f/j/wAA8v8KAAAACAAbAAsAAQABAPX/8P/z//3/8P/7//H/+//9/+n/+P/r/+v/7//0//D/3P/x//D/8//w//n/AAD3/wcA8v/y/+b/9v/t//T/5f/8//z/9P8MAAUAEwATABgAIAAIACYAEwAgADIAJwArACwAJwA6ADEAMQA6ADkAKwAoAB8AIAAkABEAGwAmABgAIgAWACYAJAAUAAoAEgAGAAsA7/8BAAgA/P/+//P/AQDx//L/8f/x//H/9v/q/+z/6//3//f/+////wwADAAIABIAEAALAAAA/v/u/woA/P/+//P/AgD8/+f//v8CAAgA8/8IAPX/AADr/9b/7//D/8r/tP+0/7P/tf+x/7H/v//D/8r/0v/a//L/7//z/wIAEQAEAPv/9//y/+7/7v/u/9r/1//W/8n/z//N/9L/0P/Q/8//zv/G/97/5f/6/+7/AQDu////9P/+/+j/4P/r/+v/7P/i/+j/6//r/+r/BgD2/wcAGwACAAMACQAAAPL/8f/h/+7/4P/h/9r/2v/1/+v/CgD6/xAAEwAbACwABwAiACAAHAAYABsADAAcAA8A//8IAPr/8//p/+X/wP/T/83/zP/T/7v/vv/W/8//6P/k//v/+f/4/wkA9f/8//7/9//+//3/9f/3/wIACwD+//3/DAAKAAkA8f8DAPv/5v/0/8L/2/+8/8D/uv+1/8b/of++/8T/sP/F/9P/8//j/wAA4v/7/+v/AAAAAPv/DAABAPv/CQDv/wIA8f8SAAEABwD8/wIAAgD5//f/BQDv/wgA/v8DAPv/9P/9//z/4v8AANv/7//R/+H/4f/W/9f/4P/Z/+f/7v/u//f/AAAEAAwAHwAlABIAKQAjACQAFwAgABYAGgAjABAABQATAAsABAD4//D////e/+r/4f/k//P/6v/j//X/6v/0//v/FQAFABMADQAcACkAHABKADIARwBKAEMASwA1AC4ANgAdAC4AHwApABYADwAIAPr/8f/q/+r/4P/l//b/6//y//b/BgAYABYAKAA3AE8AMAA3AC0AIgAgAAwADAANAAYAAwALAAYAFgARAB0AOAAtADwAKgA6ADoAIgAlACEALQASABIAEwD7//v/9P/t/+n/8P8BAPD/CAD9/w0AEwASABYAFwArAC8APQAjADkAIwApACUAJQA0AAgAIAADABEACAAIAPv//P8AAAoA/P/u//z//P/4//H/5f8IAPn/BwDy/xQA9/8KAA4AHgAiABUAHAAiAC0ACAAZABUABQANAPH/+f/2//z/9f/x/wAA8v8LAP///v8dAB0AJAAUACQAFwAbABsAHwAgABcAIwAhABkAFgAnABcANwAXABgAJwAOABAABwD3/xAAEAABABYADgANAB4AGwAiABsAKAAcABMACwAMAAcADQAGAAwA9f/y//X////3/+j/9v/t//L/4v8IANr/+v/2/wAA/v/0/wUAFwAUAPb//f/e/+b/1//K/8n/2//S/8X/yf/U/9P/0v/Y/+b/6P/j/9v/AADl//X/4f/z//b/7//+/wAA6//+/woADwD5/wcA+v8JAO/////p/+7/9f/w/+z/3//p/+b/4P/p/+X/8f/4//H//f/+//j/AQAIABYAIgAdABMALwASACkADgAYABkAEgAAAPn/8f/t//r/9v/0/+n////f//P/7P/1/+D/3f/o/9n/2P/X/+H/3P/g/8n/5P/j//L/4P/x/woA8//8////AAANABkAJQAfACcAIQAfACIAHQAWAAkA/v/0/9v/6//U/83/xf/I/77/vP+//7T/s/+6/8z/t//I/7z/zv/O/9T/wv/b/+z/5//4/xAA+P8GAAEACADu/+b/4//l/+D/yv/O/8z/yf/N/73/wv/R/7r/uv/H/7P/u/++/8D/v//I/9D/0//D/+T/2v/i/+7/9v/7//n/+//0/wkA+P8KAAsA/P8KAPr/AAABAO//9f/x/+3/0P/Y/9f/3//Y/9v/zf/P/9b/1v/T/83/1P/X/9j/zP/l/7j/0P/Z/+T/7P/2/w0AFwAWACoALwAYAD4AKAApABMAGAAJAP3/7f/i//P/1v/e/9L/0//M/8v/6P/T/97/3P/z/+v/9//7//r///8UAAQACwAHAAsADwAEAAcA9/8KAAEA/P8CAP7/BQAKABIACAAHAB8AFgARAP3/CQDv//f/8//l/+f/4v/i/9b/+f/h//j/8//+/wgAAgANABMAGwAYACcAJwAnACQAJgAwACkALgA1ACoAIgAnABcACwAYAAcA/v8AAP7/7v/2//P/7P/p//X/5v/f/+r/9v8EAAQABwAlADQANgA7AEwASABMAD8AVQA9AEkATwAtAC4AIgAbAA4ADQATAA8A+P8NAAcADQD//wMACQAKAAwAFAAaABoAJgAYABcAJQAkABcAFAAMAAMABQDy/+P/9P/k/+b//P/r//b/9//9/wMADAAYAAgAGwAYAC0AGwAgADcAJQBDACgAPQArACgAJgAQABYADQAFAP3/+//x/+b/+//b/+v/2P/s//b/5v8BAAEAGAAhACoAMABFADkALQA/AD8AKAAzACQAKgAKABUABAAaABwACAAbABkAEgAjAC4ALQAhACcAHwAZABAAIwAUABEAAAD6//7/7P/7//j/8f////n/9/8dAAwANAAiAE8ARgA+AFEAQgBfADsASQAuACoAIgAAACQA9P8LAPb/8f/c/9z/7f/Y/9j/1P/h/9b/8//t/9j//P/y/wgA+f8WAAAAEAATAB0AIwAeADQAGgAxAB8ANQAgACsADQAWAAQACwDt//X/5v/i/9T/3v/M/8r/3v/m//L/7f/8//7/+f/3//P/5/8KAPf/7P/n/+7/4P/e/9z/8//i/+P/5f/c/9v/8f/a//D/AgD8//j/AAAHAAUABAD9/wYA+f/g/+n/2f+6/8P/x//F/6f/vP/H/7T/uf/K/73/wv/K/9n/0P/j/9//6//b/wUA9P8KABYAGwAeABsAIAAZAAkAFwATAPz/8f/u/+//5v/g/+X/5v/r//j/8/8DAPn/FQAJAAoAEAASAAcADwAHABQABQAOABwABAAXABUACQATABMABwAQAPH/AQDu/+3/9//v/wMA/f/1//z//f/5/wMA+P/9////7f/n/9j/1P/k/93/3f/g/9z/4//X/9f/4P/o/97/zP/k/9f/2P/j/+L//f/j/wIA+//3/wUA/P8GAPv/AQACAOv/DADt/+v/8v/n/+f/3//o/83/1f/R/8L/yf/B/9D/xP+y/9f/uP/E/7//y//R/9b/3f/S/9H/7//g/+L/1/8EAN7/4v/R/+r/3f/m/+z/8v/m/+3/3//b/+H/9v/f/97/4f/c/8X/2//E/9j/s/+//7//w//G/6X/u/+9/77/zf/F/9j/+f/u/+T/AAD6/wIAAwARAAwACwAEAAIADAAAAAoAEwAQABMABwAAABEAFgADAAAA9P/6//n/7v/h/+3/8v/j/+j/9P8JAP//CgAIACgAEgAeABEANQAlADIAHgA3ACcAIQAtABIADAAPABwABQANAAAA/v/8/wEA+f8BAAAADADy/xEABQABAAAA+P///9v/7f/f/+D/6v/1/+r/+//k//f/BAAAAOj/EAAAAAMA8v/5/+3/8//v/+n/9f/n//L/5v/z/+7//v8AAAEADAAOABwAEAAsACAANQAxACMAMAAMACQA+v/7/+T/4//V/97/2P/R/+z/+v/q/wQAEAAeAAkAIwAZABsAFgAMAA8ADgD6/woA9v8kAAQADAAVABsADgD+/woAHgAKAAYAFgAVAB0AHQAgACAAAwAZAA4AGAAEAA8ACwAFAPr/+//4/+3/6//5/+z/8//7/wUAFQAXABMAMQAsACUAMQA9ACsANAArAC8AMAATABsAKwAEAAwABQABAAAA9P/k/+f/0//m/+v/y//e/9r/+v/m/+f/CAAGAAUAFAAkACAAPQAqAEUAOAA3AC0ASgA7ADoAKAAoABkAAAD6/+z/0P/E/8H/yf+3/8n/yP/J/9T/zf/f/+v/BwANAPj/8v8PAAsAGwAWABsALAAtADUAGwAgACcAIgANABEA9//8//T/7f/h/+P/3v/4/+L/8v/k//r/0v/t/9//5v/e/+b/7P/1//L/7f/5/+3/AwAOAAUADQAKACYACwAQAAEAEwD0/wwA5//u/+3/+v8AAPD/9f8FAPr/BwAJABAA+f8KAAAA8P/6//f/BwD5/wAA2v/w/+v/5P/u/+D/6//Z//f/7//9/wAA/f8KAAYA/v/s/wAACwAAAPH/+f8NAAUABQDz//X/5//g/+b/4v/9/+X/9P/1//z/6////wEABAADAPb/CgD+/wsACAD6/wcAAADu/+z/+P/i/97/2//m/+v/1v/q/wIA7P/8//r/LQAXABMABQAfABAAEQATABAAAQD///H/IADt/wAA/f8QAAAA+f/y/9r/4//O/87/s//D/7D/yf/D/83/3f/x/wgA+/8WABUAHwAYADMANwAlADcAIQAqACEAJwAlABQAJAAXAAoAAgDw//L/6P/q/93/2v/O/+b/6P/W/+H//////wUACwAAACoAEgAcAA4AFgAtABEAKwAqADgANQBCADgAMwBDACcALQAmABsABQAIAA4A8P/o/+3/3P/2/9z/1//q/+v/9f/g/+L/zv/r////6f8BAOr/AAAAAAUACgARABQAHQATABcABgD//yQA+//x//D/8f/4/9v/1//L/+r/z//V/8//+v/j/9v/0//c/+b/z//e/9f/6v/f/9X/6v/z/9//2v/i/8//6f/a/+f/+f/d//7/BQAJAAMAIAAQAB8ACgATABEA/v8jAP3/CAADAPT/5P/0//b/6P/T//T/7f/l/+X/0//V/8n/xf/N/8n/xf/T/9r/3//n/97/6//0/wgAGQADAAgAGgAlAB4AFwAWABYACwAZABcABAALAAQA///h//P/0f/2//j/5f/v//L/BQD+/wQAEwAgAAQAEQASABUAFQD8/xcAAgDv/93/2f/b/9//8v/o/+z/9v/1/wQACwANAP3/+v8LAPn/BgDu//D/5v/d/93/7v/i/8b/2//Q/+L/7//q/wAABAD3/wAAGwAUAAsAIAAKABsA9v/9/wYABwDv/83/2v/m/7j/0f/c/+7/6P/f//L/9//9//X/FAD8/wUA8f8HAAoA///7//H//P/w//P/6f8AACUAEQARACYAIQAiAEQANwBDAB0AOAA+ABsAEwATABMADwD3/+f/9P8KAAMA9P8AAPj/+/8FACQAJAAgADYAIgAsACgAJAA1ACkAFgAiACAACgARACUAGQA0AA0AGAA0ACoAKAAhABgALgAkABQACAANACEA/f/1/wMADAAAAOz/7v/X/+n/4//d//f////7/xQAIAAQACYANwAzACYAGAAoAA4AJQAVAAYABAD///b//P/7/wsA+/8aAAgADQAHAA0A/v8RAO7/AAD7//v/7P/6/+n/9//h/9j/3//f//f/AAAEAAcAEQAQAC0AHAAtAEAAOQBFADAAMAAMAAMADQAAAO//5/////f/6//o/wsA//8EACAAAgABAAYABAAHAPv/BQABAOL/AgACAPH/BADz//v/+//g/wAAGQD4/wIABgAFAAYAAQAKAA8AEQAQAAQAKQA6ACAAJQAnABwAPgAOAC8ACQAeAAsA/f/x/wAA7f/5/+z/5P/t/+D/8v/h//3/9f/w/9X//v/h//T/4v/0/+n/7f/p//P/+f8BABUACgAIABgALQAuABsAJQAhACQACAAIAOn/9v8XANL/4v/g/wwA5P/j//T/9//7//X/3P/0/wAA1v8DAPf/9f/w//r//f8DAAgAAQAVABQAGgDo//7/CgARAOb/8P/r/wMA7f/u/+3/6//2//P/+P/m/+L/9P/r/+j/+P/g/9//BAAOAAIAEAAcADsANAAoAEEAKgA0ACcALAALAPn/6f/s/9v/4P/A/6v/yv/S/8X/t//T/9H/zP/A/9r/z//m/+3/5P/p/wgA8f8gAAUALgALABsAPQAQABYAFgAgACkAJAALABEAHQAQABYACQAiAAsA+P/w/9z/4f/M/7z/wP+n/6b/xv+g/6b/rf+z/6n/u//C/+L/2f/h//T/8f/1/+//DgADABIAFwATAPX/BAAbAAcACwAUABcAAQAJAA8AEAAGAA4ABwAEANj/8//b/wAAz//w/8z/yP++/+7/v//u/9b//v/k/97/7P/k//X/AQD8/wkA7f8EABkADgADAAMAEADx//j/8P/4/+r/6P8BAN7/1v/W/+n/CgDZ/9P/+v/9/9//6P/w/wMA2P/S/+f/4P/a/7//zv/S/83/2P/h/wMAAgARABQALAAUAB8ALgA5ABkAHwAXAB0AAwAEAAAABAD3/wAA4f/7//H/9P/d/+j/9f/Y/9X/2P/T/+3/3P/W/9j/8P/6/+z/+P8aABwABQAbACcAOAAoAA0AOwAVAC4A/P8AAB4AEgDq/9//0//o/9D/tf/D/7z/4P/N/77/3f8HAOr//f/1/xgA//8EACEADwAsAB0ADQAiAB4AFgAKAAkAFAAjAAUA+P8KAAwA7P/0/wMA6f/R/+r/+P/r/+P/8v8DAP7/1f/a/+f/8v/T//v/0//k/9r/5f/1/xgACAAqAP7/PQAgABcAHwAkACAAFgAQAOn/+/8HAPz/CAALAA0A7v8LAPT/7v/v//D/7v/w//X/7f/e//L/DgAOAPf///8NACoABAD+/zEALAAHACAAAwAWACMALAA9ADIASAAwACAAPABOABIAIgA0ABEAIADW/w4A+f/a/+n/6//k/8P/6//i//T/9v/z////3f8SAOf/IQD9/xAADQAFABsAEgAiACYA+/8zACIANgAjABoANwAfABwAFgAZAAwAEQAAACUABAD7//v/6P/U//T/yf8BANv/0f/q/9f/AwD0/wIANgAOABoAQwA0ACQAJgAgADIAKAAUAAkABwD2/woA9P/o/+H/GAAAANr/CgDy//3/5v/0/93/8P/X//H/AgDu/+T/5//6/+v/5P8CABgABQADABMALwAGACMAFQAXAO///v/z/+7/7v/n//f/6v/G/8H/4v/g/97/2v/m/97/9v8MAOb/6v8JACEAFwD//yEAIQAYACoARgAbAAgAIQA4ACYAAAAoABoA+f8HAPf/7f/6/wQA0v/R//P/1//B/8b/7f/I/7T/0v/4/+7/uv/w/yEA6//9//n/FgAhAAoADQD8/xMABQAOAPb/IgAcABUABwAGAAwACwAAAAAA3v/Q/8f/0v/Z/8b/8P/g/+//6//w/wsAFQAKABIADwASAA4AFgAyABAA/v8aABEAFwAMACQACQAAAPr/9P/m//H/7f/h/+7//v8BAOP//v8iAPr/8f8HABQA6P/f//D/JgDV/wIA1/8dAA8A4/8QABoAKAAHABUAQwAuABEALgBGADoA9f/+/x0AFQD2/9b/6f8MAOf/0f/V/9//2P/L/8P/4v++/9D/7P/0/9n/2P/a/xMAAAAMACsA//8jABAAJAAYAP3/EQAiAA0ADAAHAAAAIAD8//T/5//G/+z/3v/d/9n/yP+3/8v/z//e/8f/y//n/9D/6f/b/+f/9f8SAO3/9P/s/wMAHgAAABIA2f8MAO//4v/5/wIA6f/Y/xEA4f/h/9j/8P/0/9z/5f/a//X/4//l/97/5v/w/+X/6f/i/+H/AgDs/9v/4f/s//H/uf8MAOP/+//y/w8AHAD6/wkA/P8SAC4ADAAlABQABQAfABsA+/8RAB0A8f/g/9n/8//U/+H/EADd/8L/pv/T/9T/xP/O/+L/8v/Z/77/8f/u//z/7/8FAOX////y/xEA+P8UAPX/8/8cAPL/6v8KAA0AMQAAAPb/+f/e/xMABAD2/+P/yv/a//P/1f/E/9r/6//0/9j/7P/7/w4AFADf//f/z//8/8v/z//Q////z//U/+L/+f/c//L/KADr//b/BwDr/+j/8////7j/zv/x/9H/tf/Y/9z/5P/h/8//7v/W//D/9f/T/wEA7//5//T/+v8CAP3/GAAeAPX/8/8UAAkADAAgACMAGwD8/zcAAgDp/xoALQAlAAoAGwASACEA+v8XABIACQD8/+n/CQACALL/7v/s/xMA+P/2/yQABwAvAC8AIwA0ADQAIgA9AD0AQgAmAB8AOAAOAO//BwABAAsA/v8ZAAQABQDl/zkA+P8IAAQAJgAnAPb/FgDw//f/KQAcAOP/KAAiADIAJgBCAF0AGQA1AEwAMgAdABQAGAAZAPj/FwDm//X/7/////X/y//x//v/7v/c/wAA4v/n/+n/EADr//H/2//7/w0A6//k/9f/9f8OAOn//f8MAPX/CAAAAAIAMwAOADEALQAGAA0ASwBSACIAEQAzAD8AKAAsADUAIAATAP7/CwDt/+n/1P/W//H/CAC//9D/8P8HAO3/6P/7/w0AGQAfACcAHgAkADAAOQBBAEIARwAxAEEAKAAKAC8AEwAXAPb/DwD8/9L/4P/0//r/+//K/9T/uP///wEA5/8qABwADQDo/y4AVwBVABcAOgBBADAAPQAZADUAIAABAPL//f8IACEA8f8tABUANgD5//j/GwD3//7/AAAAABUA4P8JADcAAgAYAPL/IwAzAAgACwApAA8ABwDi//n/DQD6/wIA5////xsA8v8LAAEA1P8DANr/5f/q//D/7v/m////8P/L/+z/GQAKAAEA3v/l/wUAwP/i/9L/BQDU/9f/BgDj/+D/EwD+/+z/9f/q/+3//v8kAAoA2//d/9L/3//V/8P/2v/t/+f/0f+5/7//pP+4/9r/uv/X/57/yP+5/+n/1//O/9v/2//Z/8H/DQAUABIAMQAHAP//BwAAAEYARQBeAE0AXQAkAAEAGQAUACcABgADAOH/3v/6/9n/z//l/+X/5P/N/9r/w/8NACEA+P/i/9X/+//x/xMAIgAiAB0AHAARABUAJAAHAAgA/f82ABQAHQAhADQAAAD4//X/9//j//L///+6/93/6v/o/8//7P/Z/+T/y//1/+v/AwATAPn/9P8AAPL/4v/N//b/HAD7//j/2P/1/9n/BwDd/wUA9f/6//r/4//m/+L/7//6/9T/qv+r/7D/wP/E/63/u/+h/7f/tP+t/6v/wP+9/9P/sv/G/8//z//x//7/2//s//r/AQD9/+P//f/r/83/9v/Q/93/BgAEAPP/v//O/+z/9f/m/9b/yv/W/+z//P+k/9D/GQALAMf//v8VACIAJQD6/xkA5f8RAO3/9P8QAO//9//s/+P/4v+7/+X/6f///+L/yv/l//X/9//J/9D/x//w//T/zP/h/wMAIAD4/wsAAQDq/w0ACQAWAMj/9P8oAPf/4P/y/x0A4//y/wMAKgDo/wAAAAAAAPr/AwArAOT/DAATAB4A/v85ACUAAwADABoAFQDe/xoAGgDk//L/3P/j/9T/4v9DABsA9P/d/y0AHwBYABgA0P84AEUAAQApAPX/NQApAEUABADp/yYAv/8zAAsAKwD5//j/DgADAAAA+f8VABUAxv83AAwAzf8RACcA9P8AAMz/z/////P/IADa/+z/0f8AAPb/EwD7/wAA7f/p/zcABwApAA0ACAD+/+z/w/8MAAsANwAHAAMAzv8DAO7/NgDn/wQA+v/r/8b/DgAxADYA9v/8/1QA7//l/xEAMwBWAPz/9v8QAMz/OgAWACYAKAAeACQA7v8yAEQADAD4/x0AKwDX/9T/7f9QACsAxf/8/wAAMwDU/yIAKwAGAAoAHAA5APr/JQA0ADYAMgACAC8AGABEAC0A6//r//L/AwAQAN///v/6/8f/CwDj/wwACQAvAAAA9P/a//b/GwD//yAA6f/M//n//P84ACcA6/86AP7/XAACAOP/HgBNAHMA2P/2/zYAFwC8//T/FgANANf/wv8mAOb/4P/Y/wsAGADa/wIAAQApADUA8P8mAEQADgA4AO3/5f/9//n/IQAOAAYArP/v/y8AOwDl/7f/YwBNAO3/rP8ZAEQAt/+p/x8A6P/q/7//XQAEAPn/3//6/y0A3P8MAOf/4/8eADAAHgDK/xEAt//m//7/0f+V/7T/SADD/9//bf+I/xcA0f/I/3z/NgE8Au3/oP8+AFEBxACc/4wAsQBfABIAngAvAagA7f/p/4EAKQARAHr/IgAfAdP/z/9F/27/wP/9/t3/k//S//P/Sv+c/8L/3f++/7X/qP/K/ykABwDV/93/KwD+/7j/8//m/wcANQD///X/xf9AAJ//bf98/43/nf9X/4j/mv9n/3H/LP9w/5//nf+V/2//mf+e/4z/qv/2//P/zf8BAAMAGADu/1EAXABOAGwAHABrAHoANAAfACUAiAA4AMn/HwAzAEsA2P8JAOr/d/+U/57/8v+P/8n/WP97/5P////Z/2f/t//i/wMAFwAwAEUA4/9uAD8A//8kAFAAUgAAAF0A1v8sAC8ACwA9AML/CACV/5//2v+y/6v/pP/L/4X/e/9S/5P/1v8DAMT/U//G/y4APQAWANn/MQDz/zUAYgBIABUAVABGAEsA+v/a/+//1P8HAOj/mf+y/83/y/+x/6P/gf+P/6L/pP+T/6r/CQDk/8L/1/+s/+X/r/8bAB8ABQDX/wkAVQAQANj/HwA/ACsAAAAdAAUAJAAmAA4Atv/X/+n/wv8AAN3/v/+y/7L/DwCn/6L/q/8NAAUAyf/c/yUACwAIABwADwAiAEYA1v9wAGIAgwAMABQATAA6ADIADABOAEAA7P/s/+v/JAAHAN7/s//J/yUApv+8/6v/MwC+/2b/zP8VACEAmf/T/yAAcAAtANT/KABOAFQACgA+AFwAGQDg/xkAZABhAOf/3v8fADAA/v+///L///8NANX/4P/z/93/nv/R/7z/6v+3//L/CgA9ACMA9//d/1AASAA3APD/+/8nAEMA/P8QAEIAhAArANj/tP8+AF4AMQDu/zEAGQAKAMz/7P8jAIcADABT/7T/NQA4ANT/rf+cADUArP+H/xUA7gAxAPX/EgCRADcA7/+//1UAwAA0AKL/rP94AB8Auf8/ADwAaQC0/+3/TQAdAAQAyf9WAE0AzP+L//r/QQAYAOn/kf/L/8T/2P/T/+T/0//m/wIAy//p/8P/pP83AEcAlf9w/+b/OQApALP/jf/I/83/9P8GAOL/1//Z/ygArP8/AAIAy/+9/1UAbAApALf/KACIAFUAVwDr/yQAZgAXAAAAGQAbADYA2v/Y/x8AIwDM/6v/UQApAKH/av8DAGsAyv+7/wMABAA1ANL/m/8CAE4AbgDs//X/TwBKAB4APQA+AFYA6v+W/+j/QgDz/9X/GABNAPL/af+z/+b/EgDQ/1L/6/+q/6j/u//3/x0AGgCk/6L/yv8AAC0AGQAHAPb/7P8VAIr/6/9AAFUAwf+9/woAFQA8AAoA4//M/z4Al//F/+X/cgAzABkAxf/S/+r/5f/U/xsAhwBbAAYADQBHADkAAQAAACAAZwBOAMz/GwAaAE8ARgDP/+3///8CAAEAyP/g/zEALQB1/wr/0//l/7z/fP8aADMAx//O/8r/AADq/7//+v8FABIAqf/G/0QAPQDl/9r/AgBIAP3/gP8gAFEAdAARAPD/nv8fAPP/iwBtAAkAsv+f/yIAbgDv/4r/5f/M/8f/gv/v/w0ACgDd/7f/1f8aAGQAAQCg/1cAlQCDALv/1f/w/3EAgADj/9H/8f8pAPb/LQBVABEArf/X/1IAlwD5/53/wP9TAAEApf9x//n/ZgAOAKv////u/yIArf/M/x8A7P8vAAcA8f8dAPH/ZP8hADEARADq/5v/hABWAGoA4P9v//D/GQDO/6v/wP8zACQA5//M/7L/1P+1/9n/8f/o/7//mP/Q/wIAKQC3/8P/yv9RAOb/vf/M/zoAbwARAG7/Vf/5/z4AXgA6ACYA5v+i/wYAUACtAFEAo/98/73/RgBWAPb/5P+V/wgA3f/u/9L/8/82AD8ADgCc/8f/1v/Q/1EARgCz/+j+ff9jACAA//97/4n/2f9KANn/NP/I/5kAhACg/5n/nP/z/4EAgQBvAJH/kP+a//7/fgCIALL/Ev8d/xQAEgBXAJH/fP+F/7z/5v+h/ygAf/+4/8P/DwAvAGT/9/8CADkAOQCR/9r/ZwCLADQAMQBCAAkA7v+5/6QAZQCr/7r/hP9KAEYA+v9R/4b/XQBGAJT/Mf+S//L/aQAjAHH/bf8EAHMAkwB2AA8AWv+P/8IAHAF2AHv/0//j/yIACwApAPP/ev+Y/+H/QAAtAHD/if93ACoAof/1/q3/ZwAzANb/cf9L/4IAOgB9AAoAnf8HACoAgQCNAMv/TP93/5UAyABnAFf/3P8JADwA2/9H/+P/RwD9/0//UP/+//H/9/8FAOz/9P8i/5T//P+0APv/CgDr/zIAEgAw/7X/nwA+AX0AD/9R/8j/pgAvAA4ACACU//b+YP9+/wkAsP9a/yr/T/9A//v+uP4nABACVADO/yD/WwBBAVwA+AAmAFwAFAFpARsBOgC+AKEBRQEvASgAx//z/0QB4gCVAAcAPP8q/z7/ZABy/7T+Y/+l/9f/BP+C/gb/7f8GALL/i/+F/6f/JQAvANb/PwD8/4YA+f8YADgAegAUAFwAhQA1AFP/wf/G/+X/NgDi/1L/+v5M/+j+M/8f/9L/M//M/jr/d/5Y/2H/3//j/2X/pf/K//H/mP9+AIkAhQAQABEAUAHeAPUAPQC0ADEBwQDaAL0AawCaAPgAKAExAUcAJQB6/yAAIgG7AKf/WP+v//n/RwDH/+3/q//0/+T/JgATAPr/EgB5AGUAPQA4AFcA2ABqAJ4Awv9eAHsAWQBqAFcAKACK/9r/IACAAK//Rv+H/8v/8P+F/6D/fP/I/9P/x/+l/9n/BwD0/7f/ZwC7/z//+P/p/3YAOAD1/+b/of/Z/9b/FgCAAGEAXP9y/8P/CABKALH/ov9Z/9L/EwDa/97/zf87AKz/tf/E/+T/QwDV/yQAMgCw/87/1v8BAG4ADgDj/xMAGQA8AP7/WwCFAPT/1v8tAPn/iQBnAC8Alv/F/zIAAAAYAF0AlP/4/+P/lv8AAN//v//Q/8T/XAAmANz/2v/l//MAdgANAEgAHQCGAEwAiQCwACEAhAAtAAIALQAWAFUAJAAbABgANv9H/9v/4v8pAIL/S/8w/3n/xv/6/27/tP/c/xEApv+C/8z/CgBVADgAFABdAFIAmP/W/4oAvAAaAIn/lP8BAMb/ZwAEAOf/fP9K/6//n/8kAHD/C/9r/8v/EwB9/5r/uv/j/0UAxP8vAEv/z//Q/0sAsQDd/0QAwf88ACIA6/+MACcA/v8EADIAZwA6AFcACwA3ABAAiv87AOj/NgC8/woAMwDQ/7z/I//t//3/KgAmALT/8P9x/+X/0P/3/wIAh//M/6//2v8nADgALQD2/+7/vP/n/xEAOgBvAP3/yv+n//r/AwDm/wMA3v8NAK//rv/3//b/BgC7//L/3P/d/73/xv/Q/1QAIgA9AH7/u/++/+L/KgArAPX/pv+J/+//KgAsACQAxv82ACwAFQD4/zgAHABKAPT//f8FAAYAJwDd/zQAMQDi/yQAvv8zAP7/5/8oAAAA5//j//7/JgDV/4L/FABGAO7/BQCc/zsAUQAzALv/t//c/wAA9v+i/9r/lf/2/8z/1f/y/6r/hP+2/xIAggDK/7n/y/8fACIAzP8PAB0AXwDl/93/AwBVAFIAlP/u/9P/7f/g/9X/AgCJ/woAdf+3/6D/vP/i/+v/w/++/6L/wv/m/93/DQDJ//H/0P8VAPv/EwAkACsADgAtACAA8v9OANn/TgAPAPr/3//k/0UAPQAYAOf/CwAPAPX/tf/4/yIAmf+B/9j/sf/j/5T/0f8TABIA7v/4/z8AMQAxAA0A3f8BAE0AMAAzADkAEgAfAAAAVAAjAPz/3f8VAO3/6P/E/8P/zf+l/8H/yf+5/7z/kf+9//P/iP/H/4X/zP+1/8P/5//l/yIA6/8eAAAAQgBQAGwAVABjAFUATAAQABkABQD9/ygAMAATALT/4f8FAP3/4P8QAKD/pP+i/67/8f9X/+v/f/+T/2H/0v+K//D/hf83AM7/4v8QAO3/FwA9ADsAJAAbAGgAawAbAJQALgBxADoAgQAYAGwADwA7AOv/+P/B/7f/PwAIALf/u//H/6L/v//p/wAAr/+3/6H/4P/g/wUA7v/3/zkA/v/T/ycAhQC/AGsAUABXAA0AbgBtAIAARAAuAD8A7f/c/yYARgAAAOX/v/+d/43/0f8ZAKv/t/+c/4P/x//V/wgA8P8jADoA/f8SAD4AJgA1ADgAKAAkABwAEABKACcALgAIAPP/HwAoAE0A+/8zAFUADQADAPP/8P/1/wcAIAAFABgAKABCABAAFAAIAAoAEAADAF4ATAAvAPX/CwD7/w0ALgAnAA0AKAASABoASQBZAEQA7f9GADwA/P8ZAAAAPwC2/93/yf/i/5r/4f+t/5P/zv+r/53/mf+a/wsAv/+u/8P/wP8DAOf/7P9LAO7/CQD9/1AAJABYABoAJAABAFgADwBFABAA7//i/8f/wv/J/6v/wf/d/9b/uf/M/6n/vP+e/wIAFQDu/zQAFwAHABsARQBiAG4AXABcAHwAiwB9AEkAZgBJABMAFQAAAOz//P/5//v/wv+y/4P/mP+T/9H/wf+r/3X/pv+g/57/nf+l/8n/vP+7/9H/2P8AAMX/BgD2/x0ALgADAEIAPgD+/wAAEgAtACEAQAA0AEcABwAPAPP/AADI/6b/cv+e/7n/iv9m/2X/gf9o/zH/iv+v/7D/ov/A/8v/yf/a//H/AAAuADoAHgBkAFwAQQBtAFsASAA3ADkAYwA9ABMAEADI/9f/rv+C/2T/l/9U/zX/av9f/0v/Gf9Z/5L/jf9o/2H/p/+6/8P/w//s/xgALgAvAFcAggBaAFYAXgB6AIUATgBZAIAAXQAcAA0AAAA5AOD/DwC0/97/tf+m/5T/Zf+f/13/f/+J/2v/k/98/4D/ef+O/5H/yP+//97/DwACAB4ALwAAAGcARQBXAGsAXABXACwATwA4ABoA9f8hAAwAvP/U/7z/u/+S/4f/hf+O/17/Uf9//4D/af+B/1//gv+j/9H/sf/d//7/DwD6/yoAPwBeAFkAWwBqAIIAZwBaAFQAeQA+AAUAOgAtAC0AFAD3/wwA2f/e/8f/vv/e/9T/x//T/8z/3//e/9H/+P/i//T/JAAAADMAMQA5ADAAQQBCADwAVgA8AGAAXQBGADkAOABAACQANQDx/xgA7v/2/+v//P///+v/5P/v/+D/9v/+/x0AAAD3/+T/8P/q/+v/5//x/+7/+f/+/9v///8FABIAEADm//7/8P/7/wQAAQDz/97/5f/G/8P/2f/N/9v/m/+4/7v/3//y/9f/xv/u//z/HwDq/w8AIAAUACMACQAWAPr/HQAXACQAIgAXAAsAHwAFAOr/EwAiAAQA/f8DABwACAD1//b/AADu/+H/4P/y//n/0f/v/+T/0f/n/wEA7v8hABsAFAA0ACAARwApAFMASAAgABYABAAaAAQADwDa//L/pP/7/+P/9P/q/9z/xP+t/8z/0v/T//z/4f/v/9T/1f/2/wQAFQAFAA8ABQAoAA4ALQAeADYAAwAvAAsAHwAoAEkAKwAnAP//CAAVACMAEwAAAA4A///w//3/DQAeAP7/HAAEAB4ALgAmAEUADgBNAAQA+/8PACQAMQD2/93/DQDw//n/EwD8/wAA/f/x//b/AgAoACQACwABABIAGgANABgAAAAZAPP/6//o/+z/+v8IAP7/2v/7/9j/5v/r/+7/4v/R//T/3P/v/+H/9//d/+f/0//X/+L/4//r//L/6f/r/+r/9P8IABYACAD+/////v/2/wYAAwAOAOT/EwDp/wcAAwAAAB0AJQAfABkAHwAYACAAEAAaAPr//f8BAO3/6v/S/9b/4v/a/9z/2f/m/9P/2f/j/9//5//d/wMA+/8AAA0AFAAPACkAIwA4ADIAJgAiACcAFQARAPj/+v/1/97/6//t/+X/CADq/+z/5//G//H/2f8BAOf/AAADABcAAAAgAA0AEQAcACQAHgAjAAEA8P8AANb/AADQ/9j/1f+8/9H/zf+m/7r/qv+0/7P/y//W/+v/4v/4/+r/8f/l//7//v8VABMAJwAMABMAAgAAAOb/9f/t/+X/4P/h/9f/2//c/9r/yv/h/9n/zf/d/+L/3P/h/9b/1P/O/+3////4//7/9//8/wMA5//q//L/1P8AAOv/+v/K//j/5P/Z/+D/CADu//z/3v8HAN//8f/2/+//7//4/+L/2//1/+v/3v/j/+z/3//Y/9r/3f/g/+H/6v/O/9z/tf/m/+r/AADy//T/5/8AAAYAHQAbAA0AGwARAAwAFQASABUAAADz/wAA+//9/+//BQDp/+P/1f/a/+D/7v8AAOb/9P/4/wAA9/8RABYAHgANACAAHQAiABQAOwAbAB0A9P/4/wEACwDz/83/5//I/9z/1f/o/+f/5P/r/+X/7v/q/wcAAgAJABQADgAiACoAHAAkACIADgAHAPr/6v/v/+f/zv/a/73/yP/D/7r/o/+S/53/qf+z/7//s//Q/9T/7f/D/wEABAAOAAgADQAUAAAAHAAVAAUAAQDx/9z/+v/v/9f/2f+//7n/uv+R/8f/uv/K/8L/yv/H/7r/yf/w/9//5f/w/+n/7//u/w4A5f/5/xYA6f/r/+X/9v/v//P/EQDl/9r/7//m//z/7/8IAPf//v/v/+j/6v/2/+7/5P/j/97/0//U/+r/1f/d/8r/0v/V/+P/7v/v//H/9f/x//3/CAD7/w8AFwAHAP//+/8qABYAHwAlAAoAEwAMABIAGAAGAPz////j/97/+v/u/9v/3v/J/9b/v//d/9X/6//s//z//v8BAC0APQBKAEQATgAwAD8AOwBFACwAHQAQAAsA9v/0//7/8v////L/3f/P/9P/9P/a/+X/wP/Y/83/3//p//L/BAAEAP7/AgAJACUAIgAvADAAOQBCADUAOwBEAEEANAAjAAoAFQAWABcADgAJAOH/7P/W//T/8v8IAP//BQD0/xwANAAkACwASQAyAEgAUgBPAEoASwBFAFEAXQBNAFcAWABmAEcATwBUAFQASgBdAFEAXgBNAEkAQgBQAEMATAA7AEAARgBAAC4APwAeADEADwAjAA4AHgABAAAACADo/+b/+P/b//j/0v/0/8v/vv/O/+X/z//J/9P/yv/P/8H/0v/R/8b/0//e/9b/6v/X/9P/1v/C/7z/0//B/8n/0//B/9v/zP/Y/9P/z//m/+X/7/8aAB8AGwAXAB0AIQAkABYAJQAfADUALgAXADQAGgBNAD4AOAAoAFcARQBAAEUAPwBWADcASgBGAEUAbQBdAFMARQBEAE4AUQApACoAMQAoAAsACgACAPL/7P/i/8//yf/T/8v/uP/T/8D/zf+u/63/rP+i/5T/j/+I/6T/ov+e/63/q/+7/7X/rP+1/5//l/+U/6n/mv+d/4T/l/+N/5//p/+h/57/m/+q/6X/sP+0/7n/vv+5/8r/4v/U/9L/0v/F/9j/0f/N/8D/xP+6/8D/6f/X/97/AAAIABYADgAvADgAKwBWAGAAbQBkAHcAcQCLAJYAkACSAJ8AqQCWAKkAqwCtAKcAuwCiAKwAkACbAI0AewBuAH0AYAB8AGoAeABYAG0AawCOAHsAfACOAJMAhwCVAJIAegCiAHMAgwBoAHoAcABsAGkAcwBaAE4AXABiAEQARAA6ACUAKgAaAB4ACwD1//3/AADV/8L/yv/H/8H/uP+w/7D/ov+s/67/r/+4/7X/uP+//8H/0v/S/+D/5f/h/+v/+//+/+n/5//r/wAA7P/i/+D/2P/d/8v/3/+//9v/sv/I/6z/sv+o/5P/iv98/2z/cv9P/0H/Of8h/yT/+f4B/87+4/69/qn+pv6U/nL+Yv4x/kz+K/4M/vr94P3V/ar9nf2L/YH9bv1f/UX9PP0e/fz85Pzv/M/84fyz/L/8w/y7/N/8xPzm/O/8Av39/CL9S/1X/YT9lf24/d39Af4v/mj+j/7V/vz+Jv9q/47/4v8fAC0AlQC4AP4AQwGBAbgB/wE6An0CmwLjAhwDXwOPA+AD+QM4BGQEiQTABN4EDAUNBT4FNAVnBWgFgAWZBZgFkAWPBYQFhQVwBWgFTgUpBRwF8wTiBLgEjARoBEMEJwTBA5YDZAMjA+MCvAJ9AjcC3QGtAV4BLQHhAKEAVAAZANL/n/9b/yz/4P7A/n3+U/4C/vD9tP2a/Wn9QP0f/Qr96vzg/LL8wPyj/JP8iPyY/KL8pvy+/OT89vwo/TX9Uf2W/ar9+/0G/lL+cv6j/tT+EP9G/3r/sP/T/ykAKQBjAHoAkwDLAMUA7gAAARYBFwEcAS0BLgEVAQ8B6AD/AMsAxwCqAIAARwAeAAsAz/+N/0f//v7M/n7+Kv7l/aL9av0W/dD8ePxA/AD8svtu+y370fq++mj6U/r5+er5q/mQ+VL5JfkS+dH4kPhx+FL4Pvgc+PX33Pfh99b3z/eY96H3oPez97L33vcG+F34pvjy+HP5zvl1+sj6b/sK/Kj8hv1O/k//TwBRAXkCqQPFBMoF+Ab6BxgJBwoaCw8MPg0MDiAPvw+JEEER5xE2EpES3hIqE1ATJBMwE/YSxBJGEssRNBHGEAQQWg9jDr4NEA00DHYLqAr2CSIJQwhVB10GmQXLBO0D8AI2AoYBBwEuAH3/zv42/on9zfwB/E/7nPrc+QH5P/iI9+H2FPZh9cf0NPRz87ryD/KF8QLxd/Di74jvUu8c79nuwO7G7vPuFe9r78vvbvAX8eHxr/Kf86f02PUK90T4k/nx+m382/1p/wUBtAJOBAQGmgc7CaQKGwxlDYMOuw+qEKgRiBJmEyQUoBQgFWAVfBWOFU8VDhWkFCgUgBO7EvgRCREWEAsP3w25DJULPArxCJsHRQbtBIsDEgLiAG//OP7U/I/7QfoY+c/3pfaH9W70PPNF8kfxD/Am7/rt/Oz26wnr4ukO6SHoPOdh5o7lrOTu4yjjbuK/4TDhluAQ4LrfVN/93sTewN7J3szeLd+J3yLgH+Eb4jXjkeQC5sznbulD6zjtiO+38Sj05/aa+Xz8lP9+ApgFsQjGC3gObBFSFAYX4xlLHMYePCFgI3ElJye+KDgqgCtjLBctsi0SLhMuBy7FLTkthyyVK40qSindJ30mziRVI8UhJyB2HtUcCBtRGXwXYhVyE68RxA8iDmEMkgohCdYHEgaLBBADbgH8/2L+vfwk+4b55fcb9l/0ffLS8CbvUe3F6/HpOeiD5rTkJuNj4dnfSd4D3d3bt9qS2ebYRtjN15/Xgdfa12fYZ9lB2lbbw9xZ3iPgNeI95IXmLunz67fuq/HO9Ov3Wvt1/qwB7QTkB+cK7A2yEEATvBUoGGIagRxfHvEfjyG5Ir8jaiTXJAYlEyUSJaokLiRmI6IikiGVICMf3h16HDUb0RlHGNwWThXQEz0SphAeD38N7Qt1CkIJrwdABuAEjANGAucAQv/e/Yj86/pU+Zn3v/VF9Gjyh/DR7u3sCOst6T3nHOUr40ThNd9P3YvbqdkE2D3W5NR501HSI9E40NHPUc8rz/XOIs+fzwjQ/NC40S3TntRN1h/YqNoI3b7fYuKV5a7o9uvp7kjyyvUs+ab8PAC3A0QHEAvEDvsRgBWiGLob4h56IRYkjSbKKPwq/yyhLtYvODEvMi0znzPnMy00LzRBNMwzRzOSMrwxuzCIL0wufywPK3wp3icZJlYkkSL2IEofbx1iG2sZDBfnFMoSRBAsDrwLrgm8B44FEwO+AJn+LfzY+SX3VvQB8pvvwewE6lznx+Rm4uLfPt0S29nYwdab1MrSEdFLz9rN1czUy/zKY8oIyhvKbMrQymfLjMzzzbjPxtHp01bWENnb29He+uH75GPo6uuh72LzW/ca+y7/VwM5B90K1Q6MEu4VSxlZHEEfNiLIJEsn1ikOLB8uDTB4MdMyxDNsNMM0DTUYNdQ0STTnMxwzUTLWMIwvCS5OLKUqiCi6JtgkmyKAIDgesRtKGeAWIhSnEScPgQwyCrgHXgUuA9YAq/41/Pj5aPcC9WTye+887ZTqGOjR5XvjV+Ew3xzdsdqL2FXWNtTl0erP3M08zIDKKsmmx7HGr8X5xC7EAsTQwwvESsTIxI3Ft8bKxxXJycqhzJzO69Bf0/rVH9lV3NjfjOM35zbrSe8O87H2WPoC/sYBmQVaCVQNYhF7FYAZgh0vIaIk4CftKrQtbDCmMqs0wTbVOIY66TsnPVo+fD8mQFpAS0BKQAdAPj86Phs92TuIOs448jbeNLQyRzDJLX4rAyl6JvgjRyG/HvUb3hi4FV8SRg8gDAEJuwW+AkUAXv3B+tT3EvV28sPvwux46cnm6eM+4THeidsc2QrX6dTa0gXRYs+szTDMaMogyfPHCMdFxtjFusXnxRDGtsaHx67IAcqly4PNDNCE0irV6tft2g/ejeGq5Pznset372XzdPdX+3z/8QM4CDEMRxA1FN4XeBuKHtMhxyS0J1EqKS3RL1IyfjShNlg43jnjOlQ70TsrPD08xTs4O+I6DDoUOZo3HjaTNOMytjCALioswykgJ1YkQCE2Hj0b3ReIFGAR5g2vCmIHJgQvAQz+EfsU+ED1BPIW78jrmOhk5ZPihd/a3FraEdhF1ibUINIa0IDOlMzCysvIEMfwxcbEo8PDwjjCD8Ltwd/BOMKBwlrD8sP4xNrFXMe4yCfKB8wezjPQjdLa1G3XPtoG3bffOeOj5lzqCO6T8U/1Ivlx/K7/+AI8BswJjA0MEeAUBBnyHLsgUCSoJ7Eqwi0OMKEy7DQnN/k4KTsvPdE+M0BxQY1Cg0O+Q5pDHUNjQqpBOECxPgI9FTtbORU3YzSUMdAubyt8KAwluSGCHnEb+xeaFAIRNw1jCbkFvwFq/hX70vfw9HDy3+9C7X7qB+i/5Tbja+AC3p7by9mV16zV5NOb0rHRj9CBz7zO8804zUjMjMu2ym3KU8poyt7Kt8uZzLTNGM+K0P7R2dPj1SjYq9pQ3QrgD+MB5hLpQOyZ79Dyc/Y0+v/9lgFvBWoJMw30EEwUDxhNG5seniEyJPAmeyn/K1ku3TA7M1s1sDc0Ob46kzsjPC88XjwfPGc76TpoOuA50TiWN0E2bDSfMnwwzy0oK3soeiV0IhgfthtIGAkVNxHaDWMKwgZHA8j/P/zA+FL15/H37p/rjOhi5WriUN9i3LbZJNfc1P3ScNEZ0L/OZs0yzCbL3smCyGfHjMYrxrXFnsXBxTrG3saBxwHIB8nuye/Kz8v/zDvOpc8Z0aDSk9Sq1pXYBds93YDfvuEy5F7m9+iZ67Pu9/Hy9Fn4ofuA/mMBPQQCB/EJEg1FEPQTpxduG9MebiKKJZsoWiuyLfsvrDLSNN82NTkTO2I9Fz+bQKpBw0IqQ0VDqkISQvpAsT9bPrg8BTtFOQs3mjScMXAu7Sr0JnQjlx8oHJ8YLxWqET0OZwqhBqECv/4q+/v3ofTJ8WDvBe3/6qvoY+aZ5NXitODZ3ibdmttA2vLYp9fq1k/W+dVO1TLVtdRa1JrTG9Nk0vfRwtHR0R/S+9Kv04rUbNVg1mHXi9jc2TjbTN0k343h7ONO5u/o7utk7lXxa/R295n69v09AY8EWgi2C18PFxPoFugZVx0GIOYidSXSJxUqnCw3L6UxBzQiNv03/zjKOQc6DTrGOUI5fTggOJU3izZENacz8THoL2gtkyq0J90klSFeHuMaXRcXFMcQGQ2PCR8GYALd/ir7q/dC9HLxXu7l64jp+ebE5Evi1t9w3Tfb9tgx1+7V2NQs1DvTuNIY0n7RodCCz6fOCs66zS7N8Mw/zY/NAc4gzrzOfM8W0IjQQtHJ0b/SutPE1PvVsteP2SrbW91A3x7hKePm5CLnkek47AzvcfLQ9TH5c/yS/1kCCwWvB3kKgQ1oEAYUwxdxG/kefSLkJdQodSuoLewv7DH0M3g1Sjf/OL46RzxSPXc+KT98Pzw/fj56PRE8jTrtODo3ZDWGM30x3C4mLAgpvSUEIoweJhv1F9IUthG2DscLawjzBH8B8/3D+qb3p/QK8vnvv+316xjqLehv5szk4+Lb4AffOt222xHakdjC1/fWXtbc1XHVJNWM1NzTENN00tDRkdFq0cvRl9J+02bUhNXY1vbXWtm02o3coN7F4Dvj5eWA6DLrP+4K8QP0Dfcn+mr9wQDXAwgHeArWDTERlBTMF+4a7h2FIMwi6yT5Jt0oAysBLSwvPjENM6I09TWgNs82yzaGNh82eDXBNBA0OzNZMioxbC/DLaoreikOJzUkXyFUHlob5Be2FFIRIQ7qCsQHfwT1ALL9Efq+9qLzlfDZ7UHrxehd5g/kc+H33p3cVNpt2NvWb9WC1NjTLdOS0tvRHdGO0KvP586Pzi3ORc5SzqDOLM/Tz5HQOdEh0ujS6tPM1IrVktan19bYTNrp29Pdxt+n4Y7jf+U55/jo1eoV7bbvmfJ79Wf4eftn/ssAMgN4Bd8HXAoVDQ8QixPnFj4ajx2IIHsjOyZoKF8qliyMLoswHjLMM3w1TDetONM5qzqmO/E7kzvDOsk5WTjsNlI1wjMIMkcwJC6MK9cogSVaIqkeNRv5FxgV1BHMDpMLdwj0BKQBCP7e+vb3J/W08nbwc+6w7PrqOemR5yDmmuQX44/hCeDA3mzdKdw326LaF9ra2bHZctlo2dbYONiH1+rWbtYu1irWuNZc1y3YFNnr2fraINxb3a7ebOAa4jnkX+Z86OTqdu0s8MXyr/W5+Lv73v7VAdcEKwhyC6AOERKNFbgYxhtzHuUgPiNKJUYnVyl/K8st3S/iMbAzEjXxNVg2djYlNqw18jRVNLUzAjMbMt4wfi/RLSIszylQJ40k2yHIHp8bVhhJFVYSEQ9CDCIJ3wWuAmn/5fuX+JL1aPLT7yHtq+or6NLlK+Ot4ELe4dvp2RnYldaC1afUvtMU01bSodG00NvPF89qzhDOz831zTPOs85pzwzQwdDH0Z3Sb9NH1ALV9tX71jTYstlv21vdUd+A4VrjXuUL59boyOqc7N3uI/Ef9Nf2/fm4/HD/6wFYBGsG1wgVC6ANjBCJE9MWDhojHRwgBSNCJXQnaCkuK/wsly5cMPQxxjOGNcU2Ejj9OIE5oDkYOTU4IDemNWw08DJ+MfQvMS4ELLIpliZnI9AfaxzSGJMVZhJ+D5wMlQmMBnkD8P+p/HX5TPaN8wLxzu777ILr5OmE6E3n7+WE5C/ju+F04FXfR96F3eHcq9yQ3Irckdyh3GrcLNy+2znb4Nqf2qba5dqR21/cYt1Y3j7fQ+Aq4Ujil+Pp5K3mmejK6ubsX++18UL00/Zk+QX8rf5rASEEHAcUCg0NQxBhE6kWsRlKHMMe7iDxIrwknCZRKEUqOSxJLvgvoDHyMpkzvDOjM1UzgzLNMR8xWTCsL6kuZS0TLEAqQCjhJWEjriDjHfIa0Re7FLIRrA6lC58IcQU9Avz+h/su+PT09/Ey78DsJerp59vlbOMn4drehNyb2orYMtfv1THVfNQf1MnTR9Pf0kXSrNFS0d7Q7NDx0GjRBNKk0oPTRtRo1SvWMtcd2PbY+9nC2rjb/Nxd3vTfteF94z3lJueB6Avqh+sr7eDuFPFp8wr2yPh+++z9WQBbAlMEXgaGCOkKfw3AEKgTLxceGjYdGyCeIq4k1yauKKAqSywDLokvXjHgMnc0yjXrNtE3GjjTNzs3KDbNNHAz+DFkMBQvgy2QK2QptCa6I3YgLB3GGaAWlRPkEN8N+QrpBxYFwAGO/oX7lvgC9pfzdPGA7ybugewt69bpruhx5xbmuuRz4zniMeEi4Ezf59683sDepd6x3qTeE9553a3cANxe2zvbRdun21rcFt0K3rHevN+g4JDhz+IJ5JblUOdE6SnrZe3q70zy7vSF9yz68Px//xwC4QSIB6QKwg18EIoTRxbWGOwa8hyYHjUg8SGmIzslECf6KHwq5yvhLJ0tmi1gLdgsWyymK/QqOSqfKdUo9yeeJkMlhyO8IaIfMx2VGgYYLhW+EvYPmA3lCpIIxAUgAy8AP/02+pT3pvQu8tbvk+1e6zfpC+ff5JjiTOBY3oLc1NqN2XLYrtcJ12PWpdXj1P/TRdOE0vjRtdG20ffRRdLt0pLTZ9Q31QLW79bB14/YdNle2lnb3Nw+3tXfyuGh42nlU+cJ6aPqXuwM7kHwjfL69J73TfoF/Xr/swHkA8gFPwhXCugMjg+VEpwVrBiBG2Ue7CATIwolISfVKJUqJyzrLV4vMzGOMucz/zQ4NtE26jaWNuY1yjSoM1Uy1zB3L0AukyynKoso9yU1Iz8g9BzYGfEWBxQsEVYOSwuYCJEFbAJB/4b8pfkf97P0sPIL8U3vne0o7OHqaem45z/m2uST4z3iz+DO3wDfc97s3YTdVt0g3cfcGtxS23va/Nl02V3ZidkW2uPa3du43MndAN894JDhQePl5OzmCulE64jtT/DQ8mj1T/gZ++n9wgCoA54GqgmODJ4PnxKHFSEYWxqHHH0ehiDtIVAjviRiJucnWCnTKgIs/SyULaAtVy2/LOorJiuiKt4pwijkJwUnBSavJDUjHyFkH3sdAhtcGOUVVhMCEZoOEQyVCRUHjgTyAVb/pPw6+q33OPUE87bwi+5N7CDqDOj05bfjfOGA3/Ddctw22z7aa9nA2AvY/9Yi1hbVN9Rw0+vSpdLB0tjSC9Om02vULNXf1XvWe9d+2FLZNtpV26fcMt7V32vhgeNh5VfnUelI6y3tDe8m8bDz//Vd+AL7lP39//IB9gPIBdYH7wlODI8OQhHrE7sWOBmjG5UdbR8tIbkibiS/JSonnCgUKo8r0CwPLgYvOTDwMDgxHjGLMPwvKy8JLsosmiuLKmQp0yfuJfIjtyE6H4Yc0xk5F60U9hFID7IMCAoSBxYEPgFz/v77hfkx9zP1Y/OQ8cHvye067IXqt+ga53zlC+R54kLh+d8M3yfegd3W3LHcLNyz2ybbbdq+2V/ZF9kJ2SvZ7tnF2tHb8NxB3pnfB+Hh4pDko+a/6CXrc+3473fyXfXl94L6z/2ZAGEDRwYSCdELog4IEYMTLxZYGF0aIRzwHYQf+SAuIlsjgSSjJaYmhydnKPwoUSlCKTkpsygtKH8n4yZdJs4l8iQhJEIjXCIUIbEfFh6XHL8akhhnFkgUKBIDEPsNgQuCCTIH1QRAArj/Rv20+jz4lPUr87zwP+6k62Lp7ObJ5FjiS+Bo3pbc9tqE2UbYHdcS1vzU49Pw0kzShdEm0djQ9tAx0W3RB9Lq0r7TotS81dPWINg12V/amNsT3X3eGeC84WfjS+Uj5xzp+uqx7OPuLPFs85H1v/cR+kX8ZP48ABQCNwRoBr0IQwv+Db4QqhMoFuAYOhuBHXkfUyGII3IlTyfVKFwqWiznLRsvEDBCMWkyADM1M90ySjLnMQgxsC9cLjst3ytQKl4oKiYNJLUhJx9bHNcZVBekFNkRrw4HDO8IpQWQAtv/NP3y+qn4dfan9OjyzvDR7hHtHetR6ZfnzOVH5MLiN+Hz39HeA95H3YLc99t52xTbXNrD2SbZx9iF2ILYt9g02ffZL9tS3H7dE9/L4LbiwOTm5lXp6etq7gvxyfOK9jr5Mfxg/5UC/wU+CYQM0Q/rEn0VEhhKGoockR4DIJUh6SJFJGgllyanJ4AoRinEKSkqKCrYKUwpqCjnJwkn4CXMJPIjCCMMItAgmR9FHu8cUBuoGQcYNhaYFL0ShBBxDnUM/QkMCN0F3APGAb3/m/2n+3j5Gvfe9HbyHvCZ7e/qS+jj5Z7jROEu34Xdv9tg2r7YT9fY1VPU6dJs0T3QQM91ztTNoM2mzeLNd87rztfPpdDU0enSP9So1QzX3NiV2kjcMN4t4EDin+TT5jfpeevy7bvwwvOL9hH5ovtD/uEAIAPoBKwG5wgWC20N4w94EiQV6BdkGq0czB5IINAhSCPFJOMl9yYbKFUpCSsLLN0skS2RLl4vgS9dL7suZS6sLcAslys5KkQpFiiXJgclXiNhIXIfRx3dGuMYfBYmFI0RFg+WDIwJbwZ+A+kAaP7F+5/5bvei9cvzdvFe7zzt1uqG6I3mn+TQ4gjhf99f3kDdhtyc2wXbm9pM2tTZYdnu2IjYtdjW2CfZ4Nn72nvcUd7v39HhAuQj5pvoK+uS7V/wFPPx9br40PuX/nkBfATKBwYLmQ6BEYEUNxfOGfcbzB12H8QgLiJAIzEkLyXVJYkmEidmJ4YnnydoJ54m+CXQJL0jHSKUIDAfsB2RHDob3RnJGKQXEhbQFGMTpxEzEMgOCw1/C9EJJQiPBgwFhgMiAq0Abv8b/sD8HftZ+b33uPXX88HxgO997WzrculJ55PlnuME4mrgu95C3Xzb1dlZ2H3WBtV801LSJNGQ0D/Q8s8k0GPQ29Ch0ULSLtNi1JzV9dZS2AHa1tuu3aDfGeJt5Abnq+lU7D/vePKw9Vj4BPvU/dgAogPWBb8HGQqSDAQPVRGnEysWtRgGG/ocGR+mIMghACP2Iw0luCUSJrAmsCeFKCcpNymJKSsqXioKKjYpfSjkJy4nyCVlJDcjDyIMIaYfOh7UHHQbyBk4GHIW1RTgEiMRCw9HDRkLkQhABhQEHgLq/8792Psg+qn4rva89KzyY/Az7ubrbulP5+/kz+L14HLfEt693JHbktrD2SvZZ9iU19DWjtaF1pPWAtfq13HZONsa3VPfsOE05O/m4Omp7Jnv9PId9kb5rvzz/wkDCQZnCXIMiA9jEjsVHxjBGjMdch9RIWciNCPRI3QkmiS4JIokjyR5JKQkdiRoJB4kQCNpIhghzR/BHfMbThoNGdAXehZOFUkUXRPBErsRQBAeD9MNRAypCgQJjQc9BgIFqwNMAvIAd/8x/vj8uPtd+vj4dfc+9oj0vvKv8LzuzewT69fo3eb75K/jP+Lx4M7fpN6n3XncCNu72S3Y4Nat1eLUQ9TQ05HTwdM+1OPUqtVu1gfX49d02JrZm9rV2y/dn95p4BTiGOQr5qzo+uqU7UfwfvM39u74bPtM/u8AsQO7BfgHsQpxDf4PsBJmFVQYXBsRHk0gBiLaI0YlXCZaJ/snRijHKDYpBypEKmEqQyp9KrUq7Cm7KEon8yWmJNYiGyElH58dKhyaGssYEhd+FQ4UmBLTEFYPsg3cC1gKqAjdBtkE5gI0AZv/Q/6h/FP77Pnh+K/3KvZw9JPynPCX7n7sMeoW6AjmNuSX4ifhv9+V3rrdwNzM2/3a8tku2ZPYeNhc2MHYLtl12tzb993v3zTiyOSV58/q8O0M8T300vcq+5z+VwK6BeUIUgyeD+0ShxZ5GY4cuh+dIqUk/SW+JsQndSjEKFIoDigEKCso7ydrJwMnWyaFJVAk8iLgIKQeWRxuGo0YexZ0FHoS7xAiEOQONw3IC84KdAncBzYGdgQ3AyACAgG9/zL+Av3l+xj7RPpO+Y/4yPdJ94/2SPW88zTyr/Af71XtcevN6TzoJefH5dvkyOMB4wjim+BA33jd7Ns+2q3Ygtdi1qPV7dQl1VvVBdaN1h3XzNd82D/ZTtpB223clN1F38PgmeK25Ajn5+ly7JrvI/Ma9lT5Bvwk/wAC/gRBB14J9QtqDnERoxOVFnwZWxyeH+IhECQFJm8ncSg/KZYpfylqKWoptSnRKacpjylrKZcp9iiqJzsmsyQjIxAh1x5tHFcadhiGFnwU1xJnEfEPhQ4xDdULIwqZCPEGYAWJA7gBwP8V/sL8iPsi+j/5CfiT98f2xPV39CnzdPGg74XtX+tL6S/nLuW340XiT+E74Knf495a3r/d+Nwc3JvbettS237b4tvS3FjegOCp4i3lGOhN647uSPJP9Yr4zvsa/3EC0gUbCVkMeg+bEtMVWRk8HAUf6CGsJNImxidaKM0o2SgpKUsoxidJJ/QmtCbyJXslZSSKI00iuyCjHhwcsRlKF00VLxPaEJsO0gzgC4AKNQmUB0IG5AQYA1oBUf90/eb7ifrV+DD3iPUi9FnzrPK48ffwSvDz7zvvUe4A7ZXrFuoI6d7neuZd5VHkseN943jjS+NK4xPjweIp4v7gut953mzdnNzF2/namtrE2g7bmtv722XcytwI3UTdjN0a3lze5d5s34Pg2uE240Hlp+eK6vDtJvE19Dj3ivr4/c4AnAOcBn4J3Az0D/wSaBbrGXodXiF8JJcnJSolLOkt/y6xL4cv/C7FLoAu3i05LWkspSsMK0gqeSiMJj4kAiI/H2ocJBkLFmATqRAgDsYLyglFCDsHGAYPBZgDUQIRAev/Zv4E/Ub75/nl+Er4Uves9if2vvVq9b/0BvT68tPxgvDY7tPsvOqR6LTm3ORQ4w7iG+FT4MrfZN8L34zeMt6p3avdyd3J3TzeK99z4IXixuSd56DqYu7w8Zb1WPnT/EcAiQOPBmQJnQysD8wSEBaqGc4c0B9PIpwkuSZuKIspAypZKn4qUiq6KQopdCikJzEnNCZ8JTsk+iLjIVEgzB6cHGEaFBjdFdkTeBFWD14NzQsXCp0ICwd5BUkEyAJAAT7/5Pyw+q34m/Zt9KzyTPFl8I7v1+4D7jftYOy46/PqoOnQ6FTncuar5dLkTOTr40LkU+TT5BHlTuWc5bPltuVE5e7kUuTX44bj8uLb4rLiqeKz4rzi+OIj4yXjdOOe44HjgeM44w3jJeND4+Lj7OQS5irotuoT7Y3vXvIR9Q74O/ug/U4ACgMABv4IWgwQEGYTexcTGwcfbSKUJTcoPSqZLIgtnC6mLsYuxC6CLk0uiC3LLNUrzypKKYAnJiX6Ipsgvh2uGosXIhQ9EUgOcgsYCSEHSgUBBLoCNgEGAKb+aP0S/LD6Ovm293v2UvWM9MnzK/Oe8rPyDPKJ8Y/wge967tHsF+sy6T3ngOWS44niSuF94KLfSN/j3tfewt7y3j7fzN+b4GjhfuKp417ltOdq6kft9/Cv9NT4tPyUAPsD6gdBC5YOnhFBFIUW/Bg+G6Id+R8JItIkGSfDKF8poCnAKckpWykEKPUm6SUTJRQk/yJoIo8hDyEAICsf6B1GHL4aABmoF2MVMBOfEPgOlg3ZCzMKbAhmB+8FwgOlAXH/l/11+xT5R/bF89DwF+7D6/rpIujn5jrmh+W25MHjNeJa4Vvgtd+L3qbd2tyf3Grcz9ya3UTeot/e4PnhieLB4uXiK+M74/Liw+Kg4sbiPuNh4+DjdOT55Fbl2+VG5q3mYedU55rnIehZ6L3orOk765HtE/DJ8mn1i/ip++r+CQI7BYEIxAuPDn0RdBQfF8UZsRzzH08jayYsKakroi1IL8UvBzCoLzIvei6DLYcs/yoIKsAoyidFJrwkESNJIYMfWB2aGv0XfBXAEgkQVw1sC5EJ9geNBp0F+APNAoEB+//B/ur88fq7+O32r/Sp8mDwde7a7H3rIuqt6ETn6eVw5PLi1OAP3yjdddsE2qrYCdij19HXddh82aTa/Nux3anf3uHg4zHmtOga6+Ht4vDo83H3Kvtn/1oDgwfuClAOwhH4FKAX7RlKHJseeyC3IYIiRiMPJBQlyyUqJrkmMydnJ7smcyacJUYkNSMAIvwglR8iHicdjhzxG9kaVxlsGKsXlRb+FDcTjxGnD4sNFgvjCPwGAgWeAwcCKwD4/Yv7N/ku9/30j/KJ8Lru7Owj6/roWOfI5QTlDORC48Li8eFs4UzhFuGD4PLfot/Z353fjN8531zf19884EHgQeBt4IrgUuB84CfgDeDH32zfw9+o3+LfOeDb4Pjh+OIH5JDkwuXb5mjox+lk61Ltze9i8t70oveJ+qL9vQCIA8gGuglcDGAPOBIAFW0XvRnKG7Yd2x98IbsiKyRtJV8mJydDJw8nwia2JjkmwCX5JBkkBCMdIkchByAFH20e2h3/HB0cuRqBGTYY9xaHFT0UFhPlEdkQ5Q+XDgkNNwvVCTcIJwamA3MBzf54/Mb53vYg9EDxhu7v6znpq+bY45jhId/E3FradNid1jzVUdSH0wjT49L90tDTzdQ41rbX09lB3LDeceE85Erndeq37Vfx3PRj+An89P/bA0oH2Qr0DeEQ4xNKFo4YkxrdHCsfaSEYI/cj1ySUJaUmLCc9J0wnkCfQJ5EnFyeUJiwmqyXVJCgkCSP7Ic0guB9IHs4csRrQGNsWNRVVE/EQhQ5wDAEKVgeYBPgBwf+g/dD7CPmm9hz0ufGR78XtEOzN6v3pX+m46AXoPOf85sjmieaI5hbmvuV05Tbl/OTG5LHkfuSS5IjkAOQV49HhruB13zLeo9z82uTZ99jw19vWGNa31TPVq9Xi1ZLWutf+2PHautxb3hjgt+LP5fvosuzF8Dv1+vlB/lICwgbxCvoO/xKzFgAapRzrHvggSiPRJA4mdCfzKEMq2SraKtsqiSrIKZIoCSeMJS8kviK1Ib4g5B/UHqke5h2HHd0cohwzHDocsRtNG28aXhlMGGsXRBbCFdcUUhSjE3oS3RDrDtMMRQrTB8gEbAH2/Y/6DPeI80jwH+1E6oznEeVw4jHgGd7t29jZ4df21aHUUNPp0vPSJ9Py09DUOdab10PZNtuE3bHfLeIw5FXmaOiF6szsfe8t8jb1kvjy+x7/9gHOBMYH6gq8DVQQcxJOFEoWjhiXGiwdPSC6IykmfCgIKrkrhi2yLjAvlC9XMNkwpTCLMFIwkS+0Ll8tJCwrKs8nzCRdIvYfmRxwGCYUaBDlDEgJaQXxAdv+v/uC+M/1FfPs8AbvkO0x7Lnqs+iB593mouZ55vTmMeit6ajqhet17K3sGu157W3t8OwZ7PrqDuo96X3oHudY5jTl9+P+4aTfCd3D2m7Y4NXB06LRGdC+zi3O7c1UznrOW88B0V3TtdXs15Lajt0G4ejjP+cP673vbfTr+J79SwL2BoQLzg85FCQYrBtpHu4gDyNaJNYkcSWfJgsoFSkEKtkqpCsaLMArFys7KkEpWSjnJu0lpCR3I08iliFIIaAgNCDVH7AfGx/lHX8ctxoBGcIWyBTSEvMQzg4EDUcLMQkNBzEF+QJsASb/zvzS+X/35fTd8Tfvqex16jPoeOYe5d3j5+JW4r7h4uB+4EDfN94F3XPchtuo2kLaYdq92kTbQ9z93GHejN+r4OLhb+Ny5MnlO+fP6JHq3uxp72Ly8PV++ST9CgHFBE8IsQunDikS9BUuGZMcASBfI8clJyjQKT0sPy49MFsxJjINMxUzUzJFMVowoi4RLZoqjSghJlAjbCDSHVYbaBg7FS0SDA+GDFcJGgb6AkwAo/0H+wD5cPdB9gT1HvTz8uXxcfCA7/ruqe4d7sLtuu147YPtFu0K7brs2uxt7PfrNutn6kzpQujv52TnjOZu5cPkYOM54oLgR99n3nXdgdyr28zaZNq/2STZ7Nj62NjYz9ih2bzaL9xd3ZneYOC64ajjkOXS587q+u3C8GnzOfZe+Zr8+v+fA1YHXAuqDnMRohQ0F5QZERxIHm0h7SM7JmooZyoRLEYtJS5pLsIuki5XLtUtoC29LKYrOCr2KHInfCXbI/MhISAlHtwbaxnFFggUaBHyDugMbApfCDQGEAQNAjwAQ/7//ND7Dfqz+Bn3nPUf9Evy7/Bl7+/taewu60jqXOlc6KfnmeaY5UHkx+KU4XPgTN9L3nfd9tyg3H7cytxi3Yje5d8N4Wni8eN55VjnfukB7Knur/Hy9AH4e/u6/l0CyQWCCfUMLxAmEyAWzRgfG8kcvB4LIBshIiLzIk0j5CMXJEYkIiS/I2UjqCLvIbsgch+nHUwc8xpNGdYXcRbJFdwU2hPREqsRURDEDkoNWgtzCVgHngWWA8cB9P8U/pH85Ppv+Z33tPUB9Eryl/D07n7tF+zW6pPpl+iF54nm4uWZ5U/lV+VY5ZvlzuUB5g7mvOWI5V7lUOUB5ejkn+SL5H3kWOTC5LDkgeR55EHk8eMw45XiUeJe4jviW+KW4l3jU+Sb5STng+ml6+Tt1+9C8tT0ZPel+Wz8ZQDsA1oHiwo0DvgROhUWGM4aNx4VIbsjECYpKPYpwyqzKyIssCzULB4taS2ZLXwtdyy9K00qQymzJzMmrST7IlwhNh8UHbkaFxg8Fp0U5xJJEWcPQQ05C6UICAY/A/YAif43/Cv6vffE9YfzjPGt7/PtGew36mzo+uaP5QHkpuLC4RjhUuCa31/fTd9V38LfPeAR4frh++Ku45/kNOYz57Ho2ekE7BnuTPBI8hH0zvYw+bz73/10AOMCMwXDB54J5gvgDbQPYhHuEhAVTRYCGI0ZCBuaG/AbdByyHMYczRy1HDcc2xtKGzkaUxm+GKYYthe4FqAVKRSqEiURARB6DjMNrAuaCg8JrQcbBtAETwN1AmIB9P/L/nn9Ufzk+rH5Svg49yT2A/X88+byovHY8CDwN++W7qXt++x67HLriepQ6Wnohuf65jjmp+U+5fvkn+QG5GzjweKi4mPih+KL4mviU+J+4tfiW+Ox44XkjOUr5tzmn+dg6HPpl+rH7LrulvBu8uLz5vVs9wD5cPqh/C7/DQJCBHAGjAjvCqUMnQ5cEFgShxRHFrYYPhqPG9AcKB4cHzsgHCHCIZMidiMJJP0j9yNQJDkkUCQuJO8jNiORIpMhPSCzHj0d0BuPGmQZzhcQFvQT3xG/DywNnwriB2AFhQLJ/zn9YvoR+Nf1uPMk8fnujexx6rPoRucS5tfkCuR048HiMeKk4dnh7uGP4ibjVeRg5cnmIui16TvrquzL7XPvgPEd89X0UvYc+Ln5APyd/ZD/3AGcBIAGPAh8CZAKGwzjDEYOdQ/QEBkSZhMgFOcUihVhFtcWiRcOGA8YvxfCF0YXtRbeFU0VKBRLE7QSWBFPEPcO2g2NDCwL0gk6CKkGRgWFA3ABR/9v/ej7b/oX+TX4g/e69hX2O/WD9Lnz//Lg8n/y/PGP8QDxdvAt8Pvvy+/m78vv6++k7zzvqe5H7ontheza6+7qIeri6O/ny+a45ezkcuTI45HjvOOM43HjRuOB46Hj5ONM5MLkaeWV5sLnA+nn6rbtXvAT82j1BPhv+oz8sf61AAoDCwaCCOgKKQ2XD68RgBNKFQUXyhhVGgYcOB1HHtoeOB/7Hsge7x50Hm4eRx6YHmceSh65HT4dxRyDHO8bCxtcGogZWxirFhcVzhOpEhoSnhHVEBEQaQ/oDUoMpQraCAQH/wQhAzEBav8l/VT7g/nL9wv2JfSG8njwTu+b7QbsqOpI6UjoPOfu5VHlueRy5IjkIOXR5UDnTejW6a/rhO3T7mrw7vHI85z1U/e0+Wz7av6xAOwC7ARABysJGguiDOkNsw6ID0QQhhDGEBQRiBHgERQSUBIfEgYSlxE3EQARxxB1EH4P+Q4kDtANsgz5CzALGQtxCpEJ7QhQCKwHzAbzBQkFsQOUAi8Bp/8Z/un8P/s5+nT5Ivn+92X3Dfd49pH1wvRP9ILzOvMk897y0vL98lLzjvP883f0mPQR9ZP1mfV39Uv1AvW/9Bb0ePPk8lHym/GY8LbvMe8r7hntMuyT673qquni6P7nWueo5hjmp+Wy5eHlaebV5o7oIerT64ztnu+N8V7zSfVI95D59fu9/pEByASwB1kKzgwuD4YReRMlFTUXKxmdGoQbnBxNHaYd2h1GHmgepx7HHqAeoB4CHp4d0BzyG3wbvxoFGgsZUBgiF+kViBRkE3YSiBGuENQP0Q6eDSMMVArUCPkGNgWoAw8CjwD7/nT95ftr+ir5gPdo9iP1pvOL8m3xhPBd77vuEe6p7T7tAu3m7AvtRO127dftNu8L8KfwkfHS8mb0MvVM9oL3DPmb+jj8l/02/wsBcALCAxYFBwcqCBQJoAqHC04MeAxEDdcNdQ7YDhwPLg9QD3kPSA8pD8oOtw4FDuwNLA3cDDEMBgwDDCALcwqkCVsJRwhYB3EGpQWPBHQDYAJAAeX/dP7a/Hj7E/qO+O72XPXi9NPzmvJh8aXw2O/c7lHuKe4J7hzuQe5z7q/u0u5Q79rvh/By8dPxK/LM8gLzafM8837zwPPg88Hzd/Na8+fyv/JH8uLxZfG58CDwr+8U78fuFe6h7ZDtB+2z7MvsLu2g7afu6u/H8NXxV/Pe9AX27/fM+VH7Vv3E/wICAQSKBt8IIQv2DP0OAxGoErQURRb3F/8YbxriGm8byxtyHMccLR2nHcgd2R17HZkdJB3YHHYc1huGG6IawhmzGFEXNBb6FMcTQxJLEQQQPg5nDKsKrAgWBqoDcAEN/+38q/qW+Ib2b/RZ8oHw+O6K7VbsZOu46kzqmOnr6PnoMelr6eLpyurI69/sVO4j8J/xjfOg9fD3rPlM++v8xf4bAKIBLAN1BOYFLAd4CGIJRApBC8QLNwzJDLwMpgyVDGwMFwyBCyMLuApoCh8K3wmVCVIJIAkoCRYJ2AimCNcIIwnrCHwI8AcNCPgHnQdCB+AGkAYoBpoFsQTtA74CbwHf/6P+If0d+2D5//fK9vr0XPNH8l3xH/Aq71juQO3C7BLsyut462TrX+uF6+DrOuxf7JXsXu1a7tTuVu/977DwrvDo8NDw7fD58O3wCvEp8SjxxfDZ8PDwLPES8f7wDfF78ZDxUfHK8GPxB/JG8sPyFvS99dz2N/jK+Uv7dPz2/W7/8gCtAooE/gW3B9oJYQubDLgNrQ/IENoRShOjFH4V/xUmF0AXBBcxF2QXPxfyFgwX+BYOF/AW/xaPFqQW5BZtFtIVtxWBFccUyhM9E/wSJxJdEcYQXBCuD94Odw19DDILiwlxB2sFtQO4AcL/of3P++X5yvd/9dLzRPKU8A/v1u3T7NPr5eoM6nTpcOkd6VjpvunG6sfrJO2e7srwtPJV9HT2kfir+m78y/7iAAsDKAU/BywJ9ArODEMOkw/gEL4RhhK/EksTdhNTE+sSshIoEjYRnBDsDyQPlQ4pDl0NfwzfCy0LYwpnCQQJ3AdPB7QGLwZ0BfUEhQTzA5gDyQI7AlwBNwBX/w/+xvxG+9z5tPhs91X2AvUf9OPy6fHc8L/v6e4n7qXt+ey47AvsxeuI64brjOuQ6//rT+zA7DXte+367Unut+7O7truA+/97vnuMO9U72Xve+/K7wjw6u8D8C3wQPA48DzwGvAy8EfwjvDf8G3x/vK18+/0RvbH9w354fqx/L79Vf8UAYADwQTqBjYJLAt4DRsP9BAsEi0UoBX1FggYXRm4GeYZLRoWGq0ZZBkxGRUZxxhvGNoXLBe4FhYWgBV0FL8TuhLdEQYR3Q/hDtUNRQ1wDJsL0QooCrkJvAjXB4YGkgUBBKQCMAEzAOf+jf20/In7pfp4+Yr4Y/ex9jT2GvVu9PTzUPN48hLy1vGq8drxBvKb8mfzMPTT9H711fbb98n4Ivo2+4780f0k/8oAAwIOBBgFvwYSCH8JnwqyC9EMcQ0BDhcOMw5lDkgOQA4bDrgNCw3SDE4MuwtJCywLpQr+CVIJCAgqB2IG/AU8BX8EPwTJA1sD8AJrAuABaQHSAP//Jf81/gT9M/wX+yv6r/i294f2R/Va9EjzLPIk8V7wW+8q7kXtZ+yW6xbreuoA6n/pJ+k/6RXp/Ogm6VHpj+nA6f/pIOqi6oXq8+o662Drfesp7OXsce0r7rDuT+/575/wEPFY8RPywPIt88Lz7/Sc9Yz23fdi+ZT6oPt1/av+MACNAd4CUwTABeQHYAnuCqMMog69DyoR7hIhFFoVoxYcGO0YcxnuGUQaRhp7Gl4a1hnSGagZGBlHGLQXRRdXFqkVuRT1E8gSrhFwEDsP0w11DFUL5AnYCGIH1gXDBGkDQwLOAGf/CP6J/E37Ffoi+R34G/d89pP1/fQu9B305fPR8wb0OvQ19JD09/QW9T/1a/W/9Rr2avYi98L3dvhN+fn5jfq7+pT7V/xf/aP+sQBlAlADWQTPBQQHNgiPCZUKmQuzDM8NPw7IDq4PGxAuEEoQKxB6D6MOXw4fDjgNKgy7C9gK1Qk3CYQIywcWB8AG6QUqBccEbwS7A4wDEQNhAgQBUACa/47+gP26/OP71/q1+Zb4uPfn9iD2SPWF9M7zg/KL8eLwgvAm8MLvlu9c72nv8O7W7onuu+6J7lbuMO4L7pntQu0k7fvsrOwc7LvrpuuL6zzrQOt66/brIuwM7L3sMu287e/tz+5y79vvqvCn8eHyEPSV9b32xvfy+Hz6F/ti/Kz9Bv/8/wwB5ALTAzUFpQZjCMYJowv7DPYNrw8PEd4S0BMoFR4WAxfFF00Y6RhtGd4ZDhozGggayhlmGQoZWxigF7sWzRWVFGkTHhLtELgPSA40DbgLWwoECcYHXwb4BIMDzgFIALf+bv3d+8v6mvlV+K73h/aG9V70v/Ne8xzzA/M888nzePSo9AH1L/X/9dP2hPd4+NP5X/tx/CP9av6m/4YAUQEAAuQCjQP4A6YEmwWYBuIGUwc9CAEJYQnuCQYL6wtvDLMM/AxCDXcN7A0MDl0O0A5YDkQOAg61DcwM/wu9CwML8gnSCGgIpgf4BhQGDQU/BNgChwFTANP/bf+M/vP9I/2X/P76jPmE+Nr36Pby9Qj1YfRw84vyYfHS8Bzwi+8J78Puo+4m7tTtwu3c7abtFe1Q7c7tuO307Rjudu637tLuyu4A7xXvEe9Y723vAO/Z7vbuoe/c7xnwU/DM8C7xofEs8obyMvRc9SL3tfgb+vP6Qvz4/Uz/jADQAdADjgX1BisIawmeCs0L+AxdDWAOFQ96D9IP0RASEdMQxhAREY4RLxEcEUQR3RHqEZoRiRFyEf4RCxIJEkoSdBIOErURoRFyEZAQcA8ED3gOYg3vC8kK1wn2CCUHowXpAysCPABh/hj9tfv6+Uf4MfdP9vP0ePNd8j/ysvEC8cjw7PC68Szy5PJU88vzCvSX9ML1UvdS+GP5+vp8/H39t/4CAJ8BVgP4BGQG7AaxB8IIiwkLCs8K6wooC5MLYQw0DEYMtgwdDZYMLAwgDJcLcQvnCw4MsAskC9oKYwpdCngKlwpDCisK5wkLCWII1Ae+BxMHrgbvBWEEqwJSAW0A0/5l/fb7ifoL+YX3A/ak9J/zhPKW8bDw1u/w7lfuJu5J7vbtq+0C7nTuye707nPv9O+e8NHwOfGq8QXyHPKE8tDyz/KP8hbyB/L28bXxbvEK8TXxH/Gk8ITw5fAA8TjxkPHR8fXxWfLf8qHzPfV09jb3LviZ+dD6Yvt6/NT9XP9lAMkBKgPWAxwFhgYxB1IIkAl2Ch8L/QtzDfgNfQ5/DywQhhCfECMRKhE9EX0RSRHEEFYQRRDCD0wPVQ/4DpsODQ4QDlkNsgyPDIoMLAy0C0gL1gqACioKuAljCR4JLQhaB1kGiwVeBEcD2AEFAa7/C/4v/Nb6dfnj94P2mPXT9Bz0gPMe8x/zF/Mf8xrzg/PO8wn0r/TE9Qb3Gfid+Sv7VPxb/VT+ev+ZANEBkgKOA4wEPQXgBTcGQge4B0sImghbCbcJCQp/CtcKNws9C/IKCwv8ChwL4wq+CnEKNgpPCeYIcggECKQHOQcEB0AGbAWIBOoDHQNMApYBxQBCAGP/dP6H/Y/8p/tb+jH5Ufg99zz2MPVs9JDzLvIZ8f3vA+8a7jrtluxd7Crs+uvg6/PrNexs7K/sFe0D7nDu/u7y7wvxtvEe8jvzLPSv9Db1Kvay9kT3ufdH+Hr4CvnX+RD6pfq0+7T8Nf3W/SD/AQBPAHYBzALpA64EGwZFB/8HsAiwCXEKNwsxDNcMfw0kDtcOzg7CDr0O0g4JDrAN0g2JDUUNBA0uDcgMHQy9CxkL1gpBCgsKkAkzCdAI/QdRB+cGZAbeBUsFKAWNBN8DTQPCAj4CyQH/AIgAWAC7/2L/Hv/j/nP+vv09/Qz9k/wz/Cb8L/wU/MD7Nfsg+/j6Cfsd+4r7v/vK++r7IvzW/FP9Hf4q/zIAnwD/ALUBtQKgA3YE+wTpBSMGfwZsBvsGoQflB7gH0wfPB1QHKgdlB+cHiwcvB9IGXgYZBqEFsAXVBbwFZgXxBMAEbgRNBP4D6wN1A5wCugEUAcsA7v8q/33+uP2z/E37h/qm+RD57PdM93z2pPXC9Ofzm/My86fyOPLP8dLxIvHs8Lnw1fDP8K3wxfDh8ALx9/A38X7x4fHk8SPyjfLr8s/yNvOb8z30pfTL9In1EPaN9ur2tvdE+Mf4l/kw+t76vvuz/Ob96P4EAOYAugH2AjcEQAU3BqQH3AiPCRsKWQumDA0N8g33Dt0PNBB4EBARXBGAEU4REBHBEHQQIxAgD8gORA4dDfoLRQtdCnIJkAgDCJEHlgbGBdoEZgSuA/UCcAI9AhkClAFdAVgBQQHKALIAoACSAGcAQQBgAHUASQD3/6P/sv9R/+P+f/5z/in+0f1X/U39+PyI/F38OPwu/Nr78fv2+zX8dPyE/Hv8J/2U/fT9i/4c/9n/SAC/AHAB6gF1AtwCowP2A6UEJQWUBfkFLgYkBikGTwZIBiUGOAYPBokFKwV4BD0EowNaA/gCqgI6AtsBIgG4AGQAu/9W/7b+Wv7g/VL98Px2/Mz7FfuM+uz5avns+Jn4Svjq91P3lvb79YH1+PSZ9Ab0tfNh8/bylvKB8l/yW/Iw8hvyGfLn8cbx2PH68QTy6PG88bDxifHK8ezxaPKj8iHzePPs80/0/PSb9XT2Qff795P4mvl2+qL7gfzK/RX/VgByAbUCIwQHBSoGEAf2B30INAnVCYwKfguqCyIMfQwqDUINaw3nDWUOig6oDuMOGQ8IDwkPHA9BD0oPRw9MD00PVA/yDnwORA40DrkNQg3kDJUMwwvxCnEKtQkUCUcIewfMBt4FzQTFAwEDCwIqATwAfP+d/tH9/vyF/Lz7Gvum+kf6DfqU+X35bPmL+Yj5O/l/+fv5+/la+q76OPuq+9b7YPwb/Xf99P18/ib/a/9q/7f/AwA7AFwAagDUAP8AIAHdACQBQgE7ASgBXQGPAXsBegFwAZUBmwGmAaEB3AHpAc8B1QH+AeABvQGKAXkBIAGeACcA8v+G/wT/KP6+/ST9ZfzC+yb7rPoE+i35R/ij9wX3S/bC9VP1zfQ39KPziPMt8xzzFPMz80jzR/Ng82rzp/Pg8xX0W/SI9Cz1O/W19S/2gvb49lL3yfcx+Jf4MPll+en5Rvpj+rz6IfuQ+5b7bfw9/bb9X/5X/yYArADGAaUCpANXBFcFCwaYBmcHOQjeCHsJnwonC8kLJwzdDBwNWQ1mDaINnA06DRkN6AyrDDYMGQynC04L/ApBCv0JhAkeCZ8IGgidBzEHjgYkBuMFxwWeBWMFRwWBBTgFNQVcBZUFUAVXBXAFQQUuBQYFDAXYBLAEUATzA9QDXgMkA+ACgAJFAqMBPQG2AEoA2v97/xL/4/5T/vb9sv2k/V/9bP10/dP9wv3R/Sf+XP6k/vD+M/+W/7H/9f8LAEQAigCsALkA5ADoAOkAxACwAJUAbQAjANH/oP9Z/9X+fv5H/uX9gv0j/dz8lvxR/M37mPs1+wj7nvpq+kj6GPrQ+Zz5Zfk3+e/4wviT+Ij4KPj59/D3pfeg92X3avdd95X3iffn9+f3Mvg1+Hr4tfj3+Bn5efn2+TP6q/oB+337CPxu/NT8U/23/Tz+sP4z/8T/KQCNAP0AUgHNAT4CrwIoA5oD2QMPBGUEogTgBNME8wQCBegE0gTBBMEEiQRrBOsDnQNKA94CiQJHAioCvAFyAVoBDwEDAcIAoACLAH0AKQAzAEYAfABvAEoAbABlAFwASACHAJMAhwCcAHoAcwB4AGoAggCmAL0AzwCmAAUBEQEuAVoBjQHeAQICYAKyAhUDewOnA1cEpAQZBWcF7QVjBvEGBAdyB+AHRQiDCLYIGwkvCV8JVwl2CUQJOgnlCJAIMwj2B1AH9waABtQFRQWXBBQEegPTAlcC0gEuAZkADwCi/xn/n/4p/tT9Jv34/IT8VPzp+8j7Svvy+tj6bPry+ZX5b/nt+Ir4W/gL+Kf3avdU9xD38fbK9rn2yfbF9un2z/YI9x33TveS97v3LfiP+On4RPme+Qv6ffr/+lz7wfv/+3H8zvwT/Wn93P1H/pz+/P5I/4//DABoAPEALgGYAckBHAIVAkwCQwJjAngClwKxAq0CsAKbAqACbAJPAiUCDQL3AegByAGSAVsBVQE1ATgBNwFKAT0BawFSATcBQwE5AVkBVAF3AVABXgFCARIBEQHNAKAAeQAkANj/sv80/wr/t/6C/mX+F/7x/db9rf2f/YD9Zv1a/UX9RP07/VL9hP2P/d/9AP5K/nX+sv7y/kD/gv/m/wwAZwCVAM0A/gAtAV8BeQHHAeAB/QEvAloCgAKkAskC6QLoAvwCFAMbA1kDaQOiA6gDxgPNA8ADxgPaA9QD2APQA8UDtwOpA5sDfAN7A2wDWQMxAxAD3wLPAq4CcAI5AhgCzgGkAYUBXQFGARcB+wC7ALgAcwBrADkAOAAKAOv/n/+N/1b/LP8X/+3+pP6F/kb+IP7s/dD9wf2k/aX9iv2N/V/9Yf1j/Xn9b/1P/Xn9kv2Q/Zn9p/3R/cP9sP3E/b79zf3P/fD96v0X/u/9GP78/QH++f3r/e/98f3Q/c79wf2w/df9xv3W/fj9Nv5A/kr+cP6j/qT+7f7y/hD/HP87/0j/TP9Y/2b/hf+B/4H/i/9+/47/k/+X/4f/c/9e/2X/Sv9K/1v/bv9u/3//m/+j/8n/9P8tAEoAjQCnANkA+gBkAZoB3AEAAj0CPwKSAo4CpQK+ApMCiwI9AjsC9wHdAXgBTAH7ALwAfwAsAOP/k/9Q//T+w/5j/jr+2/2i/Xf9Zf0X/Rb9JP0Y/R39V/1U/Yz9lv3i/RH+TP6Q/sj+Dv9L/5j/y/8vAH8A2wA9AYEB2QH8AT0CWAKKAqwCtQLJAuMC4wLqAuQCBwP2AgED+ALwAu4C1gLdArUC0gK5ArsCrgLMAtAC6QLpAgkDNgMiA1kDVANsA0wDZgNBAzIDIgP8At4CtAJ3AlICNgIEAp8BdQEkAQcBlgBpAAIAyv+R/1X/Ff/l/rb+k/5p/lP+Rf4d/jr+Nf4w/hz+Ov5G/lv+ZP5q/mf+hv5d/mD+Yf5Y/kH+Nf4r/hn++/0A/tn9w/2i/aD9Yf1G/Sj9Cv0B/e386/wV/T79cf2J/bb93/0d/jD+hv6o/vz+Kv9t/7L/9P9GAJwA8wA6AZ4B3QEMAkMCYgJlAlECPgIkAg8C2AHWAX8BWAEcAbMAbQAhAPL/lv9x/zr/+P7F/qD+lf50/oT+Y/6R/nz+mv6S/qn+zP7Y/vj+H/8n/0X/a/96/5r/tP/K/9T/5f/e/9H/zv/A/6D/Wv8z/w3/6P7S/pT+nP6F/mX+V/40/i3+Hv4N/iD+Hf4M/hz+Hv4u/l/+hP7Y/hL/aP/h/yMAmADpAF0BuwEEAnwCjgLxAhsDQwOKA4sDtgOJA64DWwNgAy8DEwMMA/YC1gKzAo4CXAJLAiYCEAIJAvYB2gHGAdMBtgG7AaEBtAGyAaQBtAGTAZIBngGQAXcBfQFvAV8BXAEsAREB0QCXAGkAHwDl/6X/Yv9L/x3/+P7D/q7+q/6y/p7+ev5z/k/+Tf4G/h3+Kv5S/l3+sf65/gD/R/9w/6//1v8OACQARABXAG4AZQBOACsAEQDb/8L/if+G/1T/PP8J/+b+qf6A/mX+Qv4o/hH+Af7v/cL92v23/d/9/f0//nL+ov74/hH/WP9z/5j/v//r/wAABwAaAEEAPQBAAFkAXABzAG0AhwB5AGkAWAAlAAMApv9X//j+nP5O/uf9qf1l/Tj9Fv0D/cn8/fwA/RH9G/0Q/SP9KP0X/Un9Qv2U/bX9Bf41/nX+t/4H/zz/dv+i/8P/4P/k//T/4f+0/4b/bP9V/zf/Kv9M/13/Z/+W/57/yv/G/xIADQAyAEwAbQCWAMsA3QApAVEBnAHaAR4CWQKXArsC/AIXA0oDSwN+A4gDnQOQA4MDbQM5Ay0D5wLOAqkCrQJ8AnwCRQIVAtMBswGVAYABVQFhAUIBPwEeAQYB5gAFAeoA6ADoANwA6ADuAOEA0ADHANUA6QDIAMsAswCVAJUAWwAlAOL/nv+N/0f/O/8N/xv/8P79/tn+5v7H/rX+tf6e/rr+lf60/q/+xv6x/p/+xv6+/tL++/4g/1f/Y/+K/67/yv/4/wEAGwAAABgA+f/z/7//wP+7/6T/pf+c/7j/pf+f/5j/Y/9b/0D/G/8R/+j+6v7l/uP+6v4U/zL/eP9f/4j/l//G/8P/0//y//L/IwAfADMAOwBHAG4AdQB+AGQATgBZAGYAVgAhABcA4v/E/4X/Vv8k/w//9P71/sr+vP6d/oL+p/5e/lb+Pv4+/hn+Gf79/fz9+P0J/iD+Kf5Y/m/+r/7l/v/+Vv90/7H/5f8DACkAQQBMAJcAmQDHAN8A8QD9ACoBEwEjASEBOQE3AScBNAFCATsBTQFNAUQBXwFEAWQBVwF8AYsBgAGoAbYB4AH3ARACOwJPAlwCXwJYAkECMAIlAggC2wHBAbkBsQGsAZUBiQGOAZkBggGIAY0BhwGnAbIBugGzAccBsQG+AZQBiAFvAWQBUgE5ATIBMQEhARwBGwEaAQIB+ADRANEAyACZAIcAZgBYACEAJAAGAAAA8//s/97/wv+v/63/hP+N/3n/R/8v/w3/5P6x/o/+eP5L/jX+H/4E/iv+JP4+/jn+Yf5x/mT+Yv5g/nD+Yv5k/jv+U/5h/m/+h/6f/qL+sP7T/sH+3/65/un+vv7K/r3+yv7O/sn+1v7b/gv/BP8p/0v/Yf96/4//p/+v/87/y//r/9b/9P/t//f/CgACABgAKgAzAFwATwBsAGwAkgCVAJEAhQCOAG8AcwBZAE8AUABKADUANwApACEAKAADAAkAyf++/5n/f/9Q/0n/Kv8D/+r+4/7T/vj+//46/03/c/+X/7L/1v/q/+v/DwA4ACMAOQA8AFsAXgBgAGEAgAB2AJAAkgCiAJoAmwCoAKEAwACzAM0A1ADXAN8A/wD2AA8BLgEnAT4BOQE5ASkBIwEvASUBLwEsATcBGwFAAS0BKAEoARsBFgEIARQB8gADAQUB+gD5APkA+gD8APQA9wDkAPYA4wDeAMwArwCgAJYAXQAoAAMAtP+6/1L/Mf/7/uH+xP6s/pD+gf6V/ov+iv5z/nj+hv5//pz+ef6F/of+hP6N/ob+m/6w/rn+nf6i/pr+ff50/lL+I/4N/gH+2/3m/QD+C/40/l7+bf6g/pf+tP7F/tT+1/7s/gP/Bf8Q/yb/N/8z/0T/SP9a/1b/bf9l/2H/U/9j/07/Tv8//z//Pv9o/3n/pP/b//j/FwA9AHQAgACVAJcAqQCPAIYAbwBYAFgASwBaAF8AfwCWAMgAzQD5APkACgETARkBFAE0ATABRQFSAWoBhAGRAZ8BiQGXAX8BcQFEATEB/AC8ALIAdgBLABgA///l/8r/u//H/7//1P/k/9//7f/i//z/8v8DAAsAJQAvACQASQBUAGkAmwC7AN8A+wAHARoBMQEOARAB5QDtAOYA2gDMAN4ABQH/AA8BKQEwATsBSAFDAUUBOQEOAeAAxgCeAIEAcAByAHwAbwCCAFQAiwBhAHIAfABsAGQANABTAFkANwBGAFcAXABaAIIAYABmADIAIgD4/8T/p/9x/5L/fP9p/zr/M/8k/xP/E/8M/xv/Lv9p/2r/if+i/5P/kP+g/33/cv9l/4T/kv+f/6n/rv/V/9H/wv+f/5z/bP81/wr/6P6h/pL+bf5j/m3+f/6E/o3+h/6F/mX+dP5d/kz+Pf5f/mv+a/6G/o/+yf7k/vr+Iv9A/1r/iv95/6f/sP+//8z///8BAB8AOQBhAHoArwDSAPAALgEuAYEBlQGsAbABtwHRAbwBuAHNAdAB5gHmARAC9gEWAgECGQIQAvwB/wHcAd0BxwG0AbABpwGbAZ8BnQGeAZwBegF8AWABPQEOAeUAwQCvAI0AdAA0ABgA6v+2/67/dv+A/2D/Q/80/yf/GP8I//7+8f70/uj+8/4G/yH/RP9f/5v/pP/Q/9n/AAD0//L/9v/8/+n/8f/3//7/CQAIAAEA9v/r/9f/0//D/7r/s/+t/8P/yf+v/8L/uf/R/8r/2f/a/+T/+P/8/+b/9P/Q/+L/3v/V/73/vf+9/7b/uP+q/6D/q/+1/8n/2P/L/93/+/8AAOj/5//t/wkAJgAlAEQAUgB5AIYAmQB7AFgATgBCADMAHAALAAwAFAAmACEALAArAD8AUQBSACoAJAATABcA5f/B/6H/jf9//3n/Rv8y/xf/Fv/6/vP+5P7k/sH+1f6g/rH+iv6i/sb+2/73/hH/QP+S/5j/x//g/wwAKAAiACcA+v/+/9b/wP+w/6r/t//G//T/EwAvAFkAgwCVAKoAwQDHANEA5ADWAOUA9wARAQkBJQEwAWkBagGBAXIBlwF9AVkBLgEFAdoAzACjAJcAawBvAIEAgQB+AIcAewCUAJQAjwCkAKYAvwDIAM0ApACtAIIAdABIADwACwAQAOn/0f+3/8j/mv+7/53/u/+w/9X/3//s/+D/uf+3/7z/rP+o/6r/qP/O/8b/z//I/8X/vf+6/9f/0v/p//n/DAAIAN3/p/9//0n/Nf8R//X+Fv8G/yH/Mf9J/1D/W/9o/4X/df9b/1P/UP8j//P+7P7Z/sT+xf7B/uL+Af8U/yD/Lv85/1b/Uf9o/1P/Wf9X/03/S/89/0f/Gf9H/yH/X/9Z/5//4v8nAHUAdACcAJgApQB5AFwAYABPAEoAbQBmAIwAjwCrAJMAwgCzAKoAugDGAMEAxwCcAMAAwQCaAKEArACpAI0AgQCAAHUAXgA6AEEAHgA7ABsAMAAXADEAHQAQAOn/1P+6/53/eP9s/1z/TP8+/0P/O/9I/1P/bP+W/7D/5f/T/wwAEwALAPf/2f/I/4z/h/9i/1X/R/9x/3L/pf/G//f/CwArACsAJQD9/+7/4v/A/8f/sv+6/77/zv/I/8H/5f/m/wIAAwAYAEoAXgBvAGAAdgBZAF8AOABJACcAKAAsACYAUwBoAKYA3AAbATkBPgE1ATgBEwEYAdcAvQCRAIsAZwBXADwAJAAXAA8A7//u/9n/5f/u/xMAKAA6AEQAWQBSAFEAHQAUAOn/zP/V/5L/m/+i/8X/yP/r//7/+//x/+P/uf+m/4X/MP8Z/wb/6/7M/sT+vP67/sv+0f7n/gL/R/+K/9v/AgArABwANQAWAOn/xv+c/5L/jf98/2v/lP+v/wQAPwBzALwA8gBBAU0BdQFeAWYBMwEkARMB9AD3ABMBOQFWAXcBjAG2AcIB1AHpAecBBAICAusB1gGXAYQBRwEdAfMA2ADHAMEA1QDpAPAAFQFFAUUBQwEsATsB+gDXAJUARgAVALf/gf8u/wL/6f7O/uz+zv7Z/tL+4P7B/tf+x/7R/sP+sf6d/of+kv54/m7+gv6U/o7+t/7c/hL/Qv94/7z/xv/5/+3/3f/I/5j/dv9K/03/Of9Z/07/cP+Q/5P/wv/J/+v//f8zAC8AWwBaAHwAlQB7AIEAYQBYAHoAfQCUAMIA8AAgATMBZgFmAXoBhwGVAaABkQF1AXEBZAFCASoB/AD7ANgA4wDXAN8A3wDoABQBBQH/AOgA+QD8AO4A5ADLAKEAkABqAFMAIQAVAAkAEgAdABwAHgBCADkAUwAbAAwA7//q/9b/w/+n/67/q/+S/5v/lf92/1z/af9b/0z/Sf9b/0z/bv9Y/3H/W/9x/2j/bf9a/0f/Ov9A/1f/Yf9p/3z/rf/D////EABIAGAAcwCOAJoAiwCTAI0AkwBrAEkAGgADAL//n/92/2v/dv96/6f/y//8/y4AWABkAFwAUQAZAAoA2P/M/5X/mf+O/6L/q//i/+P/GwAxAEYASgBXAEYAKgD6/9T/kv9D/xj///7Y/tn+zv7f/gf/Ov9Y/4j/rf+5/8T/2f+3/5//jf9d/yP/BP/W/qr+zf7r/v/+M/9S/4z/nP+z/8v/0//m//z/DQAgACEAKwA5ACgADgD7/+b/1f/Q/8T/4v/W/wAACQD4/wsA4P/Y/8z/t/+c/2f/QP8t/xT/CP8U/yH/OP9C/4T/uP/a//v/HQBdAHsAigClAJ0AggBpAFcADwDn/8b/3v/j/+f/EQBMAG0AugDmAP0A/gAgARoBBwHRANkArwCvAI0AiACAAJAAgACMAK4AzwDjAO0A9wDwAPEAzgCmAHkAXAAgAP//AQAAAN//CQAIABUAAQATAC8AKwBgAIAAfwBhAEcAJQDb/7r/if+G/1T/ZP9c/2H/Z/9J/0//Pv9L/0z/Xf+J/5//m/+T/3X/dP9a/0r/Vv9J/2j/af9n/2v/Z/9j/1z/XP9F/0j/Yf9Y/3P/ZP91/0P/Ov8R/wv/Df8R/xb/I/9O/4P/u//6/xsAPgB8AIUAiQCPAJsAeACWAIQAcwBRAG8AWACUAJgAxADnACgBNAFeAVsBdQFuAWMBRgEzAR8B7AD6ANsAygDHALoA0ADhABUBIAFOAVEBRgEjAc8AegAjAPT/t/+V/37/jv+a/7H/rf/D/9P/8f/y/xcA9v8FAAkA3f/Z/4j/fv9W/0r/Of8q/x//Nf8h/zn/Q/9A/1b/U/94/3z/iP+h/4v/mP99/6H/fv+c/7H/uP/j/+r/CgA1AFYAgACbAOMA/AAcASYBSQFgAVwBYQFaATYBLwH7AOoA3QDhAAUBGQFJAWcBcAGWAZsBxAGVAZABeAE9ARYB3gCfAHsAWABAADoARABhAIAAigCyAKkArgCKAGsAZAA5AAQA7//h/8n/qP+l/63/v/+l/77/sv/f/8//5P/K/+z/vv/C/63/mP+b/3n/ef98/43/dv+Q/3n/d/9o/1v/Wf9W/27/bf9//4D/ff+M/6H/pP+8/8X/2//W/9H/1f/J/6T/rP+d/4f/qf+f/+L/8P8dAB8AQQA8AE8AZABdAIEAdQCSAI8AeACCAIkAdQB7AIEAfgDAAOAAGwEvAV0BZwF5AVMBUAEpAQEB6AC7AJYAYQBmAFgAVQBHAFIAagBtAIsAewBvAFkAWQAbAPX/0f+v/3z/WP86/yb/BP8W/wv/Nf9B/0f/gf+C/6b/nv+Y/4v/gP9m/07/M/8N/xT/9P4I/w7/M/9M/4L/lf+3/7D/xv/B/7j/vv+Y/4z/j/9k/33/bP+I/6L/vv8NACYAegCSANUA5ADyAPQA+gD4AOoA0wDZAN0AzADYAM0A7QD9ACEBMQFyAZMBnQHGAbABmgFjAT8BDgHNAK8AoQCUAIsAfwCVAJUAsAC4ALIA2wDEAM0AxACPAHYASwARAND/vv+R/4b/d/95/2j/dP96/5H/mv/J/9z/yv/X/8f/lf9p/xz/8v6t/ov+Z/5L/l7+Uv5z/on+qv7H/tz+8P7y/vb+5P7d/s7+rf7A/pz+o/6K/pr+nf6r/tH+6P4h/0z/hv+7/+D/6/8LABMA/f/u/93/u//A/6r/pv+v/8H/+f8AAGkAiQDZABoBTAF7AXoBhgF9AW8BVQE3AQoBGgH4AOgA5QDuAPEAAwEOAS8BQQFWAUUBTQERAQgBxwCeAFQAZgAoAA0AEgDu//n/8f/y//3/GAAvAA4AGwAAAPT/sv+S/2L/K/8E//T+8/7i/uH+9v79/g7/Dv8e/yX/Nf9K/1H/T/9k/3T/bv9h/2v/ev9o/2//Wf9e/0r/Tv89/1P/Wv95/4L/lf+0/77/z//e/+T/9P/+/xcAHwAyAD4ATwBtAIsAhgC8AMUA7gDwAOwA/wAKARcBFQERARYBBwHlAOMA2gDGAM8AuwDNAM8A1ADnAOAA7wDfAOAAywDAALYAuQC1AL0AsQCmAIEAbwBTAAkA6/+4/5//k/9u/4n/cf+J/4z/hP+f/43/pP+q/6b/l/+F/4D/Yf9Q/2H/VP9b/0v/Z/9k/13/Zf9k/3v/eP98/2f/a/9u/1v/Uf8//zH/I/89/1P/fP+e/87/2f8AAB8AGgAjADEANwAbACoAFgATAAgAGAAhABsAMgA8AFAAVQBqAGYAjgCXAKEAwwC9ANEAxgDOAL4AqQCiAKIAkgCcAJMApQCgAKUAzgCpAL8AygCuALIAlwCHAGAAXAA2ACIAIQAaABEAJgAfACMALAAsADAAMQAqAD4ALgArABoAEADw/+X/z//R/7z/xP/I/9X/y//X/9P/yf/b/8//3v/G/9L/yf/J/8P/vP+6/6//sf+j/7j/wv+7/7X/0v/N/9T/0//Y/+D/4P/X/+L/4P/o/9P/4f/g/+n/4/8CAAsALQA3AFUARgBvAGMAeQBhAGQAVwBmAGgAXgBVAGEAbgByAHYAfwCrAJ8ArACYAK8ApACeAIQAXwBgAE0AVwA9ADYANQA1AEUATAAxAD4ARgApACcAGgAIANT/0f+7/6X/lP98/4H/bf9z/2z/fv9w/53/t/+7/7j/zf/F/7H/qP+k/4v/ff+H/4L/gP9//5D/iP+r/6b/zf/k/wIAEAAyAEsAUABQAFAATQBSAE8AXQBRAGIAfAB4AIUAqAC0AL8A5ADfAN0A4ADFAMwAsACaAJoAlQCCAH0AhQCMAJQAnAC/AMkA5gDfAOoA8AD2ANQAzQDOAL0AvgCfAJwAjQCBAGUAaQAuAE4AOAAuACwAKAA0AB4AGAAdABkAEQAOAAUADwAHAP7/8P/z/+L/3v+1/67/pf+x/4n/oP+F/6f/fv+O/47/pP+X/5v/p/+b/6z/pv+z/67/tv/F/8f/2//T/+b/xv/6/+T/CQAAAAsABgAGABYA/f8EAPL/+//q//b/6v/n//b/9/8AAAsAHAAvADwARABSAG8AdgCFAHcAdgCLAHMAbgBrAFwASgBVAFEAQwA+AEMAHABIACQAOgAoAD8AJAAWABUABAAEABsACgAbABsAKAAoABEAGgAaABMACADt/9n/xP+p/4z/gf99/3j/b/9c/27/a/9p/1b/Zv9s/3D/d/9v/33/gP92/4T/e/+O/5//wf/S/9X/9f/2/w8ABQARAAAABwAJAAAAAAASABQAEwAnADUARABeAHEAiwC6ALIAvACyALQAswCLAJAAlgCHAJkAigCGAIEAhwBwAHUAdwBsAGUAagBZAFUAPgBbAD8AVABWAGIATgBVAFkAWABHAEoAOABAAFAAUwBeAEgATgBEAEUAMwAdAB4ACgAHAOX/7//V/8//xP/H/7n/sv/B/7T/0P/B/9D/xP/e/9D/y//R/8n/xf+2/7n/qP+t/57/r/+X/6H/lP+b/5b/mP+h/7f/k/+s/6v/qv+l/6//pv+l/6v/q/+o/6j/tv+9/77/vv/N/8r/2P/p/+3/AQACAAYAAgABAA4ABgABAP3/BQAAAP//CgAOAB0AGQAyADoALwA3ADMAOQAiABoAEwAYAAUACAD6/////v/1//f/4//v/9D/7//Y/93/0P/W/9T/xv/K/9z/sv/Q/8//0//c/9j/9f/9/wMAFAAVABYAGwAmACAANgAXADIAFQASABcACAAWADAAIAA9AEQAUQBSAFUAZgBnAG4AfgB7AHIAdAB9AHEAbABtAHEAVwB9AGwAYwB+AHkAiACSAJEAmACXAJ0AkwBsAIwAcwByAGAAZABPAFwASgBOAEAARgA5AD0ALwAuAC8ANgAtABYAGQAOAAMACQD4//T/7//h//v/6//w/+3/AAAPAAAAFwAGABEACgAEAPj/6//z/9f/6//J/9X/v//J/8j/zv/c/+f/BQAKABcAGAAmADEAOAA7ADUAUgA0AEMAPgBBAEgAXABhAFIAZgBiAHAAbwBTAEwAPAAoABIAEAD4//n/7v8JAAMA/P8XACIAIQAtADEANQA8AEcAPwBIADoAPABIAEEARwApADgAFQAgAAwADAANABQAGwATABkAHQAiADMAIgAnABYAIQANAAsABgACAPv/6v/s/9//4v/g/+v/2P/c/9T/1f/P/9P/wf/L/8D/tP+2/7T/wv+7/8f/0v/S/+j/4//6/w0AEAATAAkACAASAAAACAD//yYAEQAuACcAPwBBAEEAVwBVAGQAaABnAGgAagBgAIYAiwCTAJ0ApQCzAMAAxgDPAMgAwgDRALcAyAC+ALYAmAClAJYAfgCCAH8AYABgAFUATABEADsAPAAzADsAUAA5ADAAPQA1ACcANAAXACgAIwAWABsAFAD8/wIA/P/9//X/AAABAPb/+f/6//L/7P/z/97/0v/b/7//xP+2/7//tf/P/8T/2v/h//r/7P/z//7////r//D/8P/c/9f/z//K/9X/0f/W/9n/6//p//P/6P/4//P/9f/x/+X/6f/S/7z/xP+0/7r/xP+5/9D/vf/d/9z/8P/3/wAAAQASAPj/FgAPAAwACgAJAAcA+v/9//r/CAD2/wsAFwANABoADAAeABoAGgAbAA0AHQALABEA+f/0//n/8P/g/+X/3//c/9f/0P/e/9D/3//g/9L/4P/d/8//3//g/+b/1P/l/+P/3f/V/8n/z//L/93/0P/c/+b/xf/i/+H/1P/T/9//0f/Z/9j/3//k//L/4v/2/wgACQAaAAsAHQAOABcAHAAfABIAIgAnADgAOgBAAFgAUgBgAE4AbgBlAGsAaABnAGgAXQBvAGAAbQBpAIEAUQBwAFwATQBGAEUAQwAzAD8ASABLADEAQAA/AD4AOwBHAEkAMgA5ACIAGgAJAAoACwAAABkA+v8UABcAIwAmACIAGwAlAA4A+//7/+L/6P/D/8H/u/+6/7z/0P/T/9//7P/o//f/4P/w/97/3P/G/8r/u//K/6j/1P+9/9X/xP/g/+f/5P/c/+z/9P/r/+z/3f/x//X//f/y//z//P8YABIAIwAuADoAMgAwADMAOgA9ADEAQwA7AEMASABDAFAANwBOAD0ASABFADsAVgBRAFMAXABPAIAAWgCDAHcAgwByAGwAeQBuAG4AbwBeAFoAVgBKAE4ARwBOADwAPQAoACQAJwAfAB8A9P8MAPz/6//7/+7/4P/3/9X/7v/T/9r/2P/c/9//1v/i/9v/1f/f/+D/1f/g//P/4P/o/+//7P/l//X/3//v/+v//P/u//f/AgAFABgAEgAdAAsAHwARABcAFgAgAA4AIwAQADQALQA+ADgAPgBEADoASABKADcAUgA4AC8AGgAmACcANQAZADoAIgBBADkAPQA3AEUASABGAEIALwA1ACsAIAARAA4ADwANABcADQASABUAMABAADEAPAA3AEQAPABUAEwAQABAAEUAVwA5ADYANQA+ADwASAA4ADYAOwBNAFoAVQA+AD0ATAA1AEUAIwA7AC0AOwAjADoAQABRAEYAOwBCADsAPgBCAC8AGAAvABoAHgAXAAwAGQAGABoAIQAlACEAKwAoAC0ALwAdABwAKQA0ADoAJQBAADcANQBAAEQATwBIAFwAXABTAEEASQAwAEAAPwA7AD0AOQA3AEQAPQAqACQAQAAxADQANgA2ADUAOwArADwAPQBWAEMARgBDAE0AOQAmAC0AEwATAPP/8f/2/9X/4//T/9z/3//Z/+f/3f/6/+X/9f/e/+7/5P/w/+f/4v/i/93/zf/r/+z/3P8IAP3/AQD6/x0ABwARABwAHgARABYAEQAIAAMA/f/1/wAA/////woAAwAPAAMAFgAVAA0ADgAVABcAFwAcAAUAEgAMABIACwAAABAA/v8PAPb/EAAHABgAKAAiADkAGwA0ACgAMAAgABAAFQD+/////P/0//T/AAAAAPr/BgACAAUADAAWABQAHwA2AD4ALgA6ADwAWQBEAE8AWgBKAFYAWwBIADEATwArADIAHwAVACAACwASAAEACwAAABIA+P8NABMADwAWAAgAGgAaABwAHwAkABYAIQAdACcAMQAMABIAHwAbAAMAHgAQABwAFAAaABwAGwAfAC4AKwAfAB4ALQAqACQANQA7ADQANQBCAEYAUgBHAE0ASwBPADYANwAjACoAGgAdAA0ACgAUABkAEgAZAB0ALQArAEIAMABOAE4ATQBGAEUANAA1ACMAHQAWABAA+//2/wAA6f/0/+f/7P/w//T/0v/n/93/5f/S/9j/y//J/8L/y//L/8j/yv/E/8j/wf/G/6v/uP+5/6X/sf+h/6T/l/+Z/63/qv+p/6j/v/+o/7H/wv+h/8f/r//L/9D/0f/b/+H/3v/p/+H/6/8AAO7/8f/z/+j/6P/j/+7/4f/2//r/9P/w/+7/9P/z/wIA+v/9//X/8v/u//P/9v8CAPz/CAD+/xAADQAmABUAJgAYADgAMQAgADQAGwBDACEAQAArADUATAA+AEAANgA/AEAATQBaAEkAZgBjAHUAZABsAG0AYQBrAGkAZABUAGkAZwBtAF4AawBkAG4AWwBlAE0AVwBGAEgAPgA+ADwANgAzAD0ANQAyAEYAKwA8AD8ATQBXAEsAUQBHAE8AMQBAACoAOgAlACoAJwAgACsADgAvACIAFwAhABAAIAAZABgAEwAhAB4AIgAyADIAKABAAC8APQA5ADkAOAAkAEUARgBBADoAHQApADoALAAhAAgAFgASAA8ABgD///j/AQD1/+r/6f/k/+n/8f/h//D/5//9/wAA+P8DAAMA///5//j/7v/z/9X/5//V/+r/1f/r/+P/AwDo/wEA9f///wAAEQD6/wsACQAPAAcA//8JAAcAAgAMAAAADAAZAAkADQASAB0AIAAkACMAOAAuADEANABHAC8AQwBDAE0ARgA/AEcARgAsADkARQAtAEAAMQAuACQAMQAjAA8AFQASACEADAAZAA4ALQAuACkANgA2ADsAMgAvADoAMwAyACsAOwArAEEAIAA/ADEALQAyADcAKgA/AD4AOgBCAEkAVwBhAGAAfQB2AIgAiACNAIgAjwCBAH0AggBrAHgAXgBoAF8AVABgAFIATABTADkAPAAtADMAJQAqACAAHwAeAAwAKwAYADAAMQA6AE0ARQBEAEwATwBYAEgASgA0AD4AKgAsABoAFwAZABEACgD9//b/AAD3/+3/5P/v//P/8P/7//7//P8AABAAEwATABwAHQAsACcAJQApACoAIgAsACIAIQAeAB8AEgAbABYAFwASACQAIQATABgAJQAhABYAGwATABgAEQANAAcAAwD6//7/8P/3/+L/7f/q//D/+//z//r/+v8SAAYACgAXACIAFwAlADIAMgA8ADsAOgBGAEEAQgA0ADQALwAaABAAAAABAP7/6f/x//P/6//v//r/8//6/wUACgAYABAAEAAdAA4AEQAQAAMA/v8BAAEA/v/p/+j/5//x/9f/zf/o/9z/3P/P/+j/3P/p//n/CwAEAAgAEQARABkAJgAYACcAHAAXACEAGAAWABAADgAPAAYAEgAaACQAGgAnACAAOgAcACwALgA0ADIANQA0AEEASABXAFAAUQBgAFoATgBdAEsAQQA8ADIAJAAdABgACQAOABQAFAAdABUAGQANACsAJQAnAC4AMABFADoAOQBDAEYANgBBAEoAOgAzADgAJgA1AAAACADq/wQA8P/n/9H/5P/U/+X/1v/n/+T//f/v/wgA9v8GAAoAEAARAA0ACQASAPb/6P/f/8j/0f/E/7f/rv+0/7b/sv+z/73/w/+9/9D/2P/g/8z/8v/x/wAA4f/7//v/9//x//z/AAD4/wUA+P/1//n/7//z/+n/4P/r/9//5v/n/+b/7v/7//X//v8SAAkAKQAYACQAJQAeADAAIQAqACIALQAdACEAEgATABsAFAAGAA4ACwAEAAMAGQAZABgAKAAjACcANAAxACwAFQAtACwAEwAdAB4AGwAHAAYA+f8QAPf/BQD0/wgA/f/7/wEA/f8TABkAFgANABoAJgASABIAEwAvACUAKgA6ADUAOwAyACsAIQApACAAIwAbABMACQD//wsA/v8KAPv/GwAGAAsAHwAnACEANAAxACwANAAmACUAJgAuADwAPwAoAE0ALQA6ADQAFwA4ACwARAAoAB8AKQAQACMADQAfAA4AEgAMAAkAHgANABQADwATABYAGgALAAUAAAAOAP3/AADj//n/+v/9/+T/7P/3/+j/5P/l/+P/6f/t/+//8//t//b//P8FAPD/BgDx/wsAAQAMAA8ABAASAAMAJQAAABkACwARABoADgAVAAgAFQAOACIADAAhAAUAGwAIABgAFQAcABwAMgAsADgAPgBCAFAAXABQAF0ARQByAF4AdABlAG0AZQBnAGsAYQBxAG4AfgBwAGoAdABsAHkAXwBnAGYAaQBjAF4AYABcAF4AXgBaAFQAYABZAFYAUwBmAEoAWQBZAFMAaABfAGYAWwBsAFgAXwBOAFQAVwBJAFkAVwBNAFcAWABDAFYASgBIADoAPgA2AEIAIQApABoAFQARAAoAAAAWAAkAFAAGABwADgAYAA8AGAAYAB8AGQAcACcAHwAtACIALAAhACMALQAjACQALQAzACcAHAAuACcAGwAjABgAFQARACYAJAArAEUAPQBbAEwAWABKAE0ATQA1ADMAJgBBACwAJQAlACcABwACAAkA/P/w/+//9f/4/+7/BgAAABQAEwAYACQAJwAoACQAQAAkACkAMQArAC4AGQAgAAkAFQD5/wIA8P/8//f/+P/0//T//v/w/wAAAQAOABAAGwAmAB0AKQAyADcALgBFACcAQQAsACgAFgAiABMADAABAAgA8P/y////6P/s/wIAAAD//wkADAAUABcAFwAzAC0AMwA3ACAAMQAyACAAQAArAC8AFgAgABAADwANABMABAANAA4AEQAMABsAKQAPACUAFwAiABsAJQAlAB4AJAAfABsAJgAdAB8AIQAWACwAEwAZACAAFwASABEAGQAdABQAHwAtACQANgA1AD0ARABSAEYATgBSAFEAQgA5AD8AMwAwACEAGQAQAAwABQDu/+L/2v/x/93/6f/w//n/AAABAAgAGAAYAC0AJwBCADUAPAAtAEUANwAzACkALwAYABcAAQD9/+b/7v/h/+f/1f/k/9z/3//V/9n/9P/j/+v/4P/+//v/7P/1/wAA4//z/9v/3v/Y/93/zf/H/8n/zf++/73/tP+8/8P/wf+//77/yP/b/9r/6f/w/+//AQD7/wMA9f/7//H/9f/m//X/5v8CAOr/+v/j//z/8v/r//X/+v/3/wkADAAfAB0AMwBLAD4AVQBSAF8AaQBSAFwAWABTAD4ANAA3AC4AHQAMABMAEwAIAPj/AAD8/wIA9P8NAPD//v8BAAwA+v8PAAwABQAZABcAJgAeADIAGQAvACcAPAARACYAEgAWABwAFQATAAQA//8FAA4ADQAgABcALQArADUAJAA9ADQAOQAzADAALwA1ADUALwAmACMANgAjAB0AJgAoACoAJgA4AEIARgBWAFAAcABBAF4ATQBUAE4ATwBKAFIASwBNADQAPgAkACgAJAAtAB8AGQAlACcAJgAdACEAGAAbAB8AHQAZABIALAAaAB4AIgAWABoAGwAZABYADwAGAAUAAAAAAAwA+/8HAPb/8v/5/+r//v/w/wgA9P8IAAAAEQAOAAAABwAAAPf/+//x//D/0v/q/93/9//e//X/4P/p//f/8P/4//L/DgD//w0AGQANAA4AGwAhABsAHQApABcAIQAgACQANwAfACwAKQAqAC0AMQA7AEIARwBJAEoAYQBcAF8AegBuAH8AjAB7AIYAfQB6AG0AYgBnAGoAbQBiAFsAYwBbAF8AWABiAGoAUgBdAEoAUwBNAFQAOwBjAEYAVABTAE8AVQAzAEEAKwAvACAAMQAeACsAFwApAB4AHAATABIAAQDy////GgAyADQATABOAEoARwAkAAoAAAAAAPb/DwAGABoA//8VAAYA8//s/+X/4//k/9X/9P/0/xEAAwAJABIAJQAiADQANQBFAGYASQBYADcARgA9ADcAGgAYAAgABgAMAA4AEQApACsAOgAkADwAKwAwADkANwBDAEUASwBIAFMAWQBlAEwAXwBVAGIAWABSAFgAQABVADcARwA3ADYAPQA4AEYATQA9AEoASgBMAE0AWgBSAFkAWQBaAFkAQgBXAEoAOQA6ABgAFwAGAAoA9P/6//P/5//s//f/+P8FAPX/DQAFABMAEwAgAB4AGwAlACoAJQAiABwAFAATABIABgACAAcA6v/z/+D/7v/d/9//8v/2////CgALABYAIAAaACkAGgAtADYAQwA7AEUAQwA4AEAANwApABQADwAZAO//8f/7//3/7//0//r/9//y//D/9v/9/wcABAAfAAsALQAkADAAJgAsAD0AJQAiAB8ADQAVABEAAADt/wEA///v//j/AgD9/wcABwARAAwAAAAhABIAEAAQAAgACQAPAA0A/v8MAPX/9f/v/+P/5f/a/9j/0f/J/+D/5v/j//H/3/8AAPP/8f/5//3/DgAMABIAHAAoACIAHgAfABEAHQAbAAgAAQADAAIA+//7/wEA9//3/wsA6P/2/wkAEQATAB0AFQAuAC4AMwA0AEoASQBHAEIAPgBJAEUANgA4AC8AHwAcAAUAAgAKABUAAgAJABUAFgArABoAMABEAE0ASgBSAEQATwBMAEoAWQBGADUAMwAuAB8ABAD9/wsACQDw//D/8//q//3/8f/x/wIA/P8MAA4ABwAhAAsAEQAeABEA//8IAAEA8v/6/+r/7f/a//D/1v/b/9f/1P/M/9f/2v/Y/+b/+P/r/woA9v8hAAAAEQAmACQALwAoACYAJgAkACIAHQAJABQA///1//v/7//2/+//8P/s//n/+f8KAAUACgAdACAALAAxADoAQQBLAEkAPwA1ADQAOwAzABQAFgAMAAQAEwDv/+//5v/m/9v/3//b/9n/6f/l/wgA9P8IAAwAJwAiACUAOwA0ADIANwA5AC8APwAzADYALQAtAC8AFwASAAsACQD9/wAA+P/2//L/5v/u/+X/5f/0//r//f/9/wEABQAPABAANwAhAD4ALABFAD8AUwBBADgAOgAxAC4AJAArAC0AMQAzADAAPQA3AEYATABWAF8AWwBpAHIAgQB6AIQAdQB5AGkAdwBYAGUAXgBhAE4AXgBPAD4ARwBEAEAAOgA8ADkASgBLAEgATwBMAGYAagBoAGEAeAByAGoAYwBdAFYAVABBAEEAQwA0ADsAHwAfAAoACQD//xAA9v8QAB8AGgAZABUAIwAfADMAKwBCADEAMQBLADUAOwA4AD0AKAAiADoAHwAYAAoADQABAAYA/f8CAPj/AQAIAPz/DQAWAAAAIQALAB8AFAAfACIANQAsADQAJQAyAEUAKQAoABkAFQAYAP7/JAAAABMABAAVAAsAEgAOAAQAHgALABYAIAAeACsAHAAkADMAHgAwAC8AHgAiABsAGQANABcAAAADAPb/7P/v/+3//P8DAAYAFAARACAALgApADkARABOAEYATgBJAEIARgA4ACcAGwAjAAcADQAMABsABAAXABAADAAAABUAAgAcABAAJQAgACQAJQAbACEAIwAgACYAKwAtADAAFwAnAC4ALgAzADUAMAAzACsAJAAlACIAJgAuADEALQA7AEQARQBGAD8AVABLAEgAVwBOAFIAUwBJAE4AUAA2ADMAJgAlACQADwAcACcAGwAhABUAHwAtACwAOgBIAFkATgBkAFwAawBkAGYAYgBSAF4APQA+ADkAOwA6ABEADgAHAPz/BAD4/+j/7P/V//f/2//1/+z/AwAEABMAFwAKABcAGgAVAB0AFAAqACEAIQAsABcAIAAKAAsABAD9/+7/8//g/+b/4//X/9P/7P/j/+P/8f/z/wEACgAjACMAJgAvADsALQAgACcAJgAfABcA+f8HAPD/7v/k/+7/2f/Z/9f/0f/U/93/3P/m/+D/9P/r//P/AAAEABAAAwAdAA0AIAAdAB8ADwAVAAkADwD8/wgABAAHAPf//P/2//n/+v8HAP7/DQD8/xYABwAQABMAKgAoACYAMwAUACIAGwATABMADQAQAPr/AgD+/+H/9f/q/+7/3v/Y/9P/0v/T/+H/+//r/wgACAD//xoAEQAqACgANwA+AEQASgBJAFMARwBXADkAWgBJADkAOwA+AD0AMQA3ACgALwAsACwAPgAkADUANQA9AD4AVABPAFkAVQBXAF8AXQBZAFoASgBdAEkASAA7AEEALQA4ACgAKwAWACgAGQAaABMAFQAcAB8AJgAlADcANgBCADMALQArACkAMgAjACQAIwAaABkADwAJAAwACwAJAPz/AAD+//j/8f/+//7/7f8DAAQAAAD1/xEA+/8EAAEADAAHAAMAEwD8/w4A/P8WAAQACwAZAAEAFwALAAcACAAfABMAJgAgACIAIwAaAB0AEgALAA4AEAAKAAcAAwAUABAAKAAWAB8AEQAcABMAFwABABEAEAAPAB0AMgAhACoAMAAmACQAKAAtACMAQwAtAEMAIgA8ACEALAAjACkAJAAmACQAMAAjACgAMAApACAALwAgADAAMwA6AEQAQABQAE8ATwBeAFoAWwBLAFsATwBbAEoAUgBKAFMAPwBDADoAPgAmADYAKAAuAB0AHQAlACQAIgAoAC4ANQA0ADoANQA0ADYAJwA6ACwAQAA4AEEAPgBPAEoATQBNAEsATABdAE0AUABIAFQAUABAAEkARQA8AEcAOwBBAEkAPgBoAEwATwBMAGQAVQBfAGIAUwBaAEwAXwBHAEcASgBRADUARgAuADQAMwA9ACkAIQAdACMAFwAMAAIAEgAIAAEAAwAGAAwACgAMAA8ACwAbAAgACAAAAA8A9v/5//j/9f/1////9P/2/+//3//n/+3/5P/0/+//7f/6//r/7v/+/woACQAAAA8A//8DAAUA+P///xAAAwAbAA0AGAAXABgAIwAiACUAKgA9AC0ALgBAAC0ANQAmACYAJgAmACEAIAAcABkAHAAKABgADQAOABQADwAAAP7//f8HAOz/8f/s/+j/8v/n//D/6v/z/wUA9v8AAPn/EwAnAC4ANQA5AFYASwBDAEkATwBNAE0AOgA8ADoAOQAgABUAEwAeAAUAGwAJABIACQAKAPz/FADy//7/7P8OAAEADwARAAsADQAXABEACAAOABIAFAD3//T/CAD///b/8f/t/wAAAQD5/w0AAAAHAB4ADgAcACkAKAAoAC0AJAAyABQAKwAmACIAMQAxADIAOgA/AEEAKwAlACkAIwA5AC8APwBGADkARAAmADwAMgA/ADEALgAxAD4ANAA4ADIAIwA2AB0AMAAIABEABwD///f/3v/l/+P/2P/e/9r/4v/u/+7/+v/8/wkAAgAWABMADwAXACAAHgAZAB0AHQADABQABgAHAPv/AAADAAYACgAQAAwACwAQAAgADAAdABMAHwAhABEAIQAdACkAIAApADgAJQAeAC4AGwAoABYAFQALABQADgAWAAwAHwAVABYAHgAkACAAIAAeACsAGQAlACUALwAtADEAJAAlACYALAAgABkAGgAgACQAHwAnABsAIAAVABwAEQAQABYA//8EAPj//v/u////9P8LAAcAAAASAAkA+v8iAAgAHQAgAAwAGgAMACMAFwAVABwAJwAFABMADgAKAA8AFAAjABMAKQAeACkALQAnADIAKgAyACoAKQAlADEAKgApACMAJQAdACkAFQAmABcAEAAKAAQAEQAHAA4AEgAnABsAKAAgACsAIwAfACQAMAAmACUAJgAoADQAJQBAACoANAA7ADQAMwAyAEQAMQBDAC8ASQA+AE4ARwBRAFMASwBQAEgARAA9AEMANgA3ADYANwAwACQAIQAiACMAIQAlAC8AFgApABcAFQAUABsAGAAXABQAFgAPABIAFQANABkALwAgAC0AJAA0ACEAJQAfABgACwAKAAgABQD//w4ACAAOABYACgAbABwAIAAwACgAIQA4ADcAOQA8ADEAGwAdABwAHQAVACYAJgArADAALAAqADgAKgA0ACwANQA7AC0AMwA0ACIAGgALABQADwAXAA0AEAASABAAEwAbABIAGwARAAoAEQANABsAHQAlAD4AIQAyAEIAIAA5ADQAJwA9ACUAOwAvADAAIQAaACIAGgAhAAwAGgARABkABAAKABQADwALAA0AEQAGABUADQATAAMAEgAEAAcADwASAAQAAwAUAA0AGQAgAB8AIQAcABkAIAATACMAGwAkABgAEQABAA0ACgAGAPz/EwD7/xcACAAVAAQACQAVAPr/EgAKAAgABwAEAAEABwDy/wUADAAUAAcADAAWACEAGgAfACYAJwAtADkAOQA/AEkASwBBAD8ARgBGADkAQwAwADwAOAA+ACsASgA3AEIAKwAyADcAMAAwABgAIwAgABYAFQARACEADAAaABgAHgAqACkAMAA4ADcALwAxADQALAAlACMAJgATABgAFgANAP7/CAD//wIADgAJAAsAJAAhACsAMwA6ACkANwAjADsAOgAyACkAKgAyACgALgApACMAJQAjACgAHwA5ADIAHwAlADgAJwAyACYAQQA0AD8AMQAnADoAMQAzACsAQgA9AEIANQA6ADsANQA8ADEANgA7ADAAOQAyADQAMQA5ACYARAAsADsAPgAvADYAKAAdACcAHAAfAB4AEQAUABIAHwAZABwAJgAlAB8AIAApACAAIQAkACQAIAAaABsABQAAAA0A+//9//n/AQAFAPz/+v/x//L/8f/m//H/7f/7/+3/7P/u//z/8v/i/+j/+v/t/wAA/f8YAPL//P/4//z/BAAAAAkA8//+//b/7//2/+3/6v8AAPH/8f/5//L/7//s/wgA9/8CAA0AEwASABUAIAAeABcAKgAjACYAMQAyADEAOQAyADoAQgAwAC8ANgAwACgAPgA9ADQARQAsAEsAKwAyACoALgA6ACEAKwAbACkAKAAbABUADgAXAA0AEgD8//7/AAD9/wAAAAACAAQABQD8/wsA//8XAAoAFAAQAA4ADQAEAAgA//8MAAYABAAFAAAAAgD4/wYA9v/5//H/6v/v/+X/7//1//P//v/8/+//9//z////AwDz/woABgAUAAAAFwAHABQADgASAAcAFAAUAB8AGQAMAC4AHAAeABAADAAQAAgAGgAIAAAABgACAAMADQADAPv/5v/y/+f/7f/s//n/9f/5//z/AwAJAPn/DAAHAA8ACQAKAAAADQD3/xAA8/8BAPb/DQDs////9v/9//T//f8MABAACQAbAA0AIwAMAB0AHgAeAB8AIQAfACYAFgAcAA8AHgAJABUAEQAjAAsAGgAWACAAIwAlADAAHwAjACYAGwAgABsACgAWABAAAAAJAAkA+v8EAAEA+P8DAAgA/f/5/xMAAQALAAoAFwAYABwAIAArAB8AOAAuADEAGgAsAB8AMgApACgALwAiACQAGgAjAC8AJgAxADQAKgA0ACcAIAAmAB4ADgAYABQADwAaABgAFQAjACIAJgAnACMAIwAmACUAJAAxADIAMgAlADYAJQArACoAHwAWACIACwAEAAsAEwAMABIACgASABgAFAAcABsAKwAgABgAFAAeAB0AFgAlACEAIgAfAB8AIAAwACoALQBAAEQARQBGAE8ARgBJAE0AQgBNAEMAVgA3AEYANgA1ACsAJAAvACkAMQAoAB8AJAAfADEAGwAnADAAHQAkAAsAIgANAAsACAAHAAAABQAJAP//GgAMACAAJgAlACwAOAAtAB4AHwAlAB8AIwAcACkAIgAYABgADgARABcAGAAYACQAKwAtACgAGQAtACQANwArACUALwAvACQADwAOABoAFQAPABgABQAbACAAIAAfABMAEwAPABEADAAPABsAEwApABsALAAlAC4AFQAnABUAFQALABcACAAMAAMA9f/9//j/AwD5/wgACAAPAAwADwAZAAQAFgAKAB0AFAAYAB4AJQAeAB8ADwAdABkAEgAMABAABgAIAAgACgAOAAwAEAAVABYAIAAxADIAOQBCAD0APgA0ADoARgA2ADkAQAA+ACgAMAAwACkAHwAfACQAGgAUABMAEAANABgADQATABQAIgAZACQAHQAoABsAJAAiACcAKwAkADAAHQAkACcAKAAqACsAJwArAB8AMAAhACEAOQAiACcAGwAhABgADAATAAoABgD0/wkA/f/+//L/7v/8//f/5//6/+z/AQD6//j/8f/2/+v/BQDv////9v/6/wkABAABAAcAFgAbACUADAAeABAAAgAJAA8ADQAHAAIA///8/+3/8f/4//P/9v/4/+P/8f/k/+z//f/t//7//f8QAAsADAABABIAGgALAA8ACwAYAB8AIgAfABwAGAApAB4AFwAhABYAJAAfAB0AFQASABQAHAASAB0AIAAVAA4ADwAPAAYAFAAUABwAJAAUAB0AFgAQABQAGwARABEAGAASABIACQD7//j/9v/x//j/8//+//7//v8EAPz/BwADAP//DAALAAAABwD+//j//f/9/wUACwALABgAEAASAAkAEgAPABsAFAAYABsAFgAYABEAEQAHAAwACwAHAAgAFQAIABoAFgAnAB0AIwAnACkAMAAqACYAKwA3ADIAMgApACkAHAArACAAMgAqADAALAAaAC0AJwAiACEAHwAfADAAIwAwACYAIgAjABkACQAUABgA/v/9/wIA/f/0/9z/9f/y/+H/3f/q/+X/6f/n/+z/+v/6/wAA9P/y//b/+f/y//7/8/8AAAAAAgDj/+7/8P/c/+D/6P/e/9T/6f/b/9X/7//e/9X/8//r/+X/+f/4//b/+P8AAP7/AQAIAAsADAAKACAAIAAgACIAHQAcAB0AIwAaABQAFQAUABAABwABAAIABAADABQADQAgABYAHwAQABsACAAVACAACQAhABsAJAAZACAAFAAZAB8AIAAzADQAKAA4ADAANAAkADEAJwAsACkAPAAfABgAGAAMAAkABAAFAPb/AQAIAPr//f/3/xMACQAZABQADAALAA8AGgANABAABgAVABYAGgAaAA8AGgAgACMAGwAWACMAGwAZAAwABgAbAAkAEAAWABMABgARAAUABQAEAAAA/v8JABEAEAARABYAJAAUAC0AHQArACkALQAtADwAIgA0ACQAOAAWACkAJQAVACkAIQArAB4AMgAyAB4APgAvAD4AOABNAEEAQgBHAD8APQA6ADwAPAAyADUAKAAkAC0AGAAWAAcACQAXAAUADQARABwABAANAAgAEQANAA8ACQAcABUAKAAZAC4AHwAfABoAHwAUABQAFwAgABYAJQAVAB4AEwAgABMAIAAMAA8ABgAGAAwAEwAHABoAEQAcAA0AIQAiACsAOwA8ADsAOgArADEALAAyACoAQQA2ADQAOAA+ADUAPwAxAEQAOABCADQATAA0AEAAQAA7ADgAQABCAEAATQA/AD0ARgA3AEsAOgBEADcAOwAtACUALAApADoAKQA9ACwAMQAvAB0ALQAkACgAIgAZABwAEgAVABkAEQAeAA8ADAAKAA4ABAAMAAEAEgAGAAAABQADAP7/GwAAABEAAwAJABMA/P8UAP//DAAFAA0ACwD//w0A+f8AAP3/7v/y/+f/5//r/+3/6v/z//T/+f/1//H/8//6//f/DgADABEAAAAWACUAFwAnACEALgAaABwADQAMABoABgAPAAEAAAAAAPj/BgACAAsACwAIAAEABQD7/wwA/v8RAAAABAD9/wUA+v/9/wEA8//3//T/+v/w//P/8f8BAPH/7f/u/+P/6f/d//z/4//3/9L/6v/e/+P/4f/d/+n/3v/n/9f/6v/s/+P/9v/m//f/5v/y//7/4P/g/+T/4v/t/+D/7P/l/+7/7v/x/+n/9v/r//7/BQDq//r/DgD+//v/GAAMABAACwAZAAwADQAiAAsADQAeACAAMAAkABYAIwAYACYAGQAVAAYADgAHAA8AEAAHAAkACgABAAIAFwAFAAcAAAARAAoADAAGAAUABgACAPX//f8AAPv/9P8BAPn/AAD4/wgACQD5/w4ABAALAAwAEAAHABcAFQASABcAEwAiABMAHgAVABAADgAEAAAAAwACAAQAAQD+//L/9f/r/+T//f/0/+3/+f/1/wIA+/8JAAIAEQAUABEAJQAOABoADQAMABAAEgAJAAsADwAAABUA9/8AAAIA+P/4/wIA9/8MAAEACAAPAAkAGwAXABQAEwAOAA4AFgAZABEAFQAgABcAEgAUABsAGQAgABMAGQANAC0AJwAiAC4AJwAsACQAJAAtAC0ANgApACIAKAAgAB8AKQAoACEAMAASABcAEgAQAA4A//8MAAwAAAACAAAA5P/t/+L/8v/d//n/3P/z/+D/8f/f/+//5P////L////8/wIAAwASAAYABwARAP7/EAD6////7//6/wAA+v///wEA+//6/wEA9P8AAAUAAgAGAAIAEQAGABkAGwAXAA4AFgAYAA0AGgAWACcAFAASAA4ACgAKAAoAEAAlACcAKAAkACMAKgAjACoAJgAtACIAMQAgABEAHQAjACMAFgASABAADQAQABUAIQAZAC0AGQAlABoALwAoADcANQA0ADkAMAA3ADkAMAApADsAPgAyAC4AOAA8AC8AKgAwAB8ACwAdACEAHQAbACMAIAApACwAKgAsADQAIQApACUALgAlACUALAAsADMAMgAlACIAJwAlABYALAApAAoAJwAUABMAEAAKAB4AEQAUAAsADgAEAA8ACgANABMACwAfABAAGgAOAAcABQALABQAGgAVAB0AJQAeACcAJgAaACYAIwAjABUAKQAHABMABgAGAA4AAgAOABAABAAKAAEAAAD8//z/7f/v/+T/8v/k/9b/z//V/8//yf/I/8P/0f/G/8D/0f/J/93/2P/s/9X/+v/n//f/+P/3/woAFAAUAAoAEAAFABQA/P8OAAQACwAIAA0ACQAAAAIA//8FAP//AQAWAAYAHQARACoAKQAnADIALQA2ADEALwAxADsAOwA5AEEAKwAxADUAPAA5ACcAOQA0ADUALAAyACcAQwAxAD0ARgAyAEAANgA+AEEAMAA7AC0ANQA0ADMAIQA3ACcAJwAeACIAJQAiACIAIAAWABkAEwAWAA8AIAAQAAgABwAHAAAAAwAAAAsA8v8FAPT/+f/+//T/AQAAAAYACgD//xcAAQAVABUAFQAJAAcACgAAAAYA//8GAPv//P/4/wEA8v8BAAgAAwDy//j/AADz//T//P/7/+7/8v/0//P///8CAPH/AQAEAAkA/f8FAAkACAD8/wQABgAHAAAACAADAP//BgABAAEA+//1//z////9/+//AgD0/+//8v/u/+n/7f/o/+n/8v/x//v//f/+/wkA9//9/wEAAAADAPP/BgDx/wEA+P/5//X/7P/3/+b/3P/Y/9v/1//S/8L/0f/Q/9D/wv/Q/8f/1v/R/+H/2P/c/9z/5v/U/+f/6P/Y/9f/zf/X/83/zf/c/+D/8//q/+n/8//6/w4ABAAGABgAGQAqACgAHgA+ACoAJwAuAB0AMAAgACgAHgArAAoAFwD//xEA+v8CABIACAAEAAkABQARAAAAHwAGACAAEAAXAB0AIgAfABEAGAD+/w0AAQACAAIA6/8CAAEABQD3//7/8//9/+H/7/8AAPP/8P8CAAAACgASAAYACwABABUA/v8JAAUABQAAAAMA9f/o//D/8v/l/9f/5P/W/+X/4v/v//D/4//y//r/EADu////AAAMAAAAAAAKAP7/BAANAAsAFwAYACMAGwARAAkADQAMABEACQAWAAcAEQALAAkAEwAIABYABQAEAP7/EAAAAA4AFwABABQACQALAAAAHwAkAA4AIgAkACMAIQAZAC0AEgAgABgACwADAAcABwADABEABgAOAAoADAAgAP3/GAAUAB8AGgAaABoAFwAcABcAEAACAAsAEQD2//b/+P/u//T/7//3//H/3v/l/9z/2P/d/+T/4f/4/+H//P/7/wIAAQAHABUACAAcABQAGAAXAA0ADAALAA0AGgALAB8ADgAMABsAIgAiACQAIgAdACAAIwAbACMAJQAxACUAJAArACwAKwAtACIAKgAxADQANAAxADYAPAA/ADwASwBJAEoATwBCAEYATwBOAFQAVABEAFQAQwBaADkASgBBAEgANQBJAEMANQAyAC8ANgAkAB8AMQApAB0AGgAQAA0AAwAEAAwA/f/2//r//P/3//H/AAD1//r//v/5/wQAAAAAAAIA8f/1//v/6f/e/+X/5f/g/9f/0f/o/9f/1f/X/9j/0//g/9n/2v/Z/+H/5//x//H//f/z/wMAAwAGAAAACgAUAAwADQAPAA0ADQAVAAcAFQAPABQAFgAYAB0AHAAeACgAHAAcACIAIgAbABoAEwAUABgACgAhABgAGgARABcAFQAeABYAHwAnAC0AFgAgABYAAgAVAAkA+/8FAPf/AwD5////CgADAA8AEAALABgAHQAZACsAGwA6AB8AKQAkACAAGAAXABYACwAKAAkA+P8AAAoAAgD6/+//+f/w//3//P8BAAAAAwD+////CgD6/wMA3P8BAPf/9P/3//r//P/z/wYACQD9/w8ACgAXAAkAIgArABsAIAAmAB0ALgA5ADoAQwBEADsANQArACgAKQAYABkAHQAKAAwABQARAAoADgAWAB8AHAAhACYAIgATABgAIAAmAC0AJQAqADAAKwAvAB8AKgAnACEAFwATAAIA+v8EAPb/8v/w/wIA5v/r//T/4//u//T/7/////r/+P/n//P/8//4//D/9P/2/wwAAgAFAPn/BQAFAPf/DgD3/wMAAQD+/+//8f/8/wAA8v8CAAEA8v/+//v////7//z/+P/8//L//f8DAPf/AQDu/wQABAD//wkACAAKAAwADAALAAoAFgAOABkACwATAA0ACQACAA4ADgARAA8AEQAXABMACwAKAP//+v8GAPj/+f/1//b/5f/z/+b/5P/f/+H/3//t/+f/5//s/+3/5//o/93/8f/n/+r/2P/V/9H/1v/N/8X/uv/N/9H/wP/N/+P/2//i/+7/+v/+/wMA8//7/wAA7P/7/+X/9f/x//n/5//2/+X/8P/k/93/2f/P/+n/2//l/9z/5P/o//D/+f/s//f/9v8AAPP/+/8IAAgABwAIAAgADAAAAA4A//8TABMACQAfABgAJgAbAC8AFgAjABgAHAAPABkAHwASABcA/v8BAAAACQANAAEAEgAMABAABAAMAAAAAAAAAPj////x//j/+f/k/+X//P/h/+j/8P/z/+r/5P/t/+D/6P/l/+X/5f/t/+f/7/////D/8f/t//f/+P/r/+j/7f/n/+7/6//j/+j/9f/c/+v/5P/n/+T/7P/n/9r/4f/d/+f/5v/q/9v/3v/V/+z/5v/t/+n/6v/s//H/8f/1/wkACwALAAsAHAAbAAkAHwAWABAAHgAoAA8AKwAYACYAIgAeABwAJQAhAB0AIQAPADAAKQAwABsAGAAbACAAIwAWABwABwAHABAADQAUAAgAFgASABYACQAbACIALAAgADcAJQAjAB0AFQAsABAAKQAUAB8AHwAfABsAHgAqABUALAAWABUADQANAAoADAAPABAACAAUABwAIwAWABkAGwAeABQAGQARABMADQAaABAAHgAEABUAGQARACEAKAAwACoAMgAqADgAQAA3ADkATwA8AEQARwA6ADYAPAAmACAAHQAiABAACwARAAkACQANABUAFAAVACQAGQAxADMAMABCACsARQA4ADwAQAA3ADwAOgA3ADAAMQAyADMAKAA0ABgAGwAcACgAJQANACUAFAAXAAgAAAAFAAAA+////wgA/f8BABcA9v/5//z/9f8HAPX/+//6/wgAEgD//xIAEAArABcAHQAjACMAHgAbAAYAJwAHABMAFgAXABEAHgAHABcADQAcAAcAGAALAAUABgADACEABAAWAAQAFgAPAA4AEAATABsACwAPAA0AGQALABgAHAAZABcADAAaABkADQAUAA8AGwAUABQADgAHAAMABAAPAP//+P8CAAIA8f/x/+n/7f/2//3/9//7//7/BAD5/wMACAAOAAkAAgATAAcABADo/wgA8/8CAPH/+f/v/+T/4//i/+z/6//u/+b/7//l/9v/6f/n//H/3v/i/+v/2P/Z/87/xP/C/7z/vP+7/8H/uv/N/8X/xf/b/93/4//k/+3/3//s/+3/8P/4//P/+v/4/wAA/f/w//L//v/p//7/9P8AAPb/AAD6//n/+//0/wEA8P8IAPX/CQDy//T/9v/8/+z/9f8KABAAEAARABoAGwAjACkAJQAgACsACwAdAAoAEAAFAP3/+v/v/+r/3//q/+L/7v/r/+T/7//o/+n/+//v/wAADAAJAA4AEAAVAA4A///w/wcA4//t//f/2/8AAN3/5P/f/9z/4//T//H/3P/r/+n/7v/0//b/8f/8//7/+v8FAAAAAwAGAPb/AAD6//z/7f/2//b/6v/r/+T/4//x//T/9P/8/wgABAAcABYAJwAYACMAJQAfABEA//8VAAAADwD3/woABwADAAMACQAAAAgABAAHABMAAgACAP7/AAALAP//CAD9//7/7v/r/+r/7//x//T/9P/z//3/BAACAAUAAgAKAAAA+f/4/woAAQD5//L/8P/t/+v/7//t/+P/4//n/+P/6f/m//L//P////b/+f8CAAAA+v8BAPT/8v/4/wgA9P8AAPr//P/4/w0ACAAdAA4AEwAUACQAIAAhACIAFgAaAB0AGQAbACAALwAnABcAJwAeACEAFgAbABkAFwAOAA8AHgAcABMAHwAOABYADwARAAcAFgAHAAYABwABAAAADQALABEAIQAXABYAFQAXAAUAAQD0//z/BwD3/wMAAAAIAAAADgAAABUAGAAbABwAFQATABMADwAZABoAIQAbACUAIAAVABMAJQATAAUADwAOABgAGgAaAAgAEAALAAsACQANAAMAJQAFAAwABgALAAIAEAAMABYAEAATABYAFgAeACYAKgAsACoAMQAYACUAIQAdAAwAFwD2/w8AAgAYAAMADgAUAAsAGgAWACIAHQAlABgAGgAiABsALQAhAC4AIQAeAAMACgABABEAAwAIAP//BgDv/wcA/P8VAPr/BAADAA4AAgD9/wAA8//0//X/7v/x//T/5v/u/+7/3v/q/+D/7f/g//P/6f/3/+v/AwD1/wUA7f///wMA6P8AAPL/9P/t//H/3//3//X//P8AAPj/CQD//xAADAAJAAkAEAAMABUAEAAUAAsAGAAUAAgABwAIAAwABwD///7/+v8OABEAAAAPAA0ABgAUAA8ACQAPABsA//8JABYAGAAuAB8AKgArADMALQAfACYAJgAsABkAJgAcACQAIgAyAB8AJQAjAB4AEgAjABcAFQAKABgA/P/4//f////3/wQA6P/7/+7/+//m//r/9//7//f/AgAPABUAFwAjACgAKgApACwAMgA9ADoAOQBAAD8AOQA5AEIADwBDACkALwAhACAAKgAdACEAEAAVABoAEQABABIADwANAAUA+/8AAPf/AADu/xcAAgAcAAYACgAQAAAADAAHAAMACwD1//P/7//m/+X/8v/5/+P/5//g/+//6//m/+P/4P/e/93/1//Y/9n/7f/U/9f/4//o/9j/3//b/+T/2P/i/9n/3v/o/+n/3//r/9v/5f/o/+f/5P/n/+H/7P/x//P/8f/k/+n/9f/d/9n/5v/b/9v/4P/M/8T/zf/F/9r/5f/g/9v/2//t//D/6P/a//r/7P/x//X/7f////T/7P/r//T/+v/2//f/AAALAPL//v8KAAUADwD8/wsAAQAEAPv/+f8FAP7/+f/0/wIA9//n/+7/3v/i/9j/4P/V/93/1//Z/8n/3f/X/9//5P/m/+j/3//v/9//BQDy//D/AAD+/+7/+//w//b/7//s//z/AgDs//z/8f/6//T/8f/r//X/3f/v/+D/2v/o/9n/3f/d/+X/2v/k//H/7v/3//T/+v///wgAFQD//xIAEgATABUAJQAlACAAJwAkACQAJgAmABIADQAPAAsA//8GAPz/AgAAAPP/9f/1/wIAAAAFAAUA/v/3/wIA+v/5//n/9f8AAPj/EQAAAAAAEwANABwABgAPAAUA//8KAPb/FwD2/xkABwAhACUAIQAuACIALQASACQAFgATABQAAAAKAPD/+//0/+z/6f/g/+b/8f/y//T/AADy/xAA8v/3//f/8v/5/+f//P/x//3/9f8IAPz/9//+////+/////j/+/8CAP3/AwD//xkACwAFAAkACAALAPn/CgD//wAAAAD5/wUABQARAAIADgAVAAAAGQAJABUAFwAcAB4AHAAXACEAKAASACIAGwAuAB8AMQAqACkAKgAsACsANgArAC4AOQArADQANgA5ACcAOQAeADYAIAAmABcAEwASABAACQAHAA4ABAAKABEADwAdABgAGgAgABYAFQAcABoAHAAcAB0AGQAjACQANAAfAC0AFAAgABAAGgAQABgADgAVAAkAGgAFAAgAEAAZAAgAFwAAACMACAAWAAYACwALAAgAIQARACMAFQAjABoAFgAXAPz/FAALABAABgAiABIAHQAcAC0AKAAyAD0AOQA8AD4ASgAtADYAMAAkAB4AFAATAA0AFQALABAADAAWAAEAEwAAABMACQARAAwADwD/////AAD5//b/8P/n//P/6//p/+n////+//X/BwD//wEA9//8//n/AwD7/wAAAQAIAA4ADwABAAUACwAOAAIAAAAKAAkACAALABsAJQArAC0ALAAnABsAKQAXACoAGQAgAA0AIQANABYAFQAdAB0ADwAVAAcAIQAWABgAJgAdABkALQAbAB0AHQAmACIAIQAjAC4AMQAiADQAJAAwACIAKQAxADIAKwA1ACwAJgAkACoAGwApABIAEQD6/wQAAwD4/wYA+v/8/wIACAD+//L/9v/4//7/6v/v/+H/5//q/9j/4f/0/9z/3f/r//3/7f/v//D/+P/s//f/4v/7/+b//f/p/+z/9P/i//L/8f/g/+n/3//c/9L/xv/Z/9T/2//T/9D/4//K/9z/5P/m/9X/0f/X/9n/4v/i/+7/6P/o/wAA9/8BAPv/GwAEAAcADAAKAAkAAgACAAAA8//x//T/3//j/9f/3//d/93/3P/w/9f/5f/o/+P/4v/g/9//1f/Z/8v/4//G/9X/wP/G/7r/yP+//9z/1v/a/9b/yv/b/9b/5//i/97/6v/m/+r/7v/x//r/9//1/wEA9v/5//7/+//w//P/5v/r/+T/7//t/+D/2P/d/9f/0v/W/8r/zf+7/8j/uf/E/7L/uP/D/9T/2v/S/+3/9v/n//T/BQD+/+r/8//i/+D/2f/L/9P/0//V/8//yf/c/9n/5//l/wEABQALAPT/EQADAAMAAAADAA8ACAASAPv/CgADAPz/AAD0/wQAAQD6//P//f8AAOr//f/5//3/AwD2/wYACgD8/wEACwAEABQAFAAQABEAGAAMAAUAGQAXABgACQAMABcABAANAPT/CgDu/+r/4P/g/+P/6f/r/+L//v/o/+7/AAADAAAABAAKAA8AAwADABUAHQASABwACwAkABEAHQAkAAwAIAAhAB8AFgAVABIAFQAGAAAAAwAFAAIAAADx//r/8v/j//P/7f/j/+T/4P/p/+n/7//5/wAA//8JAAsABQARAA4ABwD//wIA9//6/wIA+v////D/7/8AAPb//P/8/wYA+f/8//j/BQADAPP/9v/j/+n/5P/e/9X/4P/Q/+P/2v/k/9H/3f/f/93/5v/p//L/+//2/w4ABwAdAAkAJAAXACQAFgAMACUADAAiAA4AIAAZAB8ABgAXABUACQAaABQADwAOAAsAEAAEAAQACgAUABAAJQAdACYAIwA1ADIAJgArAC0AKAAuAB0AJwAlADQANAA6AD4ANABDAEQANwBAADcARgA7AC8ANAAqADIAKAAmACYAJwAdADIAHQAXACoAMQAxACoAJQA0ADAAIQAkACYAHAA6ACQAJwAlADEAJQAxABQAGwAfABAAFAAQAAkADwADABQADAANABMAGAAWABcAJgAGACEABgAcAAcAGQALABEAAQABAPr/AQD+////BAAKAAYAAgAKAP//AgAAAA8A+P8FAP//+f/5//b//v/0/wwA//8AAPT/CAAGAAkAFAAYAB4AIAAgABQACwAVAAsAEQD+/wMA//8BAAAA+//0/wQABwD4/w0ADgAVAAsAEgAOABYACgAaAP//EQAMABoADQAVABoAHAAgAB0AIQAZAB4AEgAVABMAHwAeABwAHAAcABoAEgAtACMAEgAqACYAIQAmACsAIQAwADIAJQAcACQAHAAiAB8AGgAgACYAGQAWAAwA+P////D/8//f/9z/5f/k/97/3//n/+T/3//i/+z/5v/3//r//v///woAGgAcAAkAFwAOAAUABgD9/wAA+f/+/+r/8P/l/+//6v/x/+3/6f/f/+3/7f/t/+//5//2//b/8//t//T/6P/k/+L/4f/s/+f/8P/0//r//v/9//L//P/8/woA/P/7/wgAAAAAAPX/AwD3//z/8f/6/+7/AAD1//P/5f/r//T/5P/1/93/8f/j/+n/8P/k//H/7//3//z/BQD0/wIAAwAAABIABAAfAAkAIQAYABAACgAOABcACgAVABIAFgAaAAIAEwD0/wkA8v/8/+j/+f/v/+b/6//k/+f/7//3/+f//v/1/wEA+P/u//b/8f/w//D/9P/0//z//v/4//T/AADq//H/8//v//f/+f/1//L/7//o/+7/2P/h/9z/4P/j/9j/4f/a/9z/0v/U/9z/4//u/+n/9P/i//H/4v/o/+f/3P/y/9z/6P/o//X/5//+/+3/AwD4//z//v8GAPL/7v/r/+7/4//c/+P/4f/f/9z/2P/X/+v/5//s/+r/4//q/+7/+v/x//P/7v8BAAcACgALAAkADQAIAA8ACQD+/wUA+/8IAPX//P/z//r/6//5/+r/+//o//X/7v/3//b/7v/6/wQA+P/9//n/BwAFAAsADwAQABEAGQATABgAFwAdAAkAHQAPABMACgAYAAoADwAGABMABgALAAUACAATAAkADgAKABkACgD///v/9//9//j/8v/9//r/AgD3/wUA+P8IAAkABQATAAoAEAAbABMAEgAJACIABwAfAAcAGgACAAEA+f/r//L/3f/b/9X/3P/m/+r//v/1//b/5f/z//v/7/8JAPr/+v/x//j/5P/7/97/3//e/+f/3v/v/+b/6v/m//j/6f/7//D//f/2//n/AwDt/wMA9v8GAAMABgD9//z/AAD9//n/BgD9/wAAEQD8/w4AAQAMAAwAFgAUABMABwASAAMA/f8CAAIAAgAKACMAGAAZAB0ADAAcAAcADAABAA0A+f8MAP3//v/9//v/9//0//T/9P/1/+v/7P/q/+j//P/x/+j/AAD5//7/AQABAA4AAgAEAAkAEAD9/woAAAAJABMABwAXABQAEQAOAAsAEQAPAAgAEAAaAAsAFgAOABcADQAfAAwAJgAXACkAHQA1AA4ANwARAC4AIAAmADMAIwAwACEALAAcACkAHgAiACsAHAApAB8AMAAnACwALAA1ACcAPwA5AEUAPgBIAE0ATQA+ADwANAA2ACoAOQAVADEAFwAaABgAEAAVABQABwAdABwAIgAZAB0AFQAuABoAKAAcACAAOAAhACIAJgAkACIABgAYAAgACgAFAAQA+f8GAP//+P/v//b//v/r//T//P////r/BgDy/+f/+v/9////CQAAAPr/BQD1//v/+v/9//v/EwD1/wMAAQAAAAcA9f////f/CwD9//7/AwACAAMABwAFAAYAEgD9/wcAAwAWAAYAHgD8/wwAAAAHAO7/BwAIAP3/+v/4/+z/8P/i//7/7f/6/+T/BgDy/wwA9//z//7/9P/9/+X/BAD7/wEA7v/x//f/AgD4/wQA/v8AAAIA8f8CAP7/BQAAAAMA9v/8/+3/+f/x//X//f/1//z//f/5/+r/8P/w//D/8//n/+j/8//n/+j/7f/n//D/3//3//D/9//q//v/+//y/+v/AQAKAAYAAQAXABIADQAPAAgAEQAAAAAAAAD3//P/6f/o/+T/7//m//P/9//8/wQAEwAPAAoAIgAXACgAEAAcABAAEgAIAA0ACQAKABIADwD6/wYA/f/8/+r/+P/m/+r/4P/x/+L/9P/x/+z/AwD0//j/8v/4//3/8P/3/+b/6f/r//T/6v/w/+z/5P/w//j/3f/5/+H//f/e//j/6//1/+r/5f/h/9H/4//W/+T/5v/i/+7/4f/o/+L/5//o/+3/8//u//v/CAD+//j/3P/n/+L/5v/V/+j/6v/u/+//7//y/+n//P/+//n/+P8AAAkAAAAEAO3/9v/6/+z/9P/t/+//8//p//z/8v/+/wYACQAMAAoAEAARAAwAGQAYAAwABgD7/xAAAgD+/+//+f/4//X/8P/z/+///v/0//X/3P/v//L/7//m/wAA8//p//v/8v////f///8EAAAAAQAPAAMAEAAXABYAGQAfABUAIwAnABsAJAAhABoAHQAOABgADAAKAAMAFQD6/wkA/v/6/wYACgAEABgADgAZABYAFgAVAA4AGgAfABEAFwAUABQAGgANAB0AGAAaAA4AGAADAA0AEQAPABMAEgAeAAcAFAALAA4AAQAMAAAA/v/4//z/9f/g/+j/5P/0/+f/9f/+/wAA/P/5/wUACAAPAAcAEQAOABoACwANAAoACwAAAAoACQAJABoACwAOAAkAAwANAAUAAAD4//T//f/5/+//8P8AAPz/9P/+//v/BwAKABMAEgAOABkACgAgABAAIQAWACUAEwAcABgAGgAXACUAFgAtACcAKAAjAB8AIgAaABsAHAAjAB0AGwAUAAcAEgAHAAwACgAQAP3/DQALAAQADQAKABMACQAdAAQAIAAUACcAIwAfABwAHQAUACEAGgAWABMAGQAJABcA//8QAAgACQAAAAAAAQD9//b/+P/p/+//6f/h/+L/2f/k//D/4f/y/+3//f8EAP//CAAWAB0AIgAeACQANQAqABoAKQATABQAEQARAAcADwAFABwACgAaABEAHwAIABgA/v8TAPr/BwD9////9f/3/wsAAwAIAA0A//8OAAUAAgAKAAIA+f8AAP3/9v8DAAMADgAOAB4AEwAjABgAKAAZABoADAAXAA4AEwAFABUAAAAQAPf/BAD6/w8A//8FAAkA+/8OAAMAEQANABQA+/8KAAAABAD//wAADgABAP3/DwD5////AAD4//D/6//f/9z/3//e/9L/1P/f/9f/1f/a/9v/3P/f/+z/8//q/wwA8P8CAPX/AQD5//z/8//1////+f/z//r/+/8KAPP/DgD//wUAAQALAPn/9f8GAP3/BwD3//7/AgD4//v/AAD+/wMA+P8CAAUADgAGAAYACwD//woACQD+/wMABwD3//P/+//s//D/6//z/+b/9//p/+P/7P/u/+n/8//z//z///8CAP7/9v/5//D/+f/p/wEA9f8BAPv/+v/5//7/9/8JAPj/+P/3/wsA5v8FAPj/8f8AAPL/AADi//j/+//z/+f//P/t/+n//f/8/+3/8//v/wQABgABAAcAEgAcABQAFQAOABQAFgAaABwAHAAYAAwAAQAGAAkAJQARAB8AJAAQACsAEAAZAA8AFgAXAA8AEwAJAAoAAgD+//j/8v8BAP7/+f////j/7P8AAOT/9f/s/+v/4f/f/+P/3P/g/+H/xv/h/9f/1v/Q/9n/4P/p/+//7P/+//j/+P/w//r/+v/3/wEACAD1/w8A5v8BAOr/5P/e/9f/0P/d/9z/5v/o//r/6////+j/9v/1//L/8//y//D//f/w//r/7//5/+v/AQD1//v/AQACAAMA/P/8/wMA/f8BAAcA/P///+v/BwD9//b/AgD+/w0AEwAIABQADQAPAAwABAALAPj/CgD0/woA/P/5/wAACAAGAAIA/v8DAP3/AAD3//3/AgAGAPb//f/6//v/AAD///b/9v/o//P/4P/n/+z/8v/n/+7/2P/1/9f/+P/v//j/9v/6//v/AwD//wwAAwAFAAoADgAHABcA/f8AAAgA9f8OAO3/CwAAAAcAAwDx//f/7/8AAP//AAACAAAAAwAPAAEAGAAEABkADQAPAAoAFwAWAB8AGAAkAB4AHwAvACEALgAeACYACwAjAAwABQD6//z/+f/l//7/8f////H/DAD6/wIADAAKABgAFQAXAAcAJQAPACEACwAbAAsABwALAAcADAALAA4AEAAJAAcACAANAA4AFAAFABUAEwAIABEACQASAP3/CwAFABUAAgAKAA0ABAAAAAAABQAGAP//CAAOAPr/AwD+////EQD//xYABgAVABEADQAQAPn/CgAEAAUABgAAAPz/+//4//r/7v/4/+T/7P/m//D/6P/6/+L/9P/q//X//f/6/xUACAATACYAIQAlACwAKgAwADYALAA0ADIALAAtACQAFwAeACAACQAdAAAABQAIAAYA+v/4/wcACgAJAAcAIwAGABYAFAAKAAgAIgATABQAJQAfACQALQA1ADMANwAkACoAIwAfAA0AGQAGAPX/9P/u/+r/8f/1//T/+v/3//n/AQD2////AgAAAAwACQANAAcAGwAAAA8AAAAGAPf//P8CAPf/AgD1//v/+P/9//b/8//1//z/AADv/wAAAgAGABAA/P8OAAQACQAIAAMABgAFAAAA9//4//T/9f/t//T/8P8AAOz/5P/h/+P/3v/o/97/3P/l/+f/3v/h/+T/7//p//n/8f/w//3//v/x//T/9P/k/+T/6//l//X////8//7/BAAMAAQAJAAcAA8AFQApACQAFwAXABEADgADAP//AAD6/wYA9P/z//X/9//w//b/+//+/wUACQAbABQAGgAUABAADwAEABwACAASAA8AFAAaABQAHQAXABcACAAYABMAGwAiACIAGwAaAAsABAAFAAoAGgARAAUABgADAAAA8/8BAAAABwD8/wkA8f8HAP7/+P8AAAIAEAAMAAcAFgAQAAYAAQD8/wAA+v8CAAwA/P8JAAQABgABAPj/9//5//f/9//5//r/9v8DAAMA+/8GAAMADgD+/wAA/f/u//v/9f/p/+7/5P/w/+f/7f/m//f/4f/r/+//5P/7/+v//f/1//v/+//7//j////7/wYABAAPAA0ACgAAAP7/9f/w//P/+f///+z/AADu//z/3P/2//b/4//1/+H/5P/x//T/7P/1//L/9v/1//z/9/8AAPv/EQADAPj/AwALABgADAALABEAGAANAA0AGAANABEACAAKAAYA/P8DAAMA9f/7/+//6//u//b/+//0//X/AAD0/wkADQAFABgADgAhABUAKAAoABsAJgANABkAEAAQABwAFAAcABgAFAAWAA0AIQAaABkADQASABAA9P////D/6v/x/+b/4P/1//H////r//z/+//y//X/+v8FAPr/8f/+/wEA8P8AAPL/CQD6/woA+v8HAAUAEAAOABEABwAPABQAFgAVAAcACgAYAA8ABwADAAQA/v/1/wAA/P/z//n/+f/9//j//v8AAPz///8BAAcA/v8AAO3////r//v/+//+/w4A+P/3/wkA9/8DAPX/7P/9//T/AAD5/wMA/P8AAPn/+f/o//v/5P8DAOj/+f/q/9j/5v/h/8P/4f/Q/+j/6f/p//D/9P/2//X/8v/4/wAA/P8AAPr/+v/p//f/6P/z//j////9/wIA9f8AAAAADQAMAAAAFwAIABAA/P8BAAQA7v8CAPH/8//3//v/8//+/wUA+f8LAAoAAgAXABkAHQAZACkAKQAfABIAHAAPABwACwAXABcACAAWAA4AGAALAAsAAwD9/wEABAD8//H/9//6/+3/8//o/+7/7f/r/+r/9f/o//z/6f/9//D/BAD7//b/+/8CAPv/+v/4/wEA/f/z/wIA8v/x//T/7P/z/+r/8f/4//L/8f/v/+//8P/2/+n/6v/y//n/8/8NAO3/AwAAABQADgAIACkAEQAfABsAIQAgABwABwATAAUA+//1/93/6//p/+D/8P/k/+7/6v/u//r//f8FABMA//8gAAwAEAASABMAKAAQACMAGgAlABsAGwAcACoAJwAZACQAHwAnABsAGQAhACkAHAAaABMAEAAYACEAHQAVABwAFQANABUACwAZAA8AFQAZABEAIwAXABkAGAApAAsAIAAgACQAIQAjACsAGQAkABgAFQAEAAgAAAAIAAAAAQD//wYACQAFAP3/AQAAAAIAAwDs//D/+P/k/+3/7f/q/+3/7P/z//v/CQADABoADAAnAAsAHwAcAAcAFAAGABgADQAYAAYABQAEABAA+f////3/BgAAAAgAAwARABIAFwAFAAsACQAVAAQACwD+//f/7v/3/+7/9f/4//z/5v/u/+//+//2//3/EgDz/wIAAwAFAP3/CAD9/wQABAD+//T/8v/5/+r/4//r/+z/+v/y//n////v//b/7f///+z//f/o/wAA8f/x//b/+v/9/w4AAAAeABYAJwAhACgAJQAgACgAJQAtADEAIQArACIAHwAjABIAHgAOABMACQAOAPT/CAAFABYA9f8VAAsAFAAZABEAFQATABgABAAFAA8AHAD8/wwACgAGAAAAEAARAP3/DQAPAAoAAwAAAP7/7v/q//D/6//u/+f/6v/p/+r/2P/m/9z/7P/l/+3/7//p/+z/6f/q//D//f/y//f/8//t/+//6//0//n/9v/y//L/8P/2/+X/5P/i/+//5P/b/+j/3f/r/9H/1//r/9//8f/n//L/7P/1//D/7//r/wMAAAAKAPr/CQD8/woAEgAHAP//9f/7//D/8f/o/+r/6//0//D/+f/x//P/9P/5//b/9P/x//f//v/7/wEABgD6/wQACQAJAAgAEwAVABEABgAVABcAKQAhABsAGQAfABEAEAAQABUAHQAOABIABgD7/wEA8f/y/+P/8P/r/+z/3//o/+3/6P/+//b/+f/y/wgAAgD7//n/+f/9//f/7//3//n/+f/5//7/8v/3/+z/7//0//n/CgADAAYA9/8AAPz//v8GAAQAAAD+//3/AwDx/wEAAAACAP3/BgD+/xcAJgAXACkAEgAkAA0AHQAaAAUAAgALAPX/AwD6//3/AQADAA4AEgAYACEAIgAvADMALAAhAB4AKQAZAB8AEQAgAAIACAD3/wQA+v/2//f/8v/t/+//8//w/+3/5v/7/+//7v/9/wcAAwD6//7/+//x//H/6//3//r/CQAFAAIAEgAHAAoACQAFAP3/FAANAAsAFwAKAAsA/P////X/BAAAAAcA/P/9/wcABwACAAsADwAIAPr/EwAQAAEACQD9/woA+v/z//b/+//1//r/7v/u/+r/+f/t//r/7//1////9v8BAOn/8v8AAPv//f8JAAAA8/8AAPb/AwDx////5//2//P/AgDy//f/AQD7//r/+f/5//L/6v/z//L/6f/3/+z/+P/i//T/6v/5//X/+v/z/xAABwAGABEADQAUAAYAJgAQABsAFgAsABkAIgAOAB8AFgAOAA4AEQAPAAMAAQAFAPz/+P/9////AQDz//L/8//u/+T/7/8CAP3/9v/y/wkA/P8TAA0AJgAYACgAHwAkABkAKAAtACkAHQAzAB4AMQAaACgADgAeAC0AJAAdACYAGgAtABgAHwAdABYAEQAOABMAFAAMABUADAAGAAcABgAKAAEACQACAAAAEAAPABAACQAMABQACAAFAAoABQAVAAwACwAMAAIA+/8AAP3//P/z//D/5//w/+j/6P/t//f/+//o/+3/6f/x//P/AwD///D/9P/z/+z/5//t/wAACwD6/wAAAwAQABoAHAAZAB8AJwAoACQAGAAcABEAFgAAAAkAHAAgABkAFwARABIADwAQAAEACgAAABAA+f8NAPj/AwD5////+v/w//P/9v/3//3/9f8MABEADAALAAMABwD6/wAA/v8JAPX/+P/4//L/8f/q/+P/4f/m/+r/+P/u/+3/AQDv//z/BgAAAPr/+f/9/wEA+//1//P/7//x/+v/9P/u//L/6P/a/+n/3f/b/9r/3P/e/+X/4f/t/+L/6//r//D/2f/x//P/8//k/+f/5P/0/93/7//r//v/9//4//H/+v/1//7/DQDy/+j/8//m//b/5//1//H/8//+//z//f8FAAIACQACAAUABQAGAAcA9v8DAPb/AQD5//f////9/w8ACAARAAgAEQANACYAHAAdABcAIwAUAA0AEAANABAA9/8TAAMABAAAAAwA+P8AAPj/+P8AAAIAAQACAA4AEAAAAAgAAAAMAPr/AAAFAPP//f/9//D/+//5/wcADwAEABYAGAALAB0AFgAeAAsAHwATABQAJgANAAoACwALAP3/BwAJABUAFQAhACIAEwAgACAADgATACMAGAAaAAsACwAHAAYAEAAGABsAFgArAAcAHAAOAB0AHQAQACAAFwATAAgAFgD//wYA7//n/+r/5v/j/9H/1P/c/9L/zf/W/9b/4P/l//D/8f/6//L/BAD+/w4ACwAJAAYAEAAPAAQABwAFAAkA+P/8//X/AgD3//n/AAD7//H/9f/v/+z/7P/V//r/5v/i//j/+v/q//n/8/8IAAAA/v8NAPz/DQAVAAsADAAYAA8ADAALAAsAFwAZAAEAEAD//xgABQAfABIAIgAQAB8AGAAdABEAEwAZACIABAAYABYACQAGAAUA+//6//v/9f//////EQASAA8AKAAiAC0ANQAkACcANAAbACUAIAAjABEAEAAAAAIAAQAFAAgA/f8LAAgACQAFAAoACQAWABkAHgASAAwACwAJAAgAFAAGAAsA/v8BAAQA/P8DAPT/BwD+/wQAAAD8/w8AAAAFAAAA+v/6/wQAAAD///D/7P/q/+z/+P/w/+b/9P/6//P/9v/0//n/9P/7/+7/AADt//P/5v/q/+b/7f/e/+T/6v/w/+T/5//b/+P/zf/r/97/6v/n//D/5//l/+//7f/4////AwAAAAgADQAVAAIAEwAIABQAFgAAABMAAQD4/wMAAAD8//P/8//3/+j/BwD1//3/AgAJAAAACQAOAAAAFwAKABYACAD+/wAACwAOAAEAFwAQABIADwAJAP7/EgADABAAAgARAAwAFgAWABcAGQAQAAgAEQD6/wIA/v8AAAkA//8FAAgAAgAEAP//+P/2//v/8//w//3/+P8AAPb/7//8////AQD3//H/9v////P/8f/1/+L/6P/g/+H/8P/c//f/8v/5/+v/9v/p/+3/4P/b/9n/3//d/+3/7P/1/+v////+//3//P/z/wMA6//0/+3/9//8//7/DQAAAPz//P8FAAIAEQD8/wYA///q//T/9v/0/+//6f/q//H/6//6/+//AAABAP7/CQAMABIAFAAcAB8AHwAVABsADgAXACAAFgAYAAkAEQAIAAUAAQAMAPr/CwAGAPX/BwD8////+v8EAP3/DwAJAA8AFwATABEAFQAEABoACwD//wcA+/8HAAwADQANABYAEgAIAAkAHwACABUAAAAUAAcABwAOAAUAEgABAAIACgASAAcAFgASABEADwAKAAgADwALABQABQANAPL/AAD5//b/+f/0/wkAAAAAAP3/AAABAPv/9//+/xIA/v8JAAQAAQADAAIA+/8PABQAAgAJAAcADgADAAwABgD//w4AAwALAAgAAAANAPn/AAD9/+3/AwDv//7/8P/x//D/7v/4/+P/8//w//L/+v8JAPr/AwAJABEAFQAKAA8AAAAGAAsA+////wEAAAD9/wAAAQAAABAA+P8DAAYA///8/wsA/v8GAO3/AwDy/wEA8/8CAPj/8P/1//D/AAD7/wcADQAGABQABAAgABcAGwAmABwAHQAXAB0ADwASAAYAHgD6/wIA9v8HAA0A9f8QAPr/AgAHAAsACAAaABUAFAAVACUAEgAgABwAKgAjABoAHgAMABgAFgALAAMABwAGAAUACAANAA4ADAATABEAAgD9//j/7//y//H/6//t/+H/8f/k/9//3P/f/+r/+P/q//T/AAD3/xEAAgAIAA4AEQASAAYAEwD1/wAA+v/5/+//6//w/+3/+f/y//T/9/8BAP7/AwAAAP3/9v8FAAYA8/8BAO3/9f/t//T/9f8AAPj/CgAFAAoA/f8IAAcAGQAKAAsADAAHABcA//////P/9v/z/+3//f/r//n/6//8//D/AgD9/wEABgAMABUAFAAZABAAFAASAB8AGwAXAB0AGQATACkADwAaAAkACwAHAAQABgAWAA4ADQAFAAQAAAACAPr/9v/7//H/4P/3//X//////wwA9v8HABEAEAATABYADgAfABQAFAAGAAgA9f8JAAgADQARAAwACQAJAAQABAAFAAwACwAKABIAEwAWAAkADAAJABIADwANABAADgASAAMADgAPAA0ADgANAA4AEQAPABAADwASAAIAFQD//wAABAAKAAAABwDy//3/AQDv/wAA9f/w//L/9//4//j/AAD6/woA8P/4/wMAAAAPAAAA/f//////+//9//H/9//1//b/9P8AAPb/CwD2/xMA//8TAAoAGQAcACQAIQAqAC8AHAAUACAAAQAZABYABAALAAgAGQADAP//AAAXAA4ABAAMAPf//v/+//X/4P/k/97/1P/i/+f/7f/t//L/2v/r/+3/6f/z//b/9//r/wIA+f8GAPv////y//P//v/z/+v/6f/b/+3/4f/j/9T/4v/d/+D/4//p/9T/1v/c/+P/4//X/9P/8P/e/+z/9v/0/+T/7v/i/+7/6P/6//D/+//y/wUABwAGAAIAEQAIAA4AFgARABEAFAAMAAIA8P/9/+7/9v/z/wUA9v8HAPX/EwAKABUAGwAUACYAJQApACwANgAzACsANgAmACUAKAAgACYAEgASAAEACQD//w8ACQAKAP7/DAABAAwAAAAEAAUA//8VAA4AGwAOAB0AEAAEABAABgAWABYACwARABgADAArAP//GQD9/wwA9/8FAP7/DAACAAIADgD4/w8A9v8FAPn/AwDv//3//P/8//D/9v8DAPn/8/8BAPj/+P/+//b/CQDp/wMAAAD2//H/6P/v//T/7f/r/+r/5v/w/+//9v/8/wYA+f8LAAsAAgD6/wMABgACAAoACQABAP//CQD3/+X/7P/m/+T/6//n/9v/7f/l/+7/6//+//j//P8IAAAA/f8OAAQACAABAAoA/v/0//D/8P/1//f/8f/5//L/AgDu//n/+P/w/wwA9f/6/+f/4f/X/93/1v/a/93/4//v/9X/1v/Z/+z/4//s/+3//f/1//D/+f/n//v////2/wUAEAAMAPr/AAALAPX/+P/7//z/9v/6/wUABwD9//L//P/p/+T/7f/o//H/4P/j/97/2//a/9L/5P/a//f/7v/y//H//v/8/wEAHAAKAAgA/f8IAP///P8CAP7/AAD7/wIA+/8DAAAAAwARAAwAEwAMAAAABgD8/wAA7f8AAOf/+v/x/wcABAAOAA4AEgAUABoAHwAXACAADQASABkAIQADABYA/v8JAPT/EAADAAMA/P////f//v/1//P/AwAAAAMADQAYAAsAEAAQABcADQAUABYAEwAQAB4ADgAEAAUAFgAMAA4AAAAXAAMADAACAA8A/v8RABAA8/8YAAwACgALAA8A/P8RAAMAEwAPAA4ACwANAB0AEwAUABIAFwAWABEAGgAHABEACQAAABEA/P8IAP3//P8KAPb/+v8BAPr/9f/2//3/+/8GAPb/BwD1/wQA/f/+//n/9//6//b/BQD6/wcADQAJABoAJAAmAC0AJwAsAC4AHAArAAwAAAATAAoACgD0/wAAAAD+//f/CwACAAYAAgADAPn/BgDx//z/+v/x//b/8v/y//f//f/5//f/BgD7/wcACAAQAAkABAANAAgACwAAAAMA+P8DAO//+f/v//T/6//4/+//AgD+/w0ABAADAP3/BAD//xMAAgAcABoAGwAaABQAGAAWABsAFgAaABQAGwAfABEAEAAaABoAHgATACUAFwAfACQAJAAlAC0AFAAqAB0AJwAUABgACAARAAoABwAAAPP/+f/s//L/8v/w//X//f/1//n/CAAGAPn/BADy/wQADwABAP//AQD8////+//+//T/CAASAA8AFwANAAwAAQAJAB4ACgAUABMAIAASAAEACAACAAYA+/8DAAAADAAMAP//CQAIAAsACAACABcACwAXAAEABgD6/wEA+//r//P/7f/4/+r/7//n/+P/9f/q//j/7f/o/+r/7v/h/+T/4P/o/9//3v/f//D/7v/7/+7/8v/v//3/9v/7/+7//f/w//P/AwD2/wAA7P/t/+H/9v/u//H/+f/3//n/+v/7//n/8v8FAAAABQD0//3/8/8AAAIACQAIAAAAAQACAAIABAABAAAABAD3//j/8P/2//T/8v/0//H/6f/5/+3/+//2/wUAAAAbABUAGAAbABUAEwAbABEAHQD//xUA/v8HAAcADwAAAAgAAQDz/wAA7//7/+//6P/m/+D/2P/U/8b/zf/P/+D/4//x/+n/7//p/+T/6v/u/+j/9f/n/+T/5v/r/+b/7//u//3/AAD9/wkACAAVAPz/8f/9//j/CgDx//3/9f/4//L/5//t/+z/5//c//b/4P/o/+T/5P/f/93/2f/o/9f/7v/n//D/7//x//r/CQDy/wYA/f8NAAgABQANAAoA/v/+/wIAAgADAPz/8//5//v/8f/r/97/5f/s/+z/2P/n/9v/2P/a/+P/4/8AAPD/CAACAAgAEwAUABgAIgAWAB8AKAAQABwAGQAZABsAIAAgACMAEQAVAA4ADwD+/+3/9v/0/+j/8f/c/+b/0v/h/9n/7v/u/+j/5v/y//r/7v/7//H//P/7/wUADQAAAAwABQACAAwACgAFAAcAAAAHAAIACQALAAgABgD+/wkADAAEAAoABAASAPv/BgAIAAIABwAEABAA/v8CAAcACQD7/wUACQAHAAUAAwAAAAAA/v8HAO//+//0//P/8f/1//H/7//5//7/EAD4/wAAAwAAAAAA9v/6/wQABQABAP3//v/6//T/7P8EAPb//v8EAP//AAD2/wIAAAD+/wQAAgAJAAkACQAMABAAGAANABIAEAASAAkADQANAAcADwATABsACwATAAsACgAHAAkAFAAHABIA/v8GAPz//P/8//r/9v/9/wIAAQD8////+v////X//P/6/w8AEQAGAAQAAAATAAEAGgAGABMA/f8CAPj/AgD+/w8ACQARAAwABgAUAA8ADQAXABgAFwAhAA0AGwARAB8ADQAIAAQAAAD+/wgA/////wAAGgAJAA8A/f8aAAIA9v/8//b/+P/4//T/9P/p//H/7v/o//L/5v/2/+v/6P/4//z/9v/6/wAAAADv/wwABAAOAA8AAAAFAAYA7v////X///8HAP7//P8BAAoADQARAAoACgAXAAcADAAKAAUABgD//woA/P/5//v/9/8HAPv/DQD7/wUACgACAAUABAAJAAsAEAAfABEAEwAdABYAGgAWABcAMQAVADkAFAAeABkAIgAVACQAIgAfABwAGQAUAAUAFgAEAAwAAQAJAAYA+/8HAPP/AQAKAAwAAQAZAAEACAD2////AQABAAcACgAEAP7/FgD6/w0AAgDz/+n/9//n/+v/3//k/+L/2f/c/9b/4v/h//L/5//1//z/AAD+//7/BgAAAAAAAwAOAAIADgAOAA8AKQAeACAAHgAXACQAIgAkACIAGQATABkAGgANAAQA/f8VABAACwAXAA8ABAAMAAMADAD9/wwAAgAEAAgADgARAAgAEAATABYAFgARABcAEgAFAAIAAgAFAPz/DQAHAAsAFQASAAkACgAGABAAAwD//wYA8v/z/+z/9f/l/93/7f/k//D/6f/j/+L/6v/n/+L/6P/6/+T/7//w//n/AwAEAA4ADgAQABkABgAKABMACAABAP7/CwD7//j/AgAEAAQA+/8EAAIAAAAJAAcABwACAP7/9v/w//D/6v/w//v/AAD1//n//v/4//n/AwABAPD/AAD6//3/8v/y//P/8P/x//j//f8CAPP/CAD3/wMA8f8EAO//9f/w/+n/8P/s/+P/9P/a/+z/8P/s/+L/9f/l/+X/3v/k/+j/0v/g/9r/3v/i//D/8v/2/wAABAD1//r/BQAAABIAGQARABEAEQATAAsAAgANAAUA/v/z/+n/4v/f/+H/1//S/9z/0v/b/9b/5v/m/+X/6//9//j/6/8AAAEA+f8DAAMAFAAHAAwA+v8DAAIA+/8DAAAA+//+//z/+//6//D/9f/4//T/8v/6//L/8v/y/+//9v/y//X//P/w/+//+P/0/+3/7//o//P/7P/v/wEA8//7//v/+//p//H/9v/3//7/8v/7//D/9f/z//P/8v/t/+//9v/1/+z/AgAAAP3/6v/x/+z/6f/u/+P/6v/Z/9X/yv/V/8P/5v/U/+7/3P/q/+b/5v/0//P//v/y/wQA9f8IAPr/+//z//v/4v/a/+D/3//f/9z/4P/h/+//6f/5//H/9f/1/wMAAAAXAP7/DQAJABoAEgAWAB8AFgAeABYAEgANABEAGQAQABsAFwAdABgAGwAUABkAGQAQACAAFwAmAAwAFgAMAAUADgANAA4ADQAUAA0ACQALAAkACAAVABkAIQAcACIAGgAXAAYADgD9//b/9f/p/+7/9P/v//7/+f8BAPr/DAAGAAkAAwAJABcAHQANABUAEgAMABAAAgAQAAUACgAQAAoADwAQABAAIAAXABQAEQAXAAwAHwAMAB8AIQAgACMAHgAmACgAHQAiABYADQADAAgA+v8IAAIA/f///wsA///7//X/AAACAPb/BQD9/wcAAQAGAAYA//8DAAAAAAAPAAIAGwAFAAcABgAEAPf/+////woA+//7//H/8P/l//j/9P/t//X/7//x/+3/+//w//b/+P8MAPj/CgAGAPf/+v/u//7/9P/+/+7/8//p/+n/9f/h//n/8P/w//T/+f8BAAAA+/8AAAAA8f8CAPD/8//2//v/+P/x/wUA//8IAAkAAAAIAAAAAQABAAQACAD1//f/9P/7//z/8v/z/+j/5f/s/+//5//v//P/2v/m/+j/5//l/wAA9f8LAAQAEgAcABwAIQAUABAAGQAXAA4AEQAWAA0ACgAPABAAFgAQABMAHQAKAAwAEQAPAAYAAQD//+X/4v/o/+D/6P/p/+j/2f/c/+j/9f8AAOT/+f/t/xYABwARABgAHgAXACkAJwAgACAAJgAaABIADwACAAgACQANAAYA+P8DAAYABwAQABsADgAeACMAIQAeABsAEAARAAYABgAHAAUAEgAYAB0ADgApAAwAFAAjACMAKwAcACkAJQAlACMAJAAhACkAHwAXACAAHgAaAA8AAAACAOz/9f/l/9//3f/n/+H/3P/a/9z/5P/h/+//6f/p//X/3v/q/9j/9P/X/+//4v/f/97/4//f/9z/9v/w//3/6v8FAO7/4v/k/+D/2f/d/9n/2v/a/9H/0//X/9L/4f/a//H/3v/u//X/6v/7//P/9v/3/wcA/P8GAAcA+f/v/9z/3P/H/8b/yf/W/8r/0//L/9v/1v/d/97/8f/f/9X/5f/a/+L/4v/n/+n/7f/2/+r//f/2//7/8v/3/wEACQAIAAMACAANAAcAFwAQAAoAAAALAAgACQD5/w0AAwAPAB0ABAAhABcAJgARAAwABgASAA8ACwAJAAMADQADAPf/AgACAA0AGwADACQAHgAxABMAKwAWAC4AJgAhACEAHQAbABEADgAEAAQA+P8JAAcAAQABAP//8//9/+//8/8BAPj/AwD1//r/AAD3/wEAFQAKABYAIAAZABQAKAAfACwAJAAlACYAKQAXABUADQAKAA8A/f8BAPH/7v/p/9T/3v/X/8//3f/P/+b/2f/p/9//4v/n/+b/8P/q/+P/6/8AAAMAEgANAB4AHwATABwAEAAeAA8AIAACAAsA/f8KABUA/v8JAAEADAAIAP3/BwADAAYA///4//v/AAD///L/8//y/+3/8f/4/+7/8//k//D/6f/0//L/+P/2//j/AgDn//j/+v/+//n/7//0/+f/+//l//H/8P/k//L/7P/3//b/AQAIAA8ADAAJAAMAIQAaAAwADgAIAAgAAwD6/wIADQAMAAwA/f8AAAkA+P/9/wUA//8JAPn/DwAEAAgACwAJAAgACgAVABAADQAbAAYAEwD0/wAA///5//3/BwAMAAQABgAHAAYACAD//////P8HAAAAAQANAAcAAwACAAMABgDx/wkA9/8ZAAsAEwAJABcAGAALAAoAEwAUABQACQAQAAwACgALAPX/CQD2/wIA///z/wMA7v8AAOL////6//3/6//9/wAA8f/y//H/7v/h/+j/3f/i/+X/4f/u/+j/6//1//7/7v8CAP//AAD8/woABAAIAAYAAAAIAAkAAgACAPX//v/3//f/8/8AAPn/9//z//7/9P/5//f/AwDy/wAACQAKAAYABgAGAAYA+/8FAAAAAAANAAYACwALABQADAANAAwABwD9/wYA+/////3////2//P/8f/u//f/7P8AAP//DgALAAsA//8GAPz/+f/4//T/+v/y//7/6f///+//5//w/93/5f/c/+D/4v/h/+v/9//1//f/9v///wAAAgABAAMA/P8MAAMA+v8AABEAAgAGAAIA/P/6//z/8P/u/+r/6f/p/+P/8f/x//P/5v/0//f/AAD+/wMACwATAAoADgAZABkAGwAcABkAHwAWABoAFQAIAB0AEAAVAAUADgAIABwAEAAQABAADAD+/xEAFwAWAAQAEAALABIAAwAOAAwAFgAYABsAKQAZAB8AIwAiABkAGQAaAAAACAADAAcA+f/2/wAA+//5/+v/8f/1/wEA9f/2//f/+P/6/+n/+f/z/wQA/f8WAAkAFgAZABIAAAANAAAA8f/t/+j/+P/v/+n/9v/5//3//f/p//f/8P/1//L/9P/2/+//6f/s/+H/8f/x/wAA+v8AAP3/+v/u//f//v/t//X/6//0/+7/5f/q//X/6f/m/+v/5//c/9j/3v/f/8j/4P/W/+n/6v/w//7/+f8AAAEABAAGAAsAAAARAP3/DwD//wQA+f8NAO7/CgD6/wYA/f8QABgABgAcABcADQAZABwAFQAQACYAGwAUABoABgAHAPf//P/0/+3/9v/3//f/9v/3/+X/7////wAAAwABABwADgAMAAwADQAKABEADQAGAAgABwAVAAgADAAMAAoACgAFAAQACgAMAA0AGAAGAAUAAgABAAcACAARAAgADgAOAAUADgDy/woA+//7//b//P/x//b/9//z//v/8f8SAOr/+P/5//L/4//o/+v/5v/d//f/8P/w//b//P/6/wYA9/8CAAMA///5//b/+v/t//T/5P/6/97/7//k/97/0v/h/9r/2f/d//D/6v8AAAYADQASABcAEwAYAA8AFgANABsACQANAP//AQD1/wUA//8DAPv/AAD//wcABgAFAP3/AgDw//D/7//3/+3/8/8AAP7/9P8LABUAEAAQAAUAFAAOAPb/EQAGAAYA/P8HAAoAAAADABIABQAGAA8ABAD9/woA//8EAAAACgD5//3/BQD9/wcACwAmABUAFgAWABQACAARAAYABgAGAAMAAQD6/wUACAAPAAQAEAAPABUAIwAVABEADAADAPj/BgD1//r/CwACAA4AAAANABAACQATAAkABwANAAgAHAANACMAIAArACQAMgAOACUAHAAaABQAGgAgAA8ABAAAAAAA+f/0//f/+P///wAA//8PAA8AFwAQACUAHAAnACMAIwAkAA4ACQABAAIA+v8HAAcA+/8AAPj//f8AAAQAEgARABsAGwAcABIAEwAcAB4AHQAYAAsAFQAEAAsAEwATABMACgAdABMAAgAGABQAEwAHABkAEAARAAwAEQAOABUABgAXABUADgAUABMAKAAUABMAEQAPABMAEAAXAAkACgAOAPr/AwAAAAIAAAD4/wAA+P/7//b/+f/0/wAA/v/8/wEAAQD//wIA+f/y/wIA8P8CAPv/+P8BAPH/+P/v//L/6//p/+//4P/d/9//4v/k/87/8P/c/+n/9f/x/+7/8P/v//T/8P/q/+n/5f/3/+T/7v/s/+v/8//p/+3/4//o/+v/8P/u/+j/6//j//j/7f/2//7/8v8PAPv/9f/x//7/BAD0//3/BgD8/wEA8//9/wAA+/8SAPb/BQAKAAkAAAAMAAwA+f8BAPz/DQDz/xkA/f8MAAAAAgACAAYACwAOAAUA//8CAAIA/f/+//3/5P8DAPL/BAD+/wUABgAOAAsAAwAKABkABQAHAAAACwAEAPL/AAD3//3/9f/5//H/7P/w//z/9f/r//r/9//w/+n/9f/o//b/6v/y/+v/5//X/+r/5f/t/9D/7f/p//T/8f/5/+b/+v/7//j/6f/o/+3/7f/g/9X/5f/m/+T/1f/h/+X/6f/w/+3/5v/v/+f/5P/n/+D/+f/f/+j/8//e//v/7P/8/+j/AADn/wAA/P8CAAYA//8AAAEABAAAAAQAAAAMAPf/AgD6//b/7//2////+P/0/+//8//r/+z/AAD1/wAAAwADAAgA+/8CAPr/9v/6//f/FAD//wYACwANAAEACAAPAAkACQAKAAwADQAEABQADgARAAMAAQALAP7/FgABABkABAD8/wgA9P/2//f/+v8MAPz/AwADABIAIwAbACEAIQAvACoAIgAiAB4AFQAfAB4AGgAWAB0AAAAMAPv/AAACAPr/+v/9//7/8//9//j/+P/+/+3/3v/n//P//f/s//P/7P/c/+f/7f/m//L/8//z////8//6//j/AQAMAO3/AQDq//b/7v/q/+n/5v/y/+r/7f/8//f/+P8HAAIACwAPAA8AEwAYACIAFwAcACEAFQAWAAkAHgAWACEABQAQABkADgADABwAIwAeABoAGgANAB8ACwAfAAoAGwASABAACwAhAAUAEwANABYADAAXAAoAEQAcABUAEwAXABIAFwAAAAkAEQADAAIAFQAPAB8AEgAcAB4AEwAOAAgABgAAAAAACQD9////9/8DAAQAEwAJABIAAwABAA8AAgAFAP//AwAFAAcABgAGAAMA/v8LAP3/EgAKAAIAAwD0//r/+P/+//v/9//2/wEA+f8AAO//+v/y//v/7f/f/+H/8f/e/9b/3f/q/+r/6v/z/wUA+/8PAP7/CAAJAPX/+//w/+f/+P/j/wIAAAAFAAAABwAFABUAEQAZABQADgAQABoADgAVABAADwAEAP7/CQABAAYADQAhABYAHgAWACIAGAAZABsAFAAlAB0AGwAYACoAHQAnABoAFAAlABkAHQAcABAACAALAA0ADQAOABMAFQAJABUAAwAUAAgAIgAMAB0AFAAGAAAAAgD8//T/+//3//v/BwD2//r/7v/5//H/+//5//T/9f/x//L/+v/w//z/+v8BAAEABgAVAAUAKAAPAB8ADwASAAwACQASABUAFAATAA4ACwAFAA4ACwACAPb/AAD5//X/AADz//3/8P/z//b/BQADAAwADQD6//f/+f/8//n//v8AAAUAAAD2/+r/8v8JAPj/CwAIAAIACAADABEAGgASAB0AGQAOABEAFQADAAAA8P8AAPH/8f/r/+z/9v/h//T/+f/6/w4ABwAdAAwAFQAQABUAFQAWAAcABQAAAP//9/8BAPr/DAAUAAwA/v8JAAgADgADAAcAAgAJAAQA//8JAAoA+P8EAPX/BgDm//L/7f/y//f//v/4//D////y/w4A+/8FAAMABQD//wAA+v/6//H/5f/7/+r/CAD9//7/+P/9/w0ABgAcAAwAEwATABoA+f8GAP7/6P/s//D/7f/g//D/6//w//D/9//0////8v/x//H/8//7/+v/+P/0//L/+//+////AAAKAAAA8v/0//j/5P/q/+b/9P/s//j/4//s/+X/8v/x/+//9//5/wIA9P/q/9v/5P/K/9X/3P/U/8//4P/R/87/0P/C/8L/4f/G/93/2f/s/9j/8v/3//b/CAAEAAcABgABAP//BQD4//v/BQDw//L/5P/u/+P/6v/z//z/8v/6/wAA/v/6/wEAAAAQAAEACAABABAAEwAJAA4AHgAUAB8AFQAjAB0AFwAdABsAFAAVABkAHQAXABQADgAdABIA9/8MAAAAAwACAPz/7f/7//3//v///wAAAQD+/w0AAgD///f/BwDr//n/8P/3/+z/AAADAAQADAAQAAgAAgAGAAYA+f/+/wsAAQDu//X/8v/c//D/4v/0/87/1//T/8//2v/N/9f/yv/f/9j/2v/m/+z/9v/x//z/+f8GAP//BQD+/wgA/v8DAAcAEwALAPr/AgDz//n/7v/1/+T/9v/i/97/1f/d/+T/8//r//H/+P/5//r/AQAAAPv/CwADAAYA/f8JABEAEAAYABoAKQAsACIAHgAaABgAHQANAAcAAwABAAYA/v/7/+3/CAD9/woACAATABYAKAATACcAEwAjACEAJwAVABcABQAWABgADwAWAAIACgAMAAYA/////wcAAwAAAPz/CgAGABEA+v8QAP//DAAXABEACgAJABYA/v8FABAADAALABAAEQAEABAAFwAXAAQACAAJAAAA/f8CAAkAHAAJAAgA//8RAAIACwD//wwABAADAAYABQAIAAsABgACAPb/9//9//n/+/8AAO//+/8AAAoADwABABUA+P8AAAgADwAXABgAFQATABUADwAYABcAJAARAAoAGwAIAAoA/v8MAA8AEwAQAAsAFwAbABIADAAhABQAGQAZAC8AIQAfAB4AJQAhACQAMAAqACUAIwAxADgAJQA3AD4AMAAtADIAMwAjACEAIAAgABMAHAAaAA0AFwAVABwAEAAiABYACwAOABYAEgAGABIACwASAAoADwAWAAYAAgD9/xUADwANABEABAAZAP//DQACAAwADQAGAAsABgAEAAkADAD9/wIA+f/9//n/8//4//P/7P/v/+j/7v/z//r/+v/8//z/BwD1/wgA8v/9//b/BgDz//7///8EAO7//P/5/+r/8f/t////+f/w//7/4f/s/+H/8P/h/+v/9P/y/+f/5v/6//H/EQALAPz/DQD8/wAADAAOAAAAEQD6/xQAAgD2//P/+v/r/wAAAQAHAPv//P8BAO3/+v/m//7/4P/v/+3/2v/2/+b/7//6/wUACwAOAA8AEAAPAA8AGQAZABEACgASABYA/v8GAAUA+f8KAAAAEAD3/w0ABwACAAcABgARAAsAAgACAAYA7f/y//b/8f/1/+z/7f/t/+7/5P/n/+X/7//Z/+L/5P/d/93/5f/i/+T/8v/v//X/9P8CAP7/AQAHAP7/AAAJAAQAAQAXAA4ABAAIAAMAAAD5//T/8v/5/+//7f/s//n/9/8CAPD/CgDy//j/BAD8/wMABAD5/w8A9f/u/wAA+//w//n/9v/8/+H/6f/v//T/9/8AAO3/AAD1/wUABQALAA4AHQAZACAAIwARABkABgAPAP7//P/8/+X/8//1//D/AAD9/wcA///w//n/9//4//j/AAAAAPP/AAD2//r/9v8AAPn//f8AAAcA+//7/wAA8v8GAAkACAAKAAIAEQABAAMADAAGAAMABgD2//7//P/v/wQA9//2//n/AAAHAAQAAAD3//f/+v/8/+//8//9//L/+f/o/97/5//p/+//5v/s/+v/6//3//3/6P/+//P/AwAAAPr/AQD//wEAEgDo//3/DgAEAPj//f8CAAEAAQAAABAACwAKAPz/EgADAA0A9v8EABIABgAFAAYADwAIAAIA+v/6/+7/5//0/+//9//z/wAA+f8LAAgACgAkABUALAAQAB4AIAASABEAGwAUACUACgARAAAAGAAEAAcACAAMABQAGQAUABgAHQAjACwAKAAwACQAJgAsACoAKAAsACcAEwAkABEADgACAA0A+v/9/xcACQAHAA8AEwAfAAAAGgAVABYAHAAQAAcADQD8/w8AEgABAAkABAD+/wEADQASAP3/FAAOAAwAHgABAAUABwAKAAEAFADu/wIAAQDy/+7/8f/+/+v/+//x/wIA+v8VAAoADAAXABMAFAAJABgACQAYAAMAFAD7/woA//8PAA4ABQATABIADwAAAA4AAAASAAgACwAKAAMACAAIABMADAAMAAYAEAD9//j/+f/s/+7/9v/r/+D/8//0//P/9v/9//D/AAD0/wQA+v8EAPj//v/7/wAAAADy//z/+P/y/+3/6//2/9z/5//u//3/8//+/wYABAD6/w4ACgASAAcAHwAKAAoAHgAPABQAEwAhAB0AIQAbAB4AGwASABYAEAARAA4AAgADAP3/BQAAAO7//f/3//f/8P/y/wAAAwDx//T/9v/u//v/+v////7/7f/4//X/9v8NAAAABAAMAA4ABQDz//7/9//7//T/7v/1/wAAAwDw//7/6/8BAPX/7/8AAAUABQAAAAEACAAdABAAEQAgABMAAAD8/wIA9f/x//P/6f/i//L/3//5/+P////s/+X/+P/3//f/9v8CAAEA/v8IAA8AGgAbABsAKQANACEACgAXABYAEwAbABYABgASABEAAwADAAEA4P/+//L/5//w/+j/6v/l/+3/5f/v//H/+f/3//H/AAD+/wkAGgASABQAEAAXABgAGgAUAB4AHAAfAAcAIQANABAAHQAJAAwADwASACEAFgAkABEAGQAUAAsAIAAJABIAAgD//xMABAARAAsAEwAMABEADAAPAAsAAAD7//j/8v/g/+T/4//w/+n/+P8AAPr/9v/0//X/9v/4//j/7v/x/+r/9f/l/+v/9P/6/+7/2//k/9P/7v/g/+v/7P/o/+j/6v/n/+j/6//l/+f/8P/g/9j/6f/f/+v/2//k/93/3f/m/+3/6//v/wQA+/8SAPn/BQD7/wIA9P/m//X/9v/9//D////8/wcA/P8AAAwABQAJAAkA/P8ZAPr/FQD8/xcABgADAAIA//8LAPD/9//i//b/2//i/9H/4v/b/+T/2f/p/+n/7//p//T///8BAPf/AgAEABAAAAADAAAABwD//wwAAQAZAAoAGgARABQAFAAbAAYAFgAJAAYA+f/7/wMA9v8DAPb/AwD//wMAAwAEAAwADAAMABkAEgAaAAQACAATAAoABgANABUAEgAIAAQADAD8/wQA+//x//r/+/8AAOr/9v/5//z/9//7/wYADQANACUADAATAA4ABAD3/xEAEAALAAQAHQAKAAsACQATAAgACgAUAAYAFwAQAAoABwALAAIABwAAAAMA/f8KAAQADQAUABAAIgAWACQAJgAUABkAEAARAAgABgAIAPj/AQAHAAQA9P8AAPX/8f/q//z/+P8DAAMAAAD6/woABAAUABgAEwAWABUAAQD+/wQA/P8AAAAA//8EAP//FQD4/wIA///3//j/3//4/+T/2//w/9//7P/t//3/BQAAAAEAAQAFAA8AAAAIAAsAGAD9/wIABwD0/wAA/f8OAPf/BQANAAUA/f/+/wgABgALAA4AFgAQAA8ACQAQAAIACgAIAP//AgDx//H/8P/w//D/AAD8//f/BQD2/wwACQACAPT/BAD4/+z/CQD6/wcA//8RAAQA9f8AABMAAgABAAIA8f/1/wMA5/8DAPT/DgAGABQADAAUABUABgAGAA0AFgARAA0ABQAJAPj//f8MAAcAEwAPABYABwAIAA4ADQALAAUABQALABQAFAAjAB8AHwAZABQAEAAOAAYA///1//z//f/2//D//P/3/wIABgALAAsADgAOAAoADQAMAAQAAgAPAPr/EwD2/wYADQANABIABwD9/xEA/P/w//n/+f/y//D/+P/s/+n/6//v//b/6v/7//L/4v/9/+j/8//9/wMAEQACABYADgAWABEAHgAWABkAFAAaAAwAEAAJAAsAAAD4/wMA/f8AAPj//v/+//v/AAAJABQAHgAhACsAFAAnACIADQAcABAA/v8GAAAADgALAAwAJwANACUAEQAaABYAIgAjAB0AKQAdADMAKgA0ABkALAAVAB0AGQAaABMAEwALABYAGgATABUAIAAzACEALAAcACkAKgAlABoAHAANAA0ACAAAAP3/EAD///j/+//7/wYAAQAAAPz/CgAAAPn/CAAHAAMAAwD4//z//f/2//n/8//v//X/4//t/97/6//f/+L/5//s//X/8v8IAP//+//5//7/7f/4/+r/4//q//f/7f/u/+T/4v/o/+D/8P/i/+f/3//r/+7/7f/q//n/AQDz/wMACAAFAP7/DgAKAPv/DgD5/wAA8v/z/+//6f/0/+L/6f/p/+T/4f/a/9r/5//p//z/9P/y/+f/3f/p/+n/8f/x//z/8P/m/+z/6P/r//b/6f/1/+X/9f/x//X/9v/1//b/9f/0//P/9P/0//H/9f/r/+L/+f/y/+z/9v8AAP3/AAAKAAYACgANABoABwAWACUAFgAaABsAFAAGABIAEwAXAA8ACAANAAgAAAD4//f/8f8CAPb/AQD7//f//P/z/+3/8//x//3/7P/+/wAA+P////D/8v/6/wEAAAD1/wcA9/8GAP7/DAAHAAQAEgD+/wYAAAAAAPr/9v/4/+f/+//v/+z/6v/t/+X/7P/x//T/9f/4//P/AQD3/+7/+v/9/wMA/P/z/wIABgD3/wkAAgADAAAAAgAGAA4AGAAIABAADQAIAAwAHQANAP3//P/1/+r/9//2//L/AgD+/wkA+f8RAAgAAwADAA0A/v8CAA0AAQAJAA0ACwASABAADwALABYAGwAVABIAAwAWAAUAHQAGAAgABwARAAUACQD9//r/8//8/+n/8P/h/+r/7f/r/wEA+v8NAAcABwAOABkAFQAUACkAEwAgABQABwAeAAAA/v8CAAUACAAMAAkABwASAA4AAAAWAB8ABQAHAAsADwAKAA4AAwANAA4AAAD+//r/CgAMAA8AFwAPABgACwAfACIAGQAgAB8AGQAFAAwAEAARAAQAFwD//wMADwAMAAAADwAOABQAEQAJAP//BAAHAAsAAAD7/wIA7v/8/+f//f/n/+H/4f/f/+j/+f/3/wUAAgALAA0AEAALABoAEwAHAAkABQAIAA4ADgAcABcABgAPABoABwAiABEAEwAVACQAFAAnABMAIQAjAA4ABgAQAA8ACgAQAAsADQD//w0ADQAKAAIACQACAA4AAgAEAA8ADwAPAAwAAwAJAP3/CQAJAPn/AwABAAcABQACABAADgARAAsADwAGABQAHAAbABYAIwAOABcACwAJAAQABwAIAAwA+v/5//f/+v/y/+3/8P/u//D//P/3/wsACQAhAAwACgAVAAQACAD8/wQAAAACAOr/AgDq//f/6//x//r///8BAPj/AAAFAAEAHAAQAA4AFwAQABgABgARABkACgAVABAACgD3//v/8v/r/+P/7f/h/9//1P/b/83/3f/Y/+L/z//b/93/5f/n//f/9v8NAP//9v8HAAoAFwD//yUADgAcACQADAAjABkAGQASAAQAGQAJAAoABwAMAAsADAACAPX/9P/i//P/4//t/+L/7P/p/+r/6f8AAAEACQAaACEAEwAlACgAOQAtACwAJQAeACIAEgANAAMA/v8AAPb/AAAFAAAA/v/+///////5//7//f///w0A8/8AAPP/8P/z/wMA6P/9/+f/9f/3//D/9//3/w4ABwATAAkACAAOACMAGgAVABIAHQAZAB4AIwANAAEABwAFAPX/BwD8/wMA+//x//L/8v/z//T//f8AAAAACAAAAAAACwAKAAUAAgD+//n/8v/v//H/7f/v/+n/4P/u//D/8/8FABEAFQABAAsA+v8GAPP/BgDy//D/7v/f//H/5f/9/+7/+f/p/+3/8P/i/+b/6//q/9X/5v/S/+P/4f/p/+b/4//6/+b//v/8//L/9v/p//f/9f/0/wYAAgALABMACQAHAPT/AgD3/wMA8//u//X/8P/z/9//8//6/+j/7v/j//3/7v/w/+3/6P/w/+3/+P/w//f/6//z//T/+P////r/AAACABEACwAVABIAEgAOABYACAAPAPn/EwAGAAkAAgD2/wIA/P/0//z//f8BAP7//P/7//P/+f/5//v/7v/s/+r/5//t/9b/9P/1//f/8v/x//n/8v/7//j/AAD0//r/9f/0/wYA5//6//f/6v/g//b/8/8LAPb///8EAAEA//8HAP3/AwAHAAYABgACAPP/AQD7/wMA9P/2//z/BgDu//P/BwD5//f/7v/4/////P/u/wAA6f/6/+n//P8GAP3/CQATABcAEAAXABUAGwAYABcAEgANAAEADgD9/woACgAMAAkAFQAVACwAIQAvABcAFgAUAA4AFAAJAAcA9f/x/+b/6v/i//L/+P/8//r/AAAEAA0ABwATAB8AJAAVACUADgAgABcAMQAZACQAJAAiACQAIgAgAB8AJQAjABsAJQAnABsAKwAgACAALAAiABgAHAAWAB0AIwAbABEAGwANAA8ADwAMAAAAFAD9/woA+f8DAP7/AgD3/wwABwAVAA4AGgAtAA0AKwAFACkADwASABgABwAHAAcADQAIAAQAAAAJAAEABQAJAA8AIgATABUAEwAPABoAEgAZAP//FgADAPv/BgD8/wYAAQAAAAUACwAFAAYADAATABUAIgAVACQADwAHAAYAAAADAOj/9//T//D/0P/s/+L/3v/k/+T/5v/s/+3/9P8MAAIA9//4//f/+v8BAPX/+f8FABcA/f8KAAQABgAKAAMADgARABcAEwAMABkACAAUAA4ABAAUAAIAFQASABQAFQAVACkAEwAoACUAIgArACYAHAAjACgAKAAiACYAKgAGACIACgAPABEAFAAOABAACwAVAP//AAD1//X/6v/x/+n/9v/0/+n/8v/r//H/+//7/wAABgAEAAAACAD//wUABgANAAwABwAIAAUAAAD7/+j/5//r/+n/8//e/+j/3P/p/+P/6v/l/+X/6f/t/+X/2//h/9//4v/X/97/6f/4//3/+f8DAP3/DQD5/w4ACQAQAAEAAwDx/wQA+f8DAP3/BwADAPL/+//s//v//v/1//H/9//t//X////w/+f/8//o//P/AAD5////BwAAAAYABwAfACMALAArACgAJAAfAC4AFQAjAAgAEAASABgADQAoACcAFwAmABkALAAkAB8AIwAWAB4ADwAMABEAHAARABgACgAPABcAEgASABwADQAZAA0A/f8LAAAAAgAGAAAAEQD8/////v8AABUACAARABEADAAZAAYAEwACABMAAAAMAAAABwAMAAEA+P/9//3//v/2/+v/+v/3//P/9//z/wQA/////+7///8AAPr/+P/v//X/+v8AAPr//P/w/wgA4//2/+P/+P/d//D/4v/W/+L/5P/q/9n/6v/b/9f/5f/i/9j/8v/l/+v/7/8BAOv/AwD4/wcA9f8BAAgABQAFAPT/+P/e//D/9P/f/93/6f/i/+r/5P/h/+f/8//n/97/+P/j/+D/2v/j/9z/7P/v/+P/4//l/+z/5//h/+//5//p/+L/6f/t//b/8P/8//v/8v8IAAAAEQAKABsAEgAWAB8AEAAVABMAAAAHAPn/7//u/+b/9P/u/+v/8//7//3/AAD3/wYA+/8VAA4AFAARAAwAGQAPACQAIgAgAC4AFAAqACMALgAzABkAJQATACMAFgAfAA0AFwAWAB0AEAAcABMAEAACAAsADwASAPT/+v///wMA8/////3/+v/4/w0A9f8AAAAAAAD1//L/9v/1//f/9f8AAPf/8P/z/wAAAQDs//T/+v/2//f///8DAP///f8IAP//AAAAAPj/+v/w//X/7v/t//r/9v/w//r/BgD4/wEAAgADAPf/FQAOAP//9P/9/wAA9v8GAPH/AwD2/xMAAAABAPL/7P8AAOb/9P/t//H/8f/n//X/5f/y//v/+v8GAAIACAD8/w0AAAABAAUACAADAPv/DQAIAAoADAAXAAcAEwAJAB0AEgASAA0ABwAHAAEABAAQAAkAFAANABUAEwAPABIAEQAJAAAAFAD2/w8A+P8SAAgAHwAdABQAHAAYAB4ALgAjACwAKQAyACEAEAAhABcAGwAVACIAIwAJACEAFAAUAAwABgATAAwAFgD8/w0A/v8VAO//AAABAAAAAwADAAUABAALAAQABAAAAAUADQAQAB4AGgAkABkAKAAdACQAKQAhABYADgALABoAFwASAA8AEQAJAAgACgANACQADwARABYADAALAAAAAgAMAA8A/v8CAP3/8/8AAP7/AQAAAPT/7//1//z/AwAGAAIA8/8AAAoACAAHABUADgANABQAGAALABcAGQARABEACwAbAAsAEQAWABIA//8KAO//CwD1//n/9//s//T/+P/4/+//AAAAAO3/6v/4//z/BQAKAAoA9P/8/wEA9f/+//j/DwD0/w4A+/8CAAgA/f8HAAAAAAAAAP7/BgD8/wIA/f////L/9//4//n/7f/5//P/7//y/+f/7//i/+3/5f/v/+z/8P/v//7/5f/3/+P/5f/k/+//7v/t//b/6P/9//7/AgD3//3/+f/6//T/+f8FAAEAAAAJAPX/EQD//xcACwATAAwACAADAAAA+f/7/wgA+v8EAOv/BQDt////9v/2//D/+//s//H/8//4/wYA+v8VAA4AHwAhAB8ALQAbABwADAAIAAIA8f///+//8f/j/+f/9P/v/+//+v8AAP7//v/0//H/5v/n//D/8f/s////6f8DAOv/DgDx/woA8v/4/+3/8P/1/9r/7//v//D/6v/u//D/AAAAAAAAAwAGABYAAwAMAPz/AgD2//v/BAAFAPX//v/4/w4AAAD7/wMA+v/+//r/DAAQAA8AEgAAAAsAAgD3//v/+v/7/wMA/f/8/93/3f/z/+f/8f/f//b/3v/u//T/9/8DAOf/BAD+/wEADwAPABQADQAMABgABwAYABUAIAAYABkAHwAiACgAIwAjABcAHwAJAAkABgAAAPr/BAD2/+7/AADx//r/+P/o//X/+//z//L/AgABABIA9/8YAAwAHgAbACIALwAiACMACgAMAA0AAgAFAAsACgAcAAYAAAASAP////8FAPb/+P/u//r/7//r//L/9P/x//j//P/t//v/+f/+//L////9//z/9P/x/wYABgADAAQA/f8CAP///f/9//7/BQD2//j/8f/8//T/5v/2/+z/+P/1//T/+v/0//D/+v/s/+3/BQD8/wAA9P/4//r//f8IABIAEgABABAACgATAAkAHAAWACMAIgAjACIAJAA6ACUAMAAfACsANQAnADYAHAAeABUAJQAgAB0AIAAzACkAHAAOABkACgAFAAsADQAEAP//+P8GAAYA+P8AAOn/EAD6//3/AwANAAEABwD///j/AgD///b/CQDz/wIA/f/y/wUADAACAAMACgAEABIABAAKAAUAEwAJABkA/f8TAA4AEAASAPX/BwD9/wUA/v/1//b/8v/o/+v/+//w//D/5v/n//L/7//z/+3/5P/f/+r/8P/w/97/4v8FAPL/9f8BAPr/DwAIAAQAAQAGAAkACwAHAAUA/v8FAAQADQDx//z/+f/8//3/CAAEAAYAEQD+/w4A+/8JAAwAKAAEABEAEwATAAoAEgAQABsACwATAAkACAARAA8ACgAeAP//CQAMAA8ABwATAB0AKQAPACIAGgAdAB8AEQAbABYACwANAA0ADwARABIAEwAFAAsAEwAEAAoA///6/woAAAAHAPj/FAAQAP7/DAANABUAHgAnABYAKwAZACUAJAAjACoAKwAtACkAJgAXACoAIQATAA0AAwABAPH/+P/8//L//f8BAAEA+f/3/wwA/f/8/wsA8f8HAPb//f8AAP3/AAAOABAACwAXAAwAEwAGAA4ACwAHABEAGAAGAPj//f8AAPz/AAAAAAEA/v8CAPb/CQADAAUA8P/0//n/8v/q/+7/5P/m//f/9v8EAAAAAgAGABMAFAASAAQAGwAOAAEADQABAAMACQAEABMAAAAOAAgADQASAAkAFgAAAP//8v8AAP//DAAAABoAHQATAA8A//8lAAUAIAABABEACQAOABgAKAAOACUAJAARABcACQAqAAQACgAHAAAA+v/w/+z/8f/6/+z/+v/0//7/8f/7//T/6v/1//f/7f/m/+b/3f/j/+v/5//n//3/6v/s/+X/0//d/8n/5v/U/9T/2f/W/9j/1f/o//H/7f/+//H/+f/h//P/4P/w/+T/7v/e/+T/8v/l/+n/5P/7//T/8P/y//X/9//x/+j/7//i/97/3//O/9b/8v/f/9n/0//d/+X/5v/o//////8AAAcABAAIABIAHQAjACsAGwAtABgAHQALAPv////0/+7/4P/p/+r/5P/y/+7/8P/1/wAABQD2//r/AwDy/wMA8v8HAAsADwAQAA4AFQATAAcAJAAgAA8AEwARABQADwAJABMA+P8UAAAAFAAHAP3/AwABAP7////6/+r/8//d/woA/f8IAA0ACQAKABcAGAAPABMAGgALABMAEgAOAAoABgAOAAQA///+/wAA/P8EAPz/BwD0/wAA9//7//P/9P/9//L//f/6//z/AAD3//H//v/+/wAADQALAAgA///2//r/7//x/+n/3v/n/9f/6P/h/+f/1v/p/+L/5P/i/+r/8P/t/+z/9v/2/woA+//5/wMA/v8BAAIAAgATAAkAAAAKAPz/CgAFAAMA+//v//b/8v/y/+v/5P/k/+//3f/Z/+j/+f/1//f/7/8IAPn/DAADAAkACAAJAA8AEgAVAAUAGwAPAA8AAwALABMAFgAKABMACAAXABAACQAUAAwAHQASABcABAAYAAwABgD2/wAA+//2/wAABAAEAAoA//8MABUABQAcABEAIwAeABYALgAiACYAKAAkACYAIwAsAB0AGAAbAA8ACQAEAAgAAwAGAPT/+v/+/wwABwANABIAFgAQAA0AGAAKAB8ADgAGABUAEgAJAAsADwAVAA4ALQAQABIAFQAfABQAEQAVABcAEAAKAAAAGAANABkACQAUAA0ACAAMAAQADwAAAA0A+v8HAAEABgARACQAJgAkACwAMQAmACMAKQASABAACQAMAAQA/P8QAP7//f8=\" type=\"audio/x-wav\" />\n",
              "                    Your browser does not support the audio element.\n",
              "                </audio>\n",
              "              "
            ],
            "text/plain": [
              "<IPython.lib.display.Audio object>"
            ]
          },
          "metadata": {
            "tags": []
          },
          "execution_count": 88
        }
      ]
    },
    {
      "cell_type": "code",
      "metadata": {
        "id": "VuO4YoBIxAaw"
      },
      "source": [
        ""
      ],
      "execution_count": null,
      "outputs": []
    },
    {
      "cell_type": "markdown",
      "metadata": {
        "id": "wNB51Uk0W4ZJ"
      },
      "source": [
        "# Approach 2"
      ]
    },
    {
      "cell_type": "code",
      "metadata": {
        "id": "TmZjOY2_WwcG"
      },
      "source": [
        "def get_features(filepath, sr=8000, n_mfcc=30, n_mels=128, frames = 15):\n",
        "    y, sr = librosa.load(filepath, sr=sr)\n",
        "    D = np.abs(librosa.stft(y))**2\n",
        "    S = librosa.feature.melspectrogram(S=D)\n",
        "    S = librosa.feature.melspectrogram(y=y, sr=sr, n_mels=n_mels)\n",
        "    log_S = librosa.power_to_db(S,ref=np.max)\n",
        "    features = librosa.feature.mfcc(S=log_S, n_mfcc=n_mfcc)\n",
        "    if features.shape[1] < frames :\n",
        "        features = np.hstack((features, np.zeros((n_mfcc, frames - features.shape[1]))))\n",
        "    elif features.shape[1] > frames:\n",
        "        features = features[:, :frames]\n",
        "        \n",
        "    # Find 1st order delta_mfcc\n",
        "    delta1_mfcc = librosa.feature.delta(features, order=1)\n",
        "\n",
        "    # Find 2nd order delta_mfcc\n",
        "    delta2_mfcc = librosa.feature.delta(features, order=2)\n",
        "    features = np.hstack((delta1_mfcc.flatten(), delta2_mfcc.flatten()))\n",
        "    features = features.flatten()[np.newaxis, :]\n",
        "    features = Variable(torch.from_numpy(features)).float()\n",
        "       \n",
        "    return features.data.numpy().flatten()\n",
        "\n",
        "audio_labels = [0, 1, 2, 3, 4, 5]\n",
        "def load_data_2():\n",
        "    \n",
        "    x,y=[],[]\n",
        "\n",
        "    for file in glob.glob(\"/content/studio_data/*.wav\", recursive=True):\n",
        "        \n",
        "        file_name = os.path.basename(file)\n",
        "\n",
        "        labels = (int((file_name.split(\"/\")[-1]).split(\"_\")[0]))\n",
        "       \n",
        "        if labels in audio_labels:\n",
        "            feature = get_features(file)\n",
        "            #mfccs = np.mean(librosa.feature.mfcc(y=X, sr=sample_rate, n_mfcc=40).T, axis=0)\n",
        "            #feature = np.hstack((feature, mfccs))\n",
        "\n",
        "            x.append(feature)\n",
        "            y.append(labels)\n",
        "            \n",
        "    return x, y\n",
        "\n",
        "x2, y2 = load_data_2()"
      ],
      "execution_count": null,
      "outputs": []
    },
    {
      "cell_type": "code",
      "metadata": {
        "id": "uqr93Qm8WyK7"
      },
      "source": [
        "features2 = np.array(x2)\n",
        "labels2 = np.array(y2)"
      ],
      "execution_count": null,
      "outputs": []
    },
    {
      "cell_type": "code",
      "metadata": {
        "colab": {
          "base_uri": "https://localhost:8080/"
        },
        "id": "rMM81fTkXs0J",
        "outputId": "a8054645-945a-40d8-b3b9-dcd5f9baff84"
      },
      "source": [
        "features2.shape, labels2.shape"
      ],
      "execution_count": null,
      "outputs": [
        {
          "output_type": "execute_result",
          "data": {
            "text/plain": [
              "((3979, 900), (3979,))"
            ]
          },
          "metadata": {
            "tags": []
          },
          "execution_count": 207
        }
      ]
    },
    {
      "cell_type": "code",
      "metadata": {
        "id": "oqVuM2h1XFTs"
      },
      "source": [
        "from sklearn.preprocessing import LabelEncoder\n",
        "lb = LabelEncoder()\n",
        "labels2 = lb.fit_transform(labels2)\n",
        "\n",
        "from sklearn.preprocessing import StandardScaler\n",
        "scaler2 = StandardScaler()\n",
        "features2 = scaler2.fit_transform(features2)\n",
        "\n",
        "from sklearn.model_selection import train_test_split\n",
        "X_train2, X_test2, y_train2, y_test2 = train_test_split(features2, labels2, test_size = 0.2, random_state=42, shuffle=False)"
      ],
      "execution_count": null,
      "outputs": []
    },
    {
      "cell_type": "code",
      "metadata": {
        "colab": {
          "base_uri": "https://localhost:8080/"
        },
        "id": "XtDaSpxqXP-1",
        "outputId": "612b5014-0314-47e0-853e-39ab04696a4d"
      },
      "source": [
        "# RESHAPE DATA TO INCLUDE 3D TENSOR \n",
        "X_train2_1 = X_train2[:,:,np.newaxis]\n",
        "X_test2_2 = X_test2[:,:,np.newaxis]\n",
        "\n",
        "X_train2.shape, X_test2.shape, X_train2_1.shape, X_test2_2.shape"
      ],
      "execution_count": null,
      "outputs": [
        {
          "output_type": "execute_result",
          "data": {
            "text/plain": [
              "((3183, 900), (796, 900), (3183, 900, 1), (796, 900, 1))"
            ]
          },
          "metadata": {
            "tags": []
          },
          "execution_count": 209
        }
      ]
    },
    {
      "cell_type": "code",
      "metadata": {
        "id": "CxptvLvrYJs6"
      },
      "source": [
        "batch_size =500\n",
        "\n",
        "# The TensorDataset takes an arbitrary number of input tensors.\n",
        "train_dataset2_1 = torch.utils.data.TensorDataset(torch.FloatTensor(X_train2_1),torch.LongTensor(y_train2))\n",
        "test_dataset2_1 = torch.utils.data.TensorDataset(torch.FloatTensor(X_test2_2),torch.LongTensor(y_test2))\n",
        "\n",
        "# Loading the train dataset\n",
        "train_loader2_1 = torch.utils.data.DataLoader(train_dataset2_1, batch_size=batch_size, shuffle = True)\n",
        "test_loader2_1 = torch.utils.data.DataLoader(test_dataset2_1, batch_size=batch_size, shuffle = True)"
      ],
      "execution_count": null,
      "outputs": []
    },
    {
      "cell_type": "code",
      "metadata": {
        "id": "2AY3zg1NYZLE"
      },
      "source": [
        "class Model2(nn.Module):\n",
        "    def __init__(self):\n",
        "        super(Model2, self).__init__()\n",
        "        self.conv1 = nn.Conv1d(in_channels=900, out_channels=400, kernel_size=1 )\n",
        "        self.bn1 = nn.BatchNorm1d(400)\n",
        "        self.pool1 = nn.MaxPool1d(1)\n",
        "        self.conv2 = nn.Conv1d(400, 200, 1)\n",
        "        self.bn2 = nn.BatchNorm1d(200)\n",
        "        self.pool2 = nn.MaxPool1d(1)\n",
        "        self.conv3 = nn.Conv1d(200, 128, 1)\n",
        "        self.bn3 = nn.BatchNorm1d(128)\n",
        "        self.pool3 = nn.MaxPool1d(1)\n",
        "        #self.conv4 = nn.Conv1d(256, 128, 1)\n",
        "        #self.bn4 = nn.BatchNorm1d(128)\n",
        "        #self.pool4 = nn.MaxPool1d(1)\n",
        "        #self.conv5 = nn.Conv1d(256, 128, 1)\n",
        "        #self.bn5 = nn.BatchNorm1d(128)\n",
        "        #self.pool5 = nn.MaxPool1d(1)\n",
        "        self.fc1 = nn.Linear(128, 32)\n",
        "        #self.fc2 = nn.Linear(128, 64)\n",
        "        #self.fc3 = nn.Linear(64, 32)\n",
        "        self.fc4 = nn.Linear(32, 6)\n",
        "        self.dropout = nn.Dropout(p=0.25)\n",
        "\n",
        "    def forward(self, x):\n",
        "   \n",
        "        x = self.conv1(x)\n",
        "        x = self.bn1(x)\n",
        "        x = F.relu(x)\n",
        "        x = self.pool1(x)\n",
        "        \n",
        "        x = self.dropout(x)\n",
        "        x = self.conv2(x)\n",
        "        x = self.bn2(x)\n",
        "        x = F.relu(x)\n",
        "        x = self.pool2(x)\n",
        "       \n",
        "        x = self.conv3(x)\n",
        "        x = self.bn3(x)\n",
        "        x = F.relu(x)\n",
        "        x = self.pool3(x)\n",
        "        \n",
        "        #x = self.conv4(x)\n",
        "        #x = self.bn4(x)\n",
        "        #x = F.relu(x)\n",
        "        #x = self.pool4(x)\n",
        "        #x = self.dropout(x)\n",
        "\n",
        "        #x = self.conv5(x)\n",
        "        #x = self.bn5(x)\n",
        "        #x = self.pool5(x)\n",
        "        \n",
        "        #x = self.dropout(x)\n",
        "       \n",
        "        x = x.view(-1, 128)\n",
        "        x = self.fc1(x)\n",
        "        #x = self.fc2(x)\n",
        "        #x = self.fc3(x)\n",
        "        x = self.fc4(x)\n",
        "        x = F.log_softmax(x, dim=1)\n",
        "        return x      \n",
        "      "
      ],
      "execution_count": null,
      "outputs": []
    },
    {
      "cell_type": "code",
      "metadata": {
        "colab": {
          "base_uri": "https://localhost:8080/"
        },
        "id": "1H143-uZY5gY",
        "outputId": "90d33e3d-f14b-4dda-e7e0-4119ddb74d81"
      },
      "source": [
        "model2 = Model2()\n",
        "#model = M5()\n",
        "print(model2)\n",
        "cnn_model= cnn_model.to(device)\n",
        "# YOUR CODE HERE to convert your model to runtime cuda\n",
        "\n",
        "criterion2 = nn.CrossEntropyLoss()# YOUR CODE HERE : Explore and declare loss function\n",
        "\n",
        "optimizer2 = torch.optim.Adam(model2.parameters(), lr=0.017)"
      ],
      "execution_count": null,
      "outputs": [
        {
          "output_type": "stream",
          "text": [
            "Model2(\n",
            "  (conv1): Conv1d(900, 400, kernel_size=(1,), stride=(1,))\n",
            "  (bn1): BatchNorm1d(400, eps=1e-05, momentum=0.1, affine=True, track_running_stats=True)\n",
            "  (pool1): MaxPool1d(kernel_size=1, stride=1, padding=0, dilation=1, ceil_mode=False)\n",
            "  (conv2): Conv1d(400, 200, kernel_size=(1,), stride=(1,))\n",
            "  (bn2): BatchNorm1d(200, eps=1e-05, momentum=0.1, affine=True, track_running_stats=True)\n",
            "  (pool2): MaxPool1d(kernel_size=1, stride=1, padding=0, dilation=1, ceil_mode=False)\n",
            "  (conv3): Conv1d(200, 128, kernel_size=(1,), stride=(1,))\n",
            "  (bn3): BatchNorm1d(128, eps=1e-05, momentum=0.1, affine=True, track_running_stats=True)\n",
            "  (pool3): MaxPool1d(kernel_size=1, stride=1, padding=0, dilation=1, ceil_mode=False)\n",
            "  (fc1): Linear(in_features=128, out_features=32, bias=True)\n",
            "  (fc4): Linear(in_features=32, out_features=6, bias=True)\n",
            "  (dropout): Dropout(p=0.25, inplace=False)\n",
            ")\n"
          ],
          "name": "stdout"
        }
      ]
    },
    {
      "cell_type": "code",
      "metadata": {
        "colab": {
          "base_uri": "https://localhost:8080/"
        },
        "id": "39PpTMmDZCem",
        "outputId": "0b0af934-c2f0-466b-c503-a7b7d0e41e61"
      },
      "source": [
        "num_epochs = 20\n",
        "model2.train()\n",
        "\n",
        "#Define the lists to store the results of loss and accuracy\n",
        "train_loss2 = []\n",
        "train_accuracy2, test_accuracy2 = [], []\n",
        "\n",
        "for epoch in range(num_epochs): \n",
        "    correct = 0\n",
        "    iter_loss = 0.0\n",
        "    \n",
        "    for (inputs, labels) in train_loader2_1:\n",
        "\n",
        "        inputs = inputs.to(device)\n",
        "        t_labels2 = labels.to(device)\n",
        "        \n",
        "        optimizer2.zero_grad() \n",
        "        outputs2 = model2(inputs)       \n",
        "        loss = criterion2(outputs2, t_labels2)  \n",
        "        iter_loss += loss.item()     \n",
        "        loss.backward()                \n",
        "        optimizer2.step()       \n",
        "        _, t_predicted2 = torch.max(outputs2, 1)\n",
        "        correct += (t_predicted2 == t_labels2).sum()\n",
        "        #print(t_predicted, t_labels)\n",
        "    train_loss2.append(iter_loss/len(train_dataset2_1))\n",
        "    train_accuracy2.append((100 * correct / len(train_dataset2_1)))\n",
        "    print ('Epoch {}/{}, Training Loss: {:.3f}, Training Accuracy: {:.3f}'.format(epoch+1, num_epochs, train_loss2[-1], train_accuracy2[-1]))\n",
        "    "
      ],
      "execution_count": null,
      "outputs": [
        {
          "output_type": "stream",
          "text": [
            "Epoch 1/20, Training Loss: 0.004, Training Accuracy: 28.998\n",
            "Epoch 2/20, Training Loss: 0.002, Training Accuracy: 58.278\n",
            "Epoch 3/20, Training Loss: 0.002, Training Accuracy: 74.615\n",
            "Epoch 4/20, Training Loss: 0.001, Training Accuracy: 79.548\n",
            "Epoch 5/20, Training Loss: 0.001, Training Accuracy: 84.417\n",
            "Epoch 6/20, Training Loss: 0.001, Training Accuracy: 88.533\n",
            "Epoch 7/20, Training Loss: 0.001, Training Accuracy: 90.732\n",
            "Epoch 8/20, Training Loss: 0.000, Training Accuracy: 92.931\n",
            "Epoch 9/20, Training Loss: 0.000, Training Accuracy: 94.094\n",
            "Epoch 10/20, Training Loss: 0.000, Training Accuracy: 93.811\n",
            "Epoch 11/20, Training Loss: 0.000, Training Accuracy: 94.094\n",
            "Epoch 12/20, Training Loss: 0.000, Training Accuracy: 95.130\n",
            "Epoch 13/20, Training Loss: 0.000, Training Accuracy: 95.947\n",
            "Epoch 14/20, Training Loss: 0.000, Training Accuracy: 96.418\n",
            "Epoch 15/20, Training Loss: 0.000, Training Accuracy: 96.953\n",
            "Epoch 16/20, Training Loss: 0.000, Training Accuracy: 96.890\n",
            "Epoch 17/20, Training Loss: 0.000, Training Accuracy: 97.015\n",
            "Epoch 18/20, Training Loss: 0.000, Training Accuracy: 96.701\n",
            "Epoch 19/20, Training Loss: 0.000, Training Accuracy: 96.733\n",
            "Epoch 20/20, Training Loss: 0.000, Training Accuracy: 96.199\n"
          ],
          "name": "stdout"
        }
      ]
    },
    {
      "cell_type": "code",
      "metadata": {
        "colab": {
          "base_uri": "https://localhost:8080/"
        },
        "id": "PXZlqPjdZgNP",
        "outputId": "76222add-0353-424a-ca74-600e8830ae20"
      },
      "source": [
        "model2.eval()\n",
        "\n",
        "Test_accuracy2=0\n",
        "for images, labels in test_loader2_1:\n",
        "    \n",
        "      # Convert the images and labels to Pytorch tensor \n",
        "      test_images = images.to(device)\n",
        "      test_labels2 = labels.to(device)\n",
        "\n",
        "      # Passing images to the model, which return the probabilites as outputs\n",
        "      test_output2 = model2(test_images) \n",
        "\n",
        "      # Picking the class/label with maximum probability                                                                 \n",
        "      _, test_predicted2 = torch.max(test_output2, 1)\n",
        "      Test_accuracy2 += (test_predicted2 == test_labels2).sum().item()\n",
        "      #print(predicted, labels)\n",
        "      #print(Test_accuracy)\n",
        "#print(classification_report(labels, predicted))\n",
        "# Calculating the accuracy\n",
        "Accuracy = 100 * (Test_accuracy2/ (len(test_dataset2_1)))\n",
        "print(\"Accuracy of Test Data is\", Accuracy) "
      ],
      "execution_count": null,
      "outputs": [
        {
          "output_type": "stream",
          "text": [
            "Accuracy of Test Data is 81.28140703517587\n"
          ],
          "name": "stdout"
        }
      ]
    },
    {
      "cell_type": "code",
      "metadata": {
        "colab": {
          "base_uri": "https://localhost:8080/"
        },
        "id": "aqe-7cgOZyi2",
        "outputId": "a2ae6c02-a260-43e7-e473-0c2dc7226226"
      },
      "source": [
        "from sklearn.metrics import classification_report\n",
        "print(classification_report(test_labels2.cpu(), test_predicted2.cpu()))"
      ],
      "execution_count": null,
      "outputs": [
        {
          "output_type": "stream",
          "text": [
            "              precision    recall  f1-score   support\n",
            "\n",
            "           0       0.70      0.78      0.74        45\n",
            "           1       0.88      0.83      0.85        60\n",
            "           2       0.80      0.66      0.73        50\n",
            "           3       0.87      0.80      0.84        41\n",
            "           4       0.81      0.88      0.84        58\n",
            "           5       0.72      0.81      0.76        42\n",
            "\n",
            "    accuracy                           0.80       296\n",
            "   macro avg       0.80      0.79      0.79       296\n",
            "weighted avg       0.80      0.80      0.80       296\n",
            "\n"
          ],
          "name": "stdout"
        }
      ]
    },
    {
      "cell_type": "code",
      "metadata": {
        "colab": {
          "base_uri": "https://localhost:8080/"
        },
        "id": "dGzbb9wFaYRj",
        "outputId": "8b929842-5089-4775-cd60-c414f4488bc5"
      },
      "source": [
        "for file in glob.glob(\"/content/team_data/*.wav\", recursive=True):\n",
        "        \n",
        "    file_name=os.path.basename(file)\n",
        "    team_labels = (int((file_name.split(\"/\")[-1]).split(\"_\")[0]))\n",
        "    input_audio_path = '/content/team_data/'+file_name\n",
        "    f2 = get_features(input_audio_path)\n",
        "\n",
        "    f2 = f2.flatten()[:, np.newaxis]\n",
        "    f2 = scaler.fit_transform(f2)\n",
        "    print(f2.shape)\n",
        "    f2 = Variable(torch.from_numpy(f2)).float()\n",
        "    image_tensor2 = f2.unsqueeze(0)\n",
        "    print(image_tensor2.shape)\n",
        "    m2 = model2.cpu()\n",
        "    m2.eval()\n",
        "    output20 = m2(image_tensor2)\n",
        "    print(output20)\n",
        "    #Uncomment the below lines\n",
        "    predicted_label2 = torch.max(output20,1)\n",
        "    print(\"PREDICTION\",team_labels, predicted_label2.indices)\n",
        "    print('/n')"
      ],
      "execution_count": null,
      "outputs": [
        {
          "output_type": "stream",
          "text": [
            "(900, 1)\n",
            "torch.Size([1, 900, 1])\n",
            "tensor([[-2.6278e+01, -1.4033e+01, -2.5806e+01, -1.7168e+01, -2.2461e+01,\n",
            "         -8.3446e-07]], grad_fn=<LogSoftmaxBackward>)\n",
            "PREDICTION 5 tensor([5])\n",
            "/n\n",
            "(900, 1)\n",
            "torch.Size([1, 900, 1])\n",
            "tensor([[-2.2066e+01, -4.5831e+00, -2.1366e+01, -2.4878e+01, -1.4972e-02,\n",
            "         -5.3737e+00]], grad_fn=<LogSoftmaxBackward>)\n",
            "PREDICTION 4 tensor([4])\n",
            "/n\n",
            "(900, 1)\n",
            "torch.Size([1, 900, 1])\n",
            "tensor([[ -7.1555, -11.7024,  -0.9767, -18.0067,  -0.4737, -17.2812]],\n",
            "       grad_fn=<LogSoftmaxBackward>)\n",
            "PREDICTION 0 tensor([4])\n",
            "/n\n",
            "(900, 1)\n",
            "torch.Size([1, 900, 1])\n",
            "tensor([[-1.5919e+01, -9.1074e+00, -1.1489e+01, -1.9872e+01, -1.2278e-04,\n",
            "         -1.3393e+01]], grad_fn=<LogSoftmaxBackward>)\n",
            "PREDICTION 4 tensor([4])\n",
            "/n\n",
            "(900, 1)\n",
            "torch.Size([1, 900, 1])\n",
            "tensor([[-15.6239,  -0.0594, -13.7913, -15.5501, -12.6664,  -2.8536]],\n",
            "       grad_fn=<LogSoftmaxBackward>)\n",
            "PREDICTION 1 tensor([1])\n",
            "/n\n",
            "(900, 1)\n",
            "torch.Size([1, 900, 1])\n",
            "tensor([[-17.7269,  -0.5115, -17.9959, -15.3617, -17.4260,  -0.9153]],\n",
            "       grad_fn=<LogSoftmaxBackward>)\n",
            "PREDICTION 1 tensor([1])\n",
            "/n\n",
            "(900, 1)\n",
            "torch.Size([1, 900, 1])\n",
            "tensor([[-10.6049,  -0.4918,  -1.2619, -13.6004,  -2.2507, -12.7911]],\n",
            "       grad_fn=<LogSoftmaxBackward>)\n",
            "PREDICTION 2 tensor([1])\n",
            "/n\n",
            "(900, 1)\n",
            "torch.Size([1, 900, 1])\n",
            "tensor([[-1.2347e+01, -2.7742e+01, -1.7280e+01, -4.5299e-06, -3.1724e+01,\n",
            "         -1.6486e+01]], grad_fn=<LogSoftmaxBackward>)\n",
            "PREDICTION 3 tensor([3])\n",
            "/n\n",
            "(900, 1)\n",
            "torch.Size([1, 900, 1])\n",
            "tensor([[-1.0865e+01, -7.0639e+00, -1.4530e-02, -1.3375e+01, -4.3015e+00,\n",
            "         -1.5305e+01]], grad_fn=<LogSoftmaxBackward>)\n",
            "PREDICTION 2 tensor([2])\n",
            "/n\n",
            "(900, 1)\n",
            "torch.Size([1, 900, 1])\n",
            "tensor([[ -0.0945, -14.7699,  -3.4527, -16.9098,  -2.8391, -17.5098]],\n",
            "       grad_fn=<LogSoftmaxBackward>)\n",
            "PREDICTION 0 tensor([0])\n",
            "/n\n",
            "(900, 1)\n",
            "torch.Size([1, 900, 1])\n",
            "tensor([[-2.4118e+01, -1.5931e+01, -2.4924e+01, -1.5662e+01, -2.4724e+01,\n",
            "         -2.3842e-07]], grad_fn=<LogSoftmaxBackward>)\n",
            "PREDICTION 5 tensor([5])\n",
            "/n\n",
            "(900, 1)\n",
            "torch.Size([1, 900, 1])\n",
            "tensor([[-1.1218e+01, -2.5520e+01, -1.2536e+01, -1.7881e-05, -2.8650e+01,\n",
            "         -1.4046e+01]], grad_fn=<LogSoftmaxBackward>)\n",
            "PREDICTION 3 tensor([3])\n",
            "/n\n"
          ],
          "name": "stdout"
        }
      ]
    },
    {
      "cell_type": "code",
      "metadata": {
        "id": "36K1NarXa0su"
      },
      "source": [
        "state = {'net_dict': model2.state_dict()}\n",
        "torch.save(state, 'model2.t7')"
      ],
      "execution_count": null,
      "outputs": []
    },
    {
      "cell_type": "code",
      "metadata": {
        "id": "TblMOrJTdOXq"
      },
      "source": [
        ""
      ],
      "execution_count": null,
      "outputs": []
    }
  ]
}